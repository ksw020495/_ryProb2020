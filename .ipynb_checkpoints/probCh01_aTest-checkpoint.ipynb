{
 "cells": [
  {
   "cell_type": "markdown",
   "metadata": {},
   "source": [
    "# probCh01_aTest\n",
    "\n",
    "## 請將下面問題用中文描述重點(或完整翻譯)後，運用數學技能解決之。\n",
    "\n",
    "###  (Open Books, Computers, Smart-phones of `your own`.)\n",
    "###  (No communication between classmates)\n",
    "\n",
    "----\n",
    "\n",
    "###  After class, every student takes this exam paper as a homework, finish it and upload your result as a `pdf` file to the `CGU E-learning site`\n",
    "\n",
    "- use the filename as \n",
    "- `學號_姓名.pdf`\n",
    "\n",
    "----"
   ]
  },
  {
   "cell_type": "markdown",
   "metadata": {},
   "source": [
    "## [1] <!-- (ry2.103) -->\n",
    "\n",
    "A truth serum has the property that 90% of the guilty suspects are properly judged while, of course, 10% of the guilty suspects are improperly found innocent. \n",
    "\n",
    "On the other hand, innocent suspects are misjudged 1% of the time. \n",
    "\n",
    "If the suspect was selected from a group of suspects of which only 5% have ever committed a crime, and the serum indicates that he is guilty, what is the probability that he is innocent?\n",
    "\n",
    "----"
   ]
  },
  {
   "cell_type": "markdown",
   "metadata": {},
   "source": [
    "## [2] <!-- (ry2.118) -->\n",
    "\n",
    "A certain form of cancer is known to be found in women over 60 with probability 0.07. \n",
    "\n",
    "A blood test exists for the detection of the disease, but the test is not infallible. \n",
    "\n",
    "In fact, it is known that 10% of the time the test gives a false negative (i.e., the test incorrectly gives a negative result) and 5% of the time the test gives a false positive (i.e., incorrectly gives a positive result). \n",
    "\n",
    "If a woman over 60 is known to have taken the test and received a favorable (i.e., negative) result, what is the probability that she has the disease?\n",
    "\n",
    "----\n"
   ]
  },
  {
   "cell_type": "markdown",
   "metadata": {},
   "source": [
    "## [3] <!-- (ry02.126 ) -->\n",
    "\n",
    "During bad economic times, industrial workers are dismissed and are often replaced by machines. The history of 200 workers whose loss of employment is attributable to technological advances is reviewed. \n",
    "\n",
    "For each of these individuals, it is determined if he or she was given an alternative job in a new field within the same company, found a job in the same field in a new company, found a job in a new field in a new company, or has been unemployed (losing jobs) for 1 year. \n",
    "\n",
    "In addition, whether a worker is a member of the Union or not is called the `Union/Non-union` status of each worker. Such information is also recorded. \n",
    "\n",
    "The following table summarizes the results.\n",
    "\n",
    ".. | Union | Non-union\n",
    "-- |----|----\n",
    "Same Company  (new  field) | 10  | 05\n",
    "New  Company  (same field) | 10  | 10\n",
    "New  Company  (new  field) | 20  | 10\n",
    "Unemployed (losing jobs)   | 20  | 15\n",
    "\n",
    "(a) What is the probability that a worker could lose jobs during this bad economic time?\n",
    "\n",
    "(b) If the selected worker found a job with a new company, what is the probability that the worker is a Union member?\n",
    "\n",
    "(c) If the worker is a Union member, what is the probability that the worker found a job in a new company?\n",
    "\n",
    "(d) If the worker is not a Union member, what is the probability that the worker has been unemployed (losing jobs)?\n",
    "\n",
    "(e) Do you think that becoming a Union member will help lower down the probability of losing jobs? why?\n",
    "\n",
    "\n",
    "----\n"
   ]
  },
  {
   "cell_type": "markdown",
   "metadata": {},
   "source": [
    "----\n",
    "\n",
    "<!---\n",
    "[probTest01.xslx](./probTest01.xlsx)\n",
    "![](fg/fg_probTest01.png)\n",
    "--->\n",
    "\n"
   ]
  }
 ],
 "metadata": {
  "kernelspec": {
   "display_name": "Python 3",
   "language": "python",
   "name": "python3"
  },
  "language_info": {
   "codemirror_mode": {
    "name": "ipython",
    "version": 3
   },
   "file_extension": ".py",
   "mimetype": "text/x-python",
   "name": "python",
   "nbconvert_exporter": "python",
   "pygments_lexer": "ipython3",
   "version": "3.7.4"
  },
  "latex_envs": {
   "LaTeX_envs_menu_present": true,
   "autoclose": false,
   "autocomplete": true,
   "bibliofile": "biblio.bib",
   "cite_by": "apalike",
   "current_citInitial": 1,
   "eqLabelWithNumbers": true,
   "eqNumInitial": 1,
   "hotkeys": {
    "equation": "Ctrl-E",
    "itemize": "Ctrl-I"
   },
   "labels_anchors": false,
   "latex_user_defs": false,
   "report_style_numbering": false,
   "user_envs_cfg": false
  },
  "nbTranslate": {
   "displayLangs": [
    "zh-TW",
    "en"
   ],
   "hotkey": "alt-t",
   "langInMainMenu": true,
   "sourceLang": "en",
   "targetLang": "zh-TW",
   "useGoogleTranslate": true
  },
  "toc": {
   "base_numbering": 1,
   "nav_menu": {},
   "number_sections": false,
   "sideBar": true,
   "skip_h1_title": false,
   "title_cell": "Table of Contents",
   "title_sidebar": "Contents",
   "toc_cell": false,
   "toc_position": {
    "height": "calc(100% - 180px)",
    "left": "10px",
    "top": "150px",
    "width": "165px"
   },
   "toc_section_display": true,
   "toc_window_display": false
  },
  "varInspector": {
   "cols": {
    "lenName": 16,
    "lenType": 16,
    "lenVar": 40
   },
   "kernels_config": {
    "python": {
     "delete_cmd_postfix": "",
     "delete_cmd_prefix": "del ",
     "library": "var_list.py",
     "varRefreshCmd": "print(var_dic_list())"
    },
    "r": {
     "delete_cmd_postfix": ") ",
     "delete_cmd_prefix": "rm(",
     "library": "var_list.r",
     "varRefreshCmd": "cat(var_dic_list()) "
    }
   },
   "types_to_exclude": [
    "module",
    "function",
    "builtin_function_or_method",
    "instance",
    "_Feature"
   ],
   "window_display": false
  }
 },
 "nbformat": 4,
 "nbformat_minor": 2
}
