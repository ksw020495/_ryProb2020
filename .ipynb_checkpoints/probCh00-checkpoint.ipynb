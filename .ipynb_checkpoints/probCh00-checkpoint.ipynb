{
 "cells": [
  {
   "cell_type": "markdown",
   "metadata": {},
   "source": [
    "【Home】 ..\n",
    "[Local](./probCh00.ipynb),\n",
    "[Github](https://github.com/renyuanL/_ryProb2020/blob/master/probCh00.ipynb),\n",
    "[Colab](https://colab.research.google.com/github/renyuanL/_ryProb2020/blob/master/probCh00.ipynb).\n",
    "[Youtube](https://youtu.be/alWq_VtP2gc)\n",
    "\n",
    "----\n"
   ]
  },
  {
   "cell_type": "markdown",
   "metadata": {},
   "source": [
    "# Course: `Probability & Statistics`"
   ]
  },
  {
   "cell_type": "markdown",
   "metadata": {},
   "source": [
    "### Renyuan Lyu, (呂仁園)\n",
    "\n",
    "\n",
    "### https://github.com/renyuanL\n",
    "\n",
    "### 課程教材 在此\n",
    "\n",
    "1. Google Search: `\"Renyuan Lyu Github\"`\n",
    "2. `_ryProb2020/probCh00.ipynb`\n",
    "\n",
    "###  https://github.com/renyuanL/_ryProb2020/blob/master/probCh00.ipynb\n",
    "\n",
    "----"
   ]
  },
  {
   "cell_type": "markdown",
   "metadata": {},
   "source": [
    "# TextBook: "
   ]
  },
  {
   "cell_type": "markdown",
   "metadata": {},
   "source": [
    "### `Essentials of Probability & Statistics for Engineers & Scientists`"
   ]
  },
  {
   "cell_type": "markdown",
   "metadata": {},
   "source": [
    "by\n",
    "- Ronald E. Walpole\n",
    "- Raymond Myers\n",
    "- Sharon L. Myers, Virginia Polytechnic Institute & State University\n",
    "- Keying E. Ye, Virginia Polytechnic Institute & State University\n",
    "\n",
    "----"
   ]
  },
  {
   "cell_type": "markdown",
   "metadata": {},
   "source": [
    "英文(原文)：https://www.tsanghai.com.tw/book_detail.php?c=155&no=3046#p=1\n",
    "\n",
    "中文(翻譯): by 繆紹綱,\n",
    "https://www.tsanghai.com.tw/book_detail.php?c=155&no=3139#p=1\n",
    "\n",
    "代理書店： 滄海書局\n",
    "\n",
    "![](fg00.00.png)\n",
    "![](https://images-na.ssl-images-amazon.com/images/I/51XwlTYhyGL.jpg)"
   ]
  },
  {
   "cell_type": "markdown",
   "metadata": {
    "cell_style": "center"
   },
   "source": [
    "# Table of Contents"
   ]
  },
  {
   "cell_type": "markdown",
   "metadata": {},
   "source": [
    "## 1. Introduction to Statistics and Probability\n",
    "\n",
    "[Local](./probCh01.ipynb)\n",
    "[Github](https://github.com/renyuanL/_ryProb2020/blob/master/probCh01.ipynb)\n",
    "[Colab](https://colab.research.google.com/github/renyuanL/_ryProb2020/blob/master/probCh01.ipynb)\n",
    "\n",
    "----"
   ]
  },
  {
   "cell_type": "code",
   "execution_count": 2,
   "metadata": {},
   "outputs": [
    {
     "data": {
      "image/jpeg": "[encoded data removed]",
      "text/html": [
       "\n",
       "        <iframe\n",
       "            width=\"400\"\n",
       "            height=\"300\"\n",
       "            src=\"https://www.youtube.com/embed/alWq_VtP2gc\"\n",
       "            frameborder=\"0\"\n",
       "            allowfullscreen\n",
       "        ></iframe>\n",
       "        "
      ],
      "text/plain": [
       "<IPython.lib.display.YouTubeVideo at 0x2383c544248>"
      ]
     },
     "execution_count": 2,
     "metadata": {},
     "output_type": "execute_result"
    }
   ],
   "source": [
    "from IPython.display import YouTubeVideo    \n",
    "\n",
    "YouTubeVideo(\"alWq_VtP2gc\")"
   ]
  },
  {
   "cell_type": "markdown",
   "metadata": {},
   "source": [
    "   * 1.1 Overview: Statistical Inference, Samples, Populations, and the Role of Probability\n",
    "   * 1.2 Sampling Procedures; Collection of Data\n",
    "   * 1.3 Discrete and Continuous Data.\n",
    "   * 1.4 Probability: Sample Space and Events\n",
    "       *             Exercises\n",
    "   * 1.5 Counting Sample Points\n",
    "       *             Exercises\n",
    "   * 1.6 Probability of an Event\n",
    "   * 1.7 Additive Rules\n",
    "       *             Exercises\n",
    "   * 1.8 Conditional Probability, Independence, and the Product Rule\n",
    "       *             Exercises\n",
    "   * 1.9 Bayes' Rule\n",
    "       *             Exercises\n",
    "       *             Review Exercises"
   ]
  },
  {
   "cell_type": "markdown",
   "metadata": {
    "heading_collapsed": true
   },
   "source": [
    "## 2. Random Variables, Distributions, and Expectations\n",
    "\n",
    "[Local](./probCh02.ipynb)\n",
    "[Github](https://github.com/renyuanL/_ryProb2020/blob/master/probCh02.ipynb)\n",
    "[Colab](https://colab.research.google.com/github/renyuanL/_ryProb2020/blob/master/probCh02.ipynb)\n"
   ]
  },
  {
   "cell_type": "markdown",
   "metadata": {
    "hidden": true
   },
   "source": [
    "   - 2.1 Concept of a Random Variable\n",
    "   - 2.2 Discrete Probability Distributions\n",
    "   - 2.3 Continuous Probability Distributions\n",
    "       -             Exercises\n",
    "   - 2.4 Joint Probability Distributions\n",
    "       -             Exercises\n",
    "   - 2.5 Mean of a Random Variable\n",
    "       -             Exercises\n",
    "   - 2.6 Variance and Covariance of Random Variables.\n",
    "       -             Exercises\n",
    "   - 2.7 Means and Variances of Linear Combinations of Random Variables\n",
    "       -             Exercises\n",
    "   -     Review Exercises\n",
    "   - 2.8 Potential Misconceptions and Hazards; Relationship to Material in Other Chapters"
   ]
  },
  {
   "cell_type": "markdown",
   "metadata": {
    "heading_collapsed": true
   },
   "source": [
    "## 3. Some Probability Distributions\n",
    "\n",
    "[Local](./probCh03.ipynb)\n",
    "[Github](https://github.com/renyuanL/_ryProb2020/blob/master/probCh03.ipynb)\n",
    "[Colab](https://colab.research.google.com/github/renyuanL/_ryProb2020/blob/master/probCh03.ipynb)\n"
   ]
  },
  {
   "cell_type": "markdown",
   "metadata": {
    "hidden": true
   },
   "source": [
    "   - 3.1 Introduction and Motivation\n",
    "   - 3.2 Binomial and Multinomial Distributions\n",
    "       -             Exercises\n",
    "   - 3.3 Hypergeometric Distribution\n",
    "       -             Exercises\n",
    "   - 3.4 Negative Binomial and Geometric Distributions\n",
    "   - 3.5 Poisson Distribution and the Poisson Process\n",
    "       -             Exercises\n",
    "   - 3.6 Continuous Uniform Distribution\n",
    "   - 3.7 Normal Distribution\n",
    "   - 3.8 Areas under the Normal Curve\n",
    "   - 3.9 Applications of the Normal Distribution\n",
    "       -             Exercises\n",
    "   - 3.10 Normal Approximation to the Binomial\n",
    "       -             Exercises\n",
    "   - 3.11 Gamma and Exponential Distributions\n",
    "   - 3.12 Chi-Squared Distribution.\n",
    "       -             Exercises\n",
    "   -             Review Exercises\n",
    "   - 3.13 Potential Misconceptions and Hazards; Relationship to Material in Other Chapters"
   ]
  },
  {
   "cell_type": "markdown",
   "metadata": {
    "heading_collapsed": true
   },
   "source": [
    "## 4. Sampling Distributions and Data Descriptions\n",
    "\n",
    "[Local](./probCh04.ipynb)\n",
    "[Github](https://github.com/renyuanL/_ryProb2020/blob/master/probCh04.ipynb)\n",
    "[Colab](https://colab.research.google.com/github/renyuanL/_ryProb2020/blob/master/probCh04.ipynb)\n"
   ]
  },
  {
   "cell_type": "markdown",
   "metadata": {
    "hidden": true
   },
   "source": [
    "   - 4.1 Random Sampling\n",
    "   - 4.2 Some Important Statistics\n",
    "       -             Exercises\n",
    "   - 4.3 Sampling Distributions\n",
    "   - 4.4 Sampling Distribution of Means and the Central Limit Theorem\n",
    "       -             Exercises\n",
    "   - 4.5 Sampling Distribution of S2\n",
    "   - 4.6 t-Distribution\n",
    "   - 4.7 F-Distribution\n",
    "   - 4.8 Graphical Presentation\n",
    "       -             Exercises\n",
    "   -             Review Exercises\n",
    "   - 4.9 Potential Misconceptions and Hazards; Relationship to Material in Other Chapters"
   ]
  },
  {
   "cell_type": "markdown",
   "metadata": {
    "heading_collapsed": true
   },
   "source": [
    "## 5. One- and Two-Sample Estimation Problems"
   ]
  },
  {
   "cell_type": "markdown",
   "metadata": {
    "hidden": true
   },
   "source": [
    "   - 5.1 Introduction\n",
    "   - 5.2 Statistical Inference\n",
    "   - 5.3 Classical Methods of Estimation.\n",
    "   - 5.4 Single Sample: Estimating the Mean\n",
    "   - 5.5 Standard Error of a Point Estimate\n",
    "   - 5.6 Prediction Intervals\n",
    "   - 5.7 Tolerance Limits\n",
    "       -             Exercises\n",
    "   - 5.8 Two Samples: Estimating the Difference between Two Means\n",
    "   - 5.9 Paired Observations\n",
    "       -             Exercises\n",
    "   - 5.10 Single Sample: Estimating a Proportion\n",
    "   - 5.11 Two Samples: Estimating the Difference between Two Proportions\n",
    "       -             Exercises\n",
    "   - 5.12 Single Sample: Estimating the Variance\n",
    "       -             Exercises\n",
    "   -             Review Exercises\n",
    "   - 5.13 Potential Misconceptions and Hazards; Relationship to Material in Other Chapters"
   ]
  },
  {
   "cell_type": "markdown",
   "metadata": {
    "heading_collapsed": true
   },
   "source": [
    "## 6. One- and Two-Sample Tests of Hypotheses."
   ]
  },
  {
   "cell_type": "markdown",
   "metadata": {
    "hidden": true
   },
   "source": [
    "   - 6.1 Statistical Hypotheses: General Concepts\n",
    "   - 6.2 Testing a Statistical Hypothesis\n",
    "   - 6.3 The Use of P-Values for Decision Making in Testing Hypotheses\n",
    "       -             Exercises\n",
    "   - 6.4 Single Sample: Tests Concerning a Single Mean\n",
    "   - 6.5 Two Samples: Tests on Two Means\n",
    "   - 6.6 Choice of Sample Size for Testing Means\n",
    "   - 6.7 Graphical Methods for Comparing Means\n",
    "       -             Exercises\n",
    "   - 6.8 One Sample: Test on a Single Proportion.\n",
    "   - 6.9 Two Samples: Tests on Two Proportions\n",
    "       -             Exercises\n",
    "   - 6.10 Goodness-of-Fit Test\n",
    "   - 6.11 Test for Independence (Categorical Data)\n",
    "   - 6.12 Test for Homogeneity\n",
    "   - 6.13 Two-Sample Case Study\n",
    "       -             Exercises\n",
    "   -             Review Exercises\n",
    "   - 6.14 Potential Misconceptions and Hazards;Relationship to Material in Other Chapters"
   ]
  },
  {
   "cell_type": "markdown",
   "metadata": {
    "heading_collapsed": true
   },
   "source": [
    "## 7. Linear Regression"
   ]
  },
  {
   "cell_type": "markdown",
   "metadata": {
    "hidden": true
   },
   "source": [
    "   - 7.1 Introduction to Linear Regression\n",
    "   - 7.2 The Simple Linear Regression (SLR) Model and the Least Squares Method.\n",
    "       -             Exercises\n",
    "   - 7.3 Inferences Concerning the Regression Coefficients.\n",
    "   - 7.4 Prediction\n",
    "       -             Exercises\n",
    "   - 7.5 Analysis-of-Variance Approach\n",
    "   - 7.6 Test for Linearity of Regression: Data with Repeated Observations\n",
    "       -             Exercises\n",
    "   - 7.7 Diagnostic Plots of Residuals: Graphical Detection of Violation of Assumptions\n",
    "   - 7.8 Correlation\n",
    "   - 7.9 Simple Linear Regression Case Study.\n",
    "       -             Exercises\n",
    "   - 7.10 Multiple Linear Regression and Estimation of the Coefficients\n",
    "       -             Exercises\n",
    "   - 7.11 Inferences in Multiple Linear Regression\n",
    "       -             Exercises\n",
    "   -             Review Exercises"
   ]
  },
  {
   "cell_type": "markdown",
   "metadata": {
    "heading_collapsed": true
   },
   "source": [
    "## 8. One-Factor Experiments: General"
   ]
  },
  {
   "cell_type": "markdown",
   "metadata": {
    "hidden": true
   },
   "source": [
    "   - 8.1 Analysis-of-Variance Technique and the Strategy of Experimental Design\n",
    "   - 8.2 One-Way Analysis of Variance (One-Way ANOVA): Completely Randomized Design\n",
    "   - 8.3 Tests for the Equality of Several Variances\n",
    "       -             Exercises\n",
    "   - 8.4 Multiple Comparisons\n",
    "       -             Exercises\n",
    "   - 8.5 Concept of Blocks and the Randomized Complete Block Design\n",
    "       -             Exercises\n",
    "   - 8.6 Random Effects Models\n",
    "   - 8.7 Case Study for One-Way Experiment\n",
    "       -             Exercises\n",
    "   -             Review Exercises\n",
    "   - 8.8 Potential Misconceptions and Hazards; Relationship to Material in Other Chapters"
   ]
  },
  {
   "cell_type": "markdown",
   "metadata": {
    "heading_collapsed": true
   },
   "source": [
    "## 9. Factorial Experiments (Two or More Factors)"
   ]
  },
  {
   "cell_type": "markdown",
   "metadata": {
    "hidden": true
   },
   "source": [
    "   - 9.1 Introduction\n",
    "   - 9.2 Interaction in the Two-Factor Experiment\n",
    "   - 9.3 Two-Factor Analysis of Variance\n",
    "       -             Exercises\n",
    "   - 9.4 Three-Factor Experiments.\n",
    "       -             Exercises\n",
    "   -             Review Exercises\n",
    "   - 9.5 Potential Misconceptions and Hazards; Relationship to Material in Other Chapters"
   ]
  },
  {
   "cell_type": "code",
   "execution_count": null,
   "metadata": {
    "hidden": true
   },
   "outputs": [],
   "source": []
  },
  {
   "cell_type": "markdown",
   "metadata": {
    "hidden": true
   },
   "source": []
  },
  {
   "cell_type": "markdown",
   "metadata": {
    "hidden": true
   },
   "source": [
    "# Goto `ryTeach2020`\n",
    "\n",
    "[Local](./00_ryTeach2020.ipynb)\n",
    "[Github](https://github.com/renyuanL/_ryProb2020/blob/master/00_ryTeach2020.ipynb),\n",
    "[Colab](https://colab.research.google.com/github/renyuanL/_ryProb2020/blob/master/00_ryTeach2020.ipynb)."
   ]
  },
  {
   "cell_type": "code",
   "execution_count": null,
   "metadata": {},
   "outputs": [],
   "source": []
  }
 ],
 "metadata": {
  "gist": {
   "data": {
    "description": "_ryProb2020/probCh00 .ipynb",
    "public": false
   },
   "id": ""
  },
  "kernelspec": {
   "display_name": "Python 3",
   "language": "python",
   "name": "python3"
  },
  "language_info": {
   "codemirror_mode": {
    "name": "ipython",
    "version": 3
   },
   "file_extension": ".py",
   "mimetype": "text/x-python",
   "name": "python",
   "nbconvert_exporter": "python",
   "pygments_lexer": "ipython3",
   "version": "3.7.4"
  },
  "latex_envs": {
   "LaTeX_envs_menu_present": true,
   "autoclose": false,
   "autocomplete": true,
   "bibliofile": "biblio.bib",
   "cite_by": "apalike",
   "current_citInitial": 1,
   "eqLabelWithNumbers": true,
   "eqNumInitial": 1,
   "hotkeys": {
    "equation": "Ctrl-E",
    "itemize": "Ctrl-I"
   },
   "labels_anchors": false,
   "latex_user_defs": false,
   "report_style_numbering": false,
   "user_envs_cfg": false
  },
  "nbTranslate": {
   "displayLangs": [
    "*"
   ],
   "hotkey": "alt-t",
   "langInMainMenu": true,
   "sourceLang": "en",
   "targetLang": "fr",
   "useGoogleTranslate": true
  },
  "toc": {
   "base_numbering": 1,
   "nav_menu": {},
   "number_sections": false,
   "sideBar": true,
   "skip_h1_title": false,
   "title_cell": "Table of Contents",
   "title_sidebar": "Contents",
   "toc_cell": false,
   "toc_position": {
    "height": "calc(100% - 180px)",
    "left": "10px",
    "top": "150px",
    "width": "211.545px"
   },
   "toc_section_display": true,
   "toc_window_display": true
  },
  "varInspector": {
   "cols": {
    "lenName": 16,
    "lenType": 16,
    "lenVar": 40
   },
   "kernels_config": {
    "python": {
     "delete_cmd_postfix": "",
     "delete_cmd_prefix": "del ",
     "library": "var_list.py",
     "varRefreshCmd": "print(var_dic_list())"
    },
    "r": {
     "delete_cmd_postfix": ") ",
     "delete_cmd_prefix": "rm(",
     "library": "var_list.r",
     "varRefreshCmd": "cat(var_dic_list()) "
    }
   },
   "types_to_exclude": [
    "module",
    "function",
    "builtin_function_or_method",
    "instance",
    "_Feature"
   ],
   "window_display": false
  }
 },
 "nbformat": 4,
 "nbformat_minor": 2
}
