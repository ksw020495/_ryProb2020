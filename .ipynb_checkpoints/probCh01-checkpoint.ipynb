{
 "cells": [
  {
   "cell_type": "markdown",
   "metadata": {},
   "source": [
    "Table of Contents ...\n",
    "[Local](./index.ipynb),\n",
    "[Github](https://github.com/renyuanL/_ryProb2020/blob/master/index.ipynb),\n",
    "[Colab](https://colab.research.google.com/github/renyuanL/_ryProb2020/blob/master/index.ipynb).\n",
    "\n",
    "Current Chapter ...\n",
    "[Local](./probCh01.ipynb),\n",
    "[Github](https://github.com/renyuanL/_ryProb2020/blob/master/probCh01.ipynb),\n",
    "[Colab](https://colab.research.google.com/github/renyuanL/_ryProb2020/blob/master/probCh01.ipynb).\n",
    "\n",
    "----\n"
   ]
  },
  {
   "cell_type": "markdown",
   "metadata": {
    "solution": "hidden"
   },
   "source": [
    "# 1. Introduction to [Statistics](https://en.wikipedia.org/wiki/Statistics) and [Probability](https://en.wikipedia.org/wiki/Probability)"
   ]
  },
  {
   "cell_type": "markdown",
   "metadata": {
    "lang": "en"
   },
   "source": [
    "   * 1.1 Overview: Statistical Inference, Samples, Populations, and the Role of Probability\n",
    "   * 1.2 Sampling Procedures; Collection of Data\n",
    "   * 1.3 Discrete and Continuous Data.\n",
    "   * 1.4 Probability: Sample Space and Events\n",
    "       *             Exercises\n",
    "   * 1.5 Counting Sample Points\n",
    "       *             Exercises\n",
    "   * 1.6 Probability of an Event\n",
    "   * 1.7 Additive Rules\n",
    "       *             Exercises\n",
    "   * 1.8 Conditional Probability, Independence, and the Product Rule\n",
    "       *             Exercises\n",
    "   * 1.9 Bayes' Rule\n",
    "       *             Exercises\n",
    "   *             Review Exercises"
   ]
  },
  {
   "cell_type": "markdown",
   "metadata": {},
   "source": [
    "## 1.1 Overview: Statistical Inference, Samples, Populations, and the Role of Probability\n",
    "\n",
    "----"
   ]
  },
  {
   "cell_type": "markdown",
   "metadata": {},
   "source": [
    "![](media/Ch01/image11.png) <div style=\"text-align: right\">【p01.005】</div>\n",
    "\n",
    "----"
   ]
  },
  {
   "cell_type": "markdown",
   "metadata": {},
   "source": [
    "### Exam 01.01\n",
    "\n",
    "\n",
    "![](fg/fgEx01.01.png)\n",
    "\n",
    "----\n",
    "![](media/Ch01/image7.png) <div style=\"text-align: right\">【p01.001】</div>\n",
    "\n",
    "----"
   ]
  },
  {
   "cell_type": "markdown",
   "metadata": {
    "cell_style": "center",
    "solution": "shown",
    "solution2": "hidden",
    "solution2_first": true,
    "solution_first": true
   },
   "source": [
    "**Problem restatement**:\n",
    "\n",
    "- Suppose that an engineer encounters data from a manufacturing process in which `【100】` items are sampled and `【10】` are found to be defective. \n",
    "- It is expected and anticipated that occasionally there will be defective items. \n",
    "- Obviously these 100 items represent the sample. \n",
    "- However, it has been determined that in the long run, the company can only tolerate `【5%】` defective in the process. \n",
    "- Now, the elements of probability allow the engineer to determine how conclusive the sample information is regarding the nature of the process. \n",
    "- In this case, the population conceptually represents all possible items from the process. \n",
    "- Suppose we learn that if the process is acceptable, that is, if it does produce items no more than 5% of which are defective, there is a probability of `【0.0282】` of obtaining 10 or more defective items in a random sample of 100 items from the process. \n",
    "- This small probability suggests that the process does, indeed, have a long-run rate of defective items that exceeds `5%`. \n",
    "- In other words, under the condition of an acceptable process, the sample information obtained would rarely occur. \n",
    "- However, `it did occur!` Clearly, though, it would occur with a much higher probability if the process defective rate exceeded `5%` by a significant amount.\n",
    "\n",
    "----\n",
    "\n",
    "若我們假設：\"某生產線在製造一批大數量的產品時，瑕疵品為 `5%` 以下。\"\n",
    "\n",
    "今品管人員 \"隨機選了`100`個樣品出來檢查，發現了`10`個瑕疵品。\"\n",
    "\n",
    "那麼，我們能夠接受 那個假設嗎？\n",
    "\n",
    "你的決策為何？理由為何？"
   ]
  },
  {
   "cell_type": "markdown",
   "metadata": {
    "cell_style": "center",
    "solution": "shown",
    "solution2": "hidden",
    "solution2_first": true,
    "solution_first": true
   },
   "source": [
    "![](fg/fg_handwrite001.png)\n"
   ]
  },
  {
   "cell_type": "markdown",
   "metadata": {
    "cell_style": "split",
    "solution": "shown"
   },
   "source": [
    "【rySol_01.01】\n",
    "\n",
    "sampleSize:\n",
    "    n= 100\n",
    "\n",
    "evidence:\n",
    "    X=  10\n",
    "\n",
    "hypothesis:\n",
    "    p == .05\n",
    "\n",
    "----\n",
    "\n",
    "by Probability Theory and Calculation:\n",
    "    P(\" X >= 10\" | \"p==.05\") = .0282\n",
    "\n",
    "----\n",
    "\n",
    "【statistically thinking】:\n",
    "\n",
    "If we think .0282 is \"small enough\",\n",
    "then the evidence \" X >= 10\", \n",
    "given that the hypothesis \" p==.05',  \n",
    "will hardly occur.\n",
    "\n",
    "But now, the evidence do occur !!\n",
    "How can we conclude about this situation?\n",
    "\n",
    "Logically, \n",
    "'p ==> q' \n",
    "is equvalent to\n",
    "' ~q ==> ~p'\n",
    "\n",
    "by this calculation:\n",
    " P(\" X >= 10\" | \"p==.05\") = .0282\n",
    "\n",
    "we conclude:\n",
    "    if 'p==.05', then 'X>=10' is almost not possible, because we think .0282 is a small probability.\n",
    "    this statement will lead us to think logically \n",
    "    that now 'X>=10' is observed, \n",
    "    so 'p==.05' is not acceptable.\n",
    "\n",
    "![](fg/fg_ex01.01.png)"
   ]
  },
  {
   "cell_type": "markdown",
   "metadata": {},
   "source": [
    "### Exam 01.02\n",
    "\n",
    "\n",
    "![image.png](fg/fgExam01.02.png)\n",
    "![image.png](fg/fgExam01.02_1.png)\n",
    "![image.png](fg/fgExam01.02_2.png)\n",
    "![image.png](fg/fgExam01.02_tb1.1.png)\n",
    "![image.png](fg/fgExam01.02_fg1.1.png)\n",
    "\n",
    "----"
   ]
  },
  {
   "cell_type": "markdown",
   "metadata": {},
   "source": [
    "![](media/Ch01/image8.png) <div style=\"text-align: right\">【p01.002】</div>\n",
    "![](media/Ch01/image10.png) <div style=\"text-align: right\">【p01.004】</div>\n",
    "![](media/Ch01/image9.png) <div style=\"text-align: right\">【p01.003】</div>\n"
   ]
  },
  {
   "cell_type": "markdown",
   "metadata": {},
   "source": [
    "**Problem Restatement**\n",
    "\n",
    "- Often the nature of the scientific study will dictate the role that `probability` and `deductive reasoning` play in `statistical inference`. \n",
    "- Exercise 5.28 on page 221 provides data associated with a study conducted at the Virginia Polytechnic Institute and State University on the development of a relationship between the roots of trees and the action of a fungus. \n",
    "- Minerals are transferred from the fungus to the trees and sugars from the trees to the fungus. `Two` samples of `10` northern red oak seedlings were planted in a greenhouse, one containing seedlings treated `with nitrogen` and the other containing seedlings with `no nitrogen`. \n",
    "- All other environmental conditions were held constant. \n",
    "- All seedlings contained the fungus Pisolithus tinctorus. More details are supplied in Chapter 5. \n",
    "- The `stem weights` in grams were recorded after the end of 140 days. The data are given in Table 1.1.\n",
    "- In this example there are `two samples` from `two separate populations`. \n",
    "- The purpose of the experiment is to determine `if the use of nitrogen has an influence` on the growth of the roots. \n",
    "- The study is a comparative study (i.e., we seek to compare the two populations with regard to a certain important characteristic). \n",
    "- It is instructive to `plot the data` as shown in the dot plot of Figure 1.1. \n",
    "- The `◦` values represent the “nitrogen” data and the `×` values represent the “no-nitrogen” data. \n",
    "\n",
    "- Notice that the general appearance of the data might `suggest` to the reader that, on average, the use of nitrogen increases the stem weight.\n",
    "\n",
    "- Four nitrogen observations are considerably larger than any of the no-nitrogen observations. \n",
    "- Most of the no-nitrogen observations appear to be below the center of the data. \n",
    "- The appearance of the data set would seem to indicate that nitrogen is effective. \n",
    "\n",
    "- But how can this be `quantified`? \n",
    "- How can all of the apparent visual evidence be `summarized` in some sense?\n",
    "\n",
    "- As in the preceding example, the fundamentals of probability can be used. \n",
    "- The conclusions may be summarized in a `probability statement` or `P-value`. \n",
    "\n",
    "- We will not show here the statistical inference that produces the summary probability. \n",
    "- As in Example 1.1, these methods will be discussed in Chapter 6. \n",
    "\n",
    "- The issue revolves around the `\"probability that data like these could be observed\"` `【given that nitrogen has no effect】`, in other words, given that both samples were generated from the same population. \n",
    "- Suppose that this probability is small, say `0.03`.\n",
    "\n",
    "- That would certainly be `strong evidence` that the use of nitrogen does indeed influence (apparently increases) average stem weight of the red oak seedlings.\n",
    "\n",
    "----"
   ]
  },
  {
   "cell_type": "markdown",
   "metadata": {},
   "source": [
    "【ryComment】：\n",
    "\n",
    "上面這段文字有如天書，如果你能搞清楚了，這門課就過關了！！！\n",
    "\n",
    "一切都得從以下這張【實驗數據表】說起，\n",
    "\n",
    "它代表已發生的無可否認的【事實】或【證據】。\n",
    "\n",
    "學完本課程之後，你應該有能力從一項【假設】開始，\n",
    "精密計算出 當 【假設】 成立時，這個 【證據】 會出現的 【機率】。\n",
    "\n",
    "然後，嚴謹計算出的機率 (若假設為真，會出現此證據的機率) 很小很小時， \n",
    "\n",
    "就可合理`逆推`得【結論】：`【假設】不為真！！`\n",
    "\n",
    "----\n"
   ]
  },
  {
   "cell_type": "markdown",
   "metadata": {},
   "source": [
    "![](fg/fg_handwrite002.png)\n",
    "\n",
    "既然【假設: \"the Nitrogen has NO effect\"】 有誤，\n",
    "\n",
    "結論就是：【Nitrogen HAS effect】\n"
   ]
  },
  {
   "cell_type": "markdown",
   "metadata": {},
   "source": [
    "\n",
    "----\n",
    "\n",
    "Table 1.1: Data Set for Example 1.2\n",
    "\n",
    "No Nitrogen |Nitrogen\n",
    "---|---\n",
    "0.32 |0.26\n",
    "0.53 |0.43\n",
    "0.28 |0.47\n",
    "0.37 |0.49\n",
    "0.47 |0.52\n",
    "0.43 |0.75\n",
    "0.36 |0.79\n",
    "0.42 |0.86\n",
    "0.38 |0.62\n",
    "0.43 |0.46\n",
    "\n",
    "----"
   ]
  },
  {
   "cell_type": "markdown",
   "metadata": {},
   "source": [
    "【rySol】\n",
    "\n",
    "Let's study the above problem in Python's powerful numerical libraries\n",
    "\n",
    "我們來利用 Python, 配合 其強大的數值計算、資料分析之能力，做出以下的計算 ....\n"
   ]
  },
  {
   "cell_type": "code",
   "execution_count": 9,
   "metadata": {},
   "outputs": [],
   "source": [
    "# step 1: Get the data in.\n",
    "\n",
    "import numpy as np\n",
    "import scipy.stats as st\n",
    "import matplotlib.pyplot as pl\n",
    "import pandas as pd\n",
    "\n",
    "X0=[ .32, .53, .28, .37, .47,\n",
    "     .43, .36, .42, .38, .43]\n",
    "X1=[ .26, .43, .47, .49, .52,\n",
    "     .75, .79, .86, .62, .46]\n",
    "\n",
    "X0= np.array(X0)\n",
    "X1= np.array(X1)\n",
    "\n",
    "pdX= pd.DataFrame(\n",
    "        {'X0, noNitrigen': X0,\n",
    "         'X1, withNitrogen':X1}\n",
    "        )"
   ]
  },
  {
   "cell_type": "code",
   "execution_count": 10,
   "metadata": {},
   "outputs": [
    {
     "data": {
      "text/plain": [
       "<matplotlib.axes._subplots.AxesSubplot at 0x1ee62ff9588>"
      ]
     },
     "execution_count": 10,
     "metadata": {},
     "output_type": "execute_result"
    },
    {
     "data": {
      "image/png": "[encoded data removed]",
      "text/plain": [
       "<Figure size 432x288 with 1 Axes>"
      ]
     },
     "metadata": {
      "needs_background": "light"
     },
     "output_type": "display_data"
    },
    {
     "data": {
      "image/png": "[encoded data removed]",
      "text/plain": [
       "<Figure size 432x288 with 1 Axes>"
      ]
     },
     "metadata": {
      "needs_background": "light"
     },
     "output_type": "display_data"
    },
    {
     "data": {
      "image/png": "[encoded data removed]",
      "text/plain": [
       "<Figure size 432x288 with 1 Axes>"
      ]
     },
     "metadata": {
      "needs_background": "light"
     },
     "output_type": "display_data"
    },
    {
     "data": {
      "image/png": "[encoded data removed]",
      "text/plain": [
       "<Figure size 432x288 with 1 Axes>"
      ]
     },
     "metadata": {
      "needs_background": "light"
     },
     "output_type": "display_data"
    },
    {
     "data": {
      "image/png": "[encoded data removed]",
      "text/plain": [
       "<Figure size 432x288 with 1 Axes>"
      ]
     },
     "metadata": {
      "needs_background": "light"
     },
     "output_type": "display_data"
    },
    {
     "data": {
      "image/png": "[encoded data removed]",
      "text/plain": [
       "<Figure size 432x288 with 1 Axes>"
      ]
     },
     "metadata": {
      "needs_background": "light"
     },
     "output_type": "display_data"
    },
    {
     "data": {
      "image/png": "[encoded data removed]",
      "text/plain": [
       "<Figure size 432x288 with 1 Axes>"
      ]
     },
     "metadata": {
      "needs_background": "light"
     },
     "output_type": "display_data"
    }
   ],
   "source": [
    "# step2: plot them, visualize them\n",
    "\n",
    "pdX.plot.line(grid=True, marker='o')\n",
    "pdX.plot.bar(grid=True)\n",
    "\n",
    "pdX.plot.barh(grid=True)\n",
    "\n",
    "pdX.plot.hist(grid=True)\n",
    "pdX.plot.hist(grid=True, bins=100)\n",
    "\n",
    "pdX.plot.density(grid=True)\n",
    "\n",
    "pdX.plot.scatter(x=0, y=1, grid=True)\n"
   ]
  },
  {
   "cell_type": "code",
   "execution_count": 11,
   "metadata": {},
   "outputs": [
    {
     "data": {
      "text/html": [
       "<div>\n",
       "<style scoped>\n",
       "    .dataframe tbody tr th:only-of-type {\n",
       "        vertical-align: middle;\n",
       "    }\n",
       "\n",
       "    .dataframe tbody tr th {\n",
       "        vertical-align: top;\n",
       "    }\n",
       "\n",
       "    .dataframe thead th {\n",
       "        text-align: right;\n",
       "    }\n",
       "</style>\n",
       "<table border=\"1\" class=\"dataframe\">\n",
       "  <thead>\n",
       "    <tr style=\"text-align: right;\">\n",
       "      <th></th>\n",
       "      <th>X0, noNitrigen</th>\n",
       "      <th>X1, withNitrogen</th>\n",
       "    </tr>\n",
       "  </thead>\n",
       "  <tbody>\n",
       "    <tr>\n",
       "      <th>count</th>\n",
       "      <td>10.000000</td>\n",
       "      <td>10.000000</td>\n",
       "    </tr>\n",
       "    <tr>\n",
       "      <th>mean</th>\n",
       "      <td>0.399000</td>\n",
       "      <td>0.565000</td>\n",
       "    </tr>\n",
       "    <tr>\n",
       "      <th>std</th>\n",
       "      <td>0.072793</td>\n",
       "      <td>0.186741</td>\n",
       "    </tr>\n",
       "    <tr>\n",
       "      <th>min</th>\n",
       "      <td>0.280000</td>\n",
       "      <td>0.260000</td>\n",
       "    </tr>\n",
       "    <tr>\n",
       "      <th>25%</th>\n",
       "      <td>0.362500</td>\n",
       "      <td>0.462500</td>\n",
       "    </tr>\n",
       "    <tr>\n",
       "      <th>50%</th>\n",
       "      <td>0.400000</td>\n",
       "      <td>0.505000</td>\n",
       "    </tr>\n",
       "    <tr>\n",
       "      <th>75%</th>\n",
       "      <td>0.430000</td>\n",
       "      <td>0.717500</td>\n",
       "    </tr>\n",
       "    <tr>\n",
       "      <th>max</th>\n",
       "      <td>0.530000</td>\n",
       "      <td>0.860000</td>\n",
       "    </tr>\n",
       "  </tbody>\n",
       "</table>\n",
       "</div>"
      ],
      "text/plain": [
       "       X0, noNitrigen  X1, withNitrogen\n",
       "count       10.000000         10.000000\n",
       "mean         0.399000          0.565000\n",
       "std          0.072793          0.186741\n",
       "min          0.280000          0.260000\n",
       "25%          0.362500          0.462500\n",
       "50%          0.400000          0.505000\n",
       "75%          0.430000          0.717500\n",
       "max          0.530000          0.860000"
      ]
     },
     "execution_count": 11,
     "metadata": {},
     "output_type": "execute_result"
    }
   ],
   "source": [
    "# step3: doing description abot the data\n",
    "\n",
    "describeX= pdX.describe()\n",
    "describeX\n"
   ]
  },
  {
   "cell_type": "code",
   "execution_count": 12,
   "metadata": {},
   "outputs": [
    {
     "data": {
      "text/plain": [
       "<matplotlib.axes._subplots.AxesSubplot at 0x1ee65222e08>"
      ]
     },
     "execution_count": 12,
     "metadata": {},
     "output_type": "execute_result"
    },
    {
     "data": {
      "image/png": "[encoded data removed]",
      "text/plain": [
       "<Figure size 432x288 with 1 Axes>"
      ]
     },
     "metadata": {
      "needs_background": "light"
     },
     "output_type": "display_data"
    }
   ],
   "source": [
    "# step4: more plots  \n",
    "\n",
    "pdX.boxplot(grid=True)\n"
   ]
  },
  {
   "cell_type": "code",
   "execution_count": 13,
   "metadata": {},
   "outputs": [
    {
     "data": {
      "text/plain": [
       "(0.39899999999999997,\n",
       " 0.0727934673503666,\n",
       " 0.5650000000000001,\n",
       " 0.18674105660572402)"
      ]
     },
     "execution_count": 13,
     "metadata": {},
     "output_type": "execute_result"
    }
   ],
   "source": [
    "# step5: compute some important parameters \n",
    "# sample mean, sample standard deviation (unbiased)\n",
    "\n",
    "mu0=    X0.mean()\n",
    "sigma0= X0.std(ddof=1)\n",
    "mu1=    X1.mean()\n",
    "sigma1= X1.std(ddof=1)\n",
    "\n",
    "mu0, sigma0, mu1, sigma1\n"
   ]
  },
  {
   "cell_type": "code",
   "execution_count": 14,
   "metadata": {},
   "outputs": [
    {
     "data": {
      "text/plain": [
       "(0.023019315560826058, 0.059052707154051975)"
      ]
     },
     "execution_count": 14,
     "metadata": {},
     "output_type": "execute_result"
    }
   ],
   "source": [
    "# standard error from mean (sem)\n",
    "\n",
    "st.sem(X0), st.sem(X1)\n"
   ]
  },
  {
   "cell_type": "code",
   "execution_count": 15,
   "metadata": {},
   "outputs": [
    {
     "data": {
      "text/plain": [
       "((0.34692669042268215, 0.4510733095773178),\n",
       " (0.4314134955322152, 0.6985865044677849))"
      ]
     },
     "execution_count": 15,
     "metadata": {},
     "output_type": "execute_result"
    }
   ],
   "source": [
    "# 95% Confidence Inteval (信心區間)\n",
    "\n",
    "mu0Interval= st.t.interval(0.95, \n",
    "                           len(X0)-1, \n",
    "                           loc=np.mean(X0), \n",
    "                           scale=st.sem(X0))\n",
    "mu1Interval= st.t.interval(0.95, \n",
    "                           len(X1)-1, \n",
    "                           loc=np.mean(X1), \n",
    "                           scale=st.sem(X1))\n",
    "mu0Interval, mu1Interval"
   ]
  },
  {
   "cell_type": "code",
   "execution_count": 16,
   "metadata": {},
   "outputs": [
    {
     "data": {
      "text/plain": [
       "Ttest_indResult(statistic=-2.6190944840455472, pvalue=0.017386483684799125)"
      ]
     },
     "execution_count": 16,
     "metadata": {},
     "output_type": "execute_result"
    }
   ],
   "source": [
    "# hypothesis testing\n",
    "\n",
    "st.ttest_ind(X0,X1)"
   ]
  },
  {
   "cell_type": "markdown",
   "metadata": {
    "solution": "hidden"
   },
   "source": [
    "【ryComments】:\n",
    "\n",
    "How to get information about those useful functions/methods/objects\n",
    "\n",
    "\n",
    "st.ttest_ind?\n",
    "\n",
    "----\n",
    "Signature: st.ttest_ind(a, b, axis=0, equal_var=True, nan_policy='propagate')\n",
    "\n",
    "Docstring:\n",
    "Calculate the T-test for the means of *two independent* samples of scores.\n",
    "\n",
    "This is a two-sided test for the null hypothesis that 2 independent samples\n",
    "have identical average (expected) values. \n",
    "\n",
    "This test *assumes that the\n",
    "populations have identical variances by default.*\n",
    "\n",
    "【rySol】:\n",
    "\n",
    "we find that the pValue= .01729, which is small compared with the significant level, which is usually set to be .025 in two-sided test.\n",
    "\n",
    "The conclusion is that we must REJECT the hypothesis (or the assumption) that X0 and X1 are from the same population. In another words, they are different!!!\n",
    "\n",
    "----"
   ]
  },
  {
   "cell_type": "markdown",
   "metadata": {
    "solution": "hidden"
   },
   "source": [
    "【ryComment】\n",
    "\n",
    "我們算出了一個機率值叫做 P-Value = .01729，\n",
    "\n",
    "它代表了：\n",
    "\n",
    "當 `使用含氮物質時，【不】影響植物生長。` 這個假設為真時，\n",
    "我們得到的實驗數據經計算之後的某個【統計量】，\n",
    "會呈現當前實況的【機率】。 \n",
    "\n",
    "這個機率居然很【小】 (= .01729)\n",
    "\n",
    "機率很小的事本不該發生，而今居然發生！\n",
    "因此，逆推回去：\n",
    "\n",
    "`使用含氮物質時，【不】影響植物生長。` \n",
    "\n",
    "這個【假設】應該【不為真】。\n",
    "\n",
    "----"
   ]
  },
  {
   "cell_type": "markdown",
   "metadata": {
    "solution": "hidden"
   },
   "source": [
    "![](fg/fg_ex0102.png)\n",
    "\n",
    "----\n",
    "\n",
    "繞了一大圈，我們得到了：【有氮的加入，會幫助植物的成長。】這樣的一個結論。\n",
    "\n",
    "機率與統計的運用，是幫助我們對這個結論增加了科學性的定量解釋。\n",
    "\n",
    "它實際上是表明：【若加氮無幫助植物成長，幾乎不可能出現這些實驗結果來當作證據。】\n",
    "\n",
    "現在【既然發生了這種證據】，可見【加氮無幫助植物成長之假設】不應成立。\n",
    "\n",
    "否定(或拒絕)了這個假設，\n",
    "我們就得到 【有氮的加入，會幫助植物的成長。】\n",
    "這樣的一個結論。\n",
    "\n",
    "----\n",
    "\n",
    "以上就是統計推論應用於科學研究的實例。\n"
   ]
  },
  {
   "cell_type": "markdown",
   "metadata": {},
   "source": [
    "## 1.2 [Sampling Procedures](https://en.wikipedia.org/wiki/Sampling_(statistics)); Collection of Data"
   ]
  },
  {
   "cell_type": "markdown",
   "metadata": {},
   "source": [
    "![](http://korbedpsych.com/Images/Sample.jpg)"
   ]
  },
  {
   "cell_type": "markdown",
   "metadata": {},
   "source": [
    "#### Sampling methods\n",
    "\n",
    "- major methods:\n",
    "\n",
    "    - Simple random sampling .. ![](https://upload.wikimedia.org/wikipedia/commons/thumb/b/bf/Simple_random_sampling.PNG/450px-Simple_random_sampling.PNG)\n",
    "\n",
    "    - Systematic sampling .. ![](https://upload.wikimedia.org/wikipedia/commons/thumb/c/c4/Systematic_sampling.PNG/525px-Systematic_sampling.PNG)\n",
    "\n",
    "    - Stratified sampling .. ![](https://upload.wikimedia.org/wikipedia/commons/thumb/f/fa/Stratified_sampling.PNG/450px-Stratified_sampling.PNG)\n",
    "\n",
    "    - Cluster sampling .. ![](https://upload.wikimedia.org/wikipedia/commons/thumb/6/60/Cluster_sampling.PNG/300px-Cluster_sampling.PNG)\n",
    "\n",
    "- the others:\n",
    "\n",
    "    - Probability-proportional-to-size sampling\n",
    "    - Quota sampling\n",
    "    - Minimax sampling\n",
    "    - Accidental sampling\n",
    "    - Voluntary Sampling\n",
    "    - Line-intercept sampling\n",
    "    - Panel sampling\n",
    "    - Snowball sampling\n",
    "    - Theoretical sampling"
   ]
  },
  {
   "cell_type": "markdown",
   "metadata": {},
   "source": [
    "### Exam 01.03\n",
    "\n",
    "![image.png](fg/fgExam01.03.png)\n",
    "\n",
    "![image.png](fg/fgExam01.03_tf.png)\n",
    "\n",
    "![](media/Ch01/image12.png) <div style=\"text-align: right\">【p01.006】</div>\n",
    "\n",
    "![](media/Ch01/image13.png) <div style=\"text-align: right\">【p01.007】</div>\n",
    "\n",
    "![](media/Ch01/image14.png) <div style=\"text-align: right\">【p01.008】</div>\n"
   ]
  },
  {
   "cell_type": "markdown",
   "metadata": {},
   "source": [
    "**Problem restatement**\n",
    "\n",
    "- A corrosion study was made in order to determine whether `coating` an aluminum metal with a corrosion retardation substance `reduced the amount of corrosion`.\n",
    "\n",
    "- The coating is a protectant that is advertised to minimize fatigue damage in this type of material. \n",
    "- Also of interest is the influence of `humidity` on the amount of corrosion. \n",
    "\n",
    "- A corrosion measurement can be expressed in thousands of cycles to failure. \n",
    "- `Two levels of coating`, no coating and chemical corrosion coating, were used. \n",
    "- In addition, the `two relative humidity levels` are 20% relative humidity and 80% relative humidity. \n",
    "- The experiment involves `four treatment combinations` that are listed in the table that follows. \n",
    "- There are `eight experimental units` used, and they are aluminum specimens prepared; two are assigned randomly to each of the four treatment combinations.\n",
    "\n",
    "- The data are presented in Table 1.2. \n",
    "- The corrosion data are averages of two specimens. \n",
    "\n",
    "- A plot of the averages is pictured in Figure 1.3. \n",
    "- A relatively large value of cycles to failure represents a small amount of corrosion. \n",
    "\n",
    "**Conclution 1**\n",
    "- As one might expect, an increase in humidity appears to make the corrosion worse. \n",
    "\n",
    "**Conclution 2**\n",
    "- The use of the chemical corrosion coating procedure appears to reduce corrosion.\n",
    "\n",
    "----\n",
    "![](fg/fg_ex10102_corrosion.png)"
   ]
  },
  {
   "cell_type": "markdown",
   "metadata": {},
   "source": []
  },
  {
   "cell_type": "markdown",
   "metadata": {},
   "source": [
    "## 1.2.1\n",
    "\n",
    "### Measures of Location: The Sample Mean\n",
    "![](fg/fg_sample_mean.png)\n",
    "\n",
    "### Measures of Variability: The Sample Standard Deviation\n",
    "![](fg/fg_sample_std.png)\n"
   ]
  },
  {
   "cell_type": "markdown",
   "metadata": {},
   "source": [
    "### Exercises 1.1\n",
    "\n",
    "The following measurements were recorded for\n",
    "the drying time, in hours, of a certain brand of latex\n",
    "paint.\n",
    "\n",
    "..|..|..|..|\n",
    "---|---|---|---|\n",
    "3.4 |2.5 |4.8 |2.9 |3.6\n",
    "2.8 |3.3 |5.6 |3.7 |2.8\n",
    "4.4 |4.0 |5.2 |3.0 |4.8\n",
    "\n",
    "Assume that the measurements are a simple random\n",
    "sample.\n",
    "\n",
    "- (a) What is the `sample size` for the above sample?\n",
    "- (b) Calculate the `sample mean` for these data.\n",
    "- (c) Calculate the `sample median`.\n",
    "- (d) `Plot` the data by way of a dot plot.\n",
    "- (e) Compute the 20% `trimmed mean` for the above data set.\n",
    "- (f) Is the `sample mean` for these data more or less descriptive as a center of location than the `trimmed mean`?\n",
    "- (g) Compute the `sample variance` and `sample standard deviation`.\n"
   ]
  },
  {
   "cell_type": "markdown",
   "metadata": {},
   "source": []
  },
  {
   "cell_type": "markdown",
   "metadata": {},
   "source": [
    "## 1.2.2 Statistical Graph\n",
    "\n",
    "----\n",
    "- Dot Plot\n",
    "\n",
    "![](fg/fg_fig01.04.png)\n",
    "\n",
    "----\n",
    "- Scatter Plot\n",
    "![](fg/fg_fig01.05.png)\n",
    "\n",
    "----\n",
    "- Stem-and-Leaf Plot\n",
    "![](fg/fg_table0104.png)\n",
    "\n",
    "----\n",
    "- Histogram\n",
    "![](fg/fg_fig01.06.png)\n",
    "\n",
    "----\n",
    "- Box-and-Whisker Plot or Box Plot\n",
    "![](fg/fg_fig01.09.png)\n",
    "\n",
    "![](https://upload.wikimedia.org/wikipedia/commons/thumb/f/fa/Michelsonmorley-boxplot.svg/330px-Michelsonmorley-boxplot.svg.png)\n",
    "\n"
   ]
  },
  {
   "cell_type": "markdown",
   "metadata": {},
   "source": [
    "## Exercise 1.18 \n",
    "\n",
    "The following scores represent the final examination grades for an elementary statistics course:\n",
    "\n",
    "---|---|---|---|---|---|---|---|--\n",
    "---|---|---|---|---|---|---|---|--\n",
    "23 |60 |79 |32 |57 |74 |52 |70 |82\n",
    "36 |80 |77 |81 |95 |41 |65 |92 |85\n",
    "55 |76 |52 |10 |64 |75 |78 |25 |80\n",
    "98 |81 |67 |41 |71 |83 |54 |64 |72\n",
    "88 |62 |74 |43 |60 |78 |89 |76 |84\n",
    "48 |84 |90 |15 |79 |34 |67 |17 |82\n",
    "69 |74 |63 |80 |85 |61\n",
    "\n",
    "(a) Construct a `stem-and-leaf plot` for the examination grades in which the stems are 1, 2, 3, . . . , 9.\n",
    "\n",
    "(b) Construct a `relative frequency histogram`, draw an estimate of the graph of the distribution, and discuss the `skewness` of the distribution.\n",
    "\n",
    "(c) Compute the `sample mean`, `sample median`, and `sample standard deviation`."
   ]
  },
  {
   "cell_type": "code",
   "execution_count": 17,
   "metadata": {},
   "outputs": [],
   "source": [
    "#[rySol]\n",
    "#\n",
    "# Get data, copy paste, and edit it...\n",
    "X=[\n",
    "23,\t60,\t79,\t32,\t57,\t74,\t52,\t70,\t82,\n",
    "36,\t80,\t77,\t81,\t95,\t41,\t65,\t92,\t85,\n",
    "55,\t76,\t52,\t10,\t64,\t75,\t78,\t25,\t80,\n",
    "98,\t81,\t67,\t41,\t71,\t83,\t54,\t64,\t72,\n",
    "88,\t62,\t74,\t43,\t60,\t78,\t89,\t76,\t84,\n",
    "48,\t84,\t90,\t15,\t79,\t34,\t67,\t17,\t82,\n",
    "69,\t74,\t63,\t80,\t85,\t61\t    \n",
    "]"
   ]
  },
  {
   "cell_type": "code",
   "execution_count": 18,
   "metadata": {},
   "outputs": [
    {
     "data": {
      "text/plain": [
       "(60, 3929, 65.48333333333333)"
      ]
     },
     "execution_count": 18,
     "metadata": {},
     "output_type": "execute_result"
    }
   ],
   "source": [
    "# sample size, sum, mean\n",
    "len(X), sum(X), sum(X)/len(X)"
   ]
  },
  {
   "cell_type": "code",
   "execution_count": 19,
   "metadata": {},
   "outputs": [
    {
     "data": {
      "text/plain": [
       "(65.48333333333333, 21.133547647240682)"
      ]
     },
     "execution_count": 19,
     "metadata": {},
     "output_type": "execute_result"
    }
   ],
   "source": [
    "# mean, var, std\n",
    "m= sum(X)/len(X)\n",
    "S2= sum([(x-m)**2 for x in X])/(len(X)-1)\n",
    "S= S2**.5\n",
    "m, S"
   ]
  },
  {
   "cell_type": "code",
   "execution_count": 20,
   "metadata": {},
   "outputs": [
    {
     "data": {
      "text/plain": [
       "(30,\n",
       " [10,\n",
       "  15,\n",
       "  17,\n",
       "  23,\n",
       "  25,\n",
       "  32,\n",
       "  34,\n",
       "  36,\n",
       "  41,\n",
       "  41,\n",
       "  43,\n",
       "  48,\n",
       "  52,\n",
       "  52,\n",
       "  54,\n",
       "  55,\n",
       "  57,\n",
       "  60,\n",
       "  60,\n",
       "  61,\n",
       "  62,\n",
       "  63,\n",
       "  64,\n",
       "  64,\n",
       "  65,\n",
       "  67,\n",
       "  67,\n",
       "  69,\n",
       "  70,\n",
       "  71,\n",
       "  72,\n",
       "  74,\n",
       "  74,\n",
       "  74,\n",
       "  75,\n",
       "  76,\n",
       "  76,\n",
       "  77,\n",
       "  78,\n",
       "  78,\n",
       "  79,\n",
       "  79,\n",
       "  80,\n",
       "  80,\n",
       "  80,\n",
       "  81,\n",
       "  81,\n",
       "  82,\n",
       "  82,\n",
       "  83,\n",
       "  84,\n",
       "  84,\n",
       "  85,\n",
       "  85,\n",
       "  88,\n",
       "  89,\n",
       "  90,\n",
       "  92,\n",
       "  95,\n",
       "  98],\n",
       " [71, 72],\n",
       " 71.5)"
      ]
     },
     "execution_count": 20,
     "metadata": {},
     "output_type": "execute_result"
    }
   ],
   "source": [
    "# median\n",
    "\n",
    "middle= len(X)//2\n",
    "\n",
    "sX= sorted(X)\n",
    "\n",
    "X2= sX[middle-1:middle+1]\n",
    "\n",
    "ans= sum(X2)/2\n",
    "\n",
    "middle, sX, X2, ans\n",
    "\n"
   ]
  },
  {
   "cell_type": "code",
   "execution_count": 21,
   "metadata": {},
   "outputs": [
    {
     "data": {
      "text/plain": [
       "<matplotlib.axes._subplots.AxesSubplot at 0x1ee652c23c8>"
      ]
     },
     "execution_count": 21,
     "metadata": {},
     "output_type": "execute_result"
    },
    {
     "data": {
      "image/png": "[encoded data removed]",
      "text/plain": [
       "<Figure size 432x288 with 1 Axes>"
      ]
     },
     "metadata": {
      "needs_background": "light"
     },
     "output_type": "display_data"
    }
   ],
   "source": [
    "import pandas as pd\n",
    "\n",
    "pdX= pd.Series(X)\n",
    "pdX.plot.hist(bins=100, grid=True)"
   ]
  },
  {
   "cell_type": "code",
   "execution_count": 22,
   "metadata": {},
   "outputs": [
    {
     "data": {
      "text/plain": [
       "count    60.000000\n",
       "mean     65.483333\n",
       "std      21.133548\n",
       "min      10.000000\n",
       "25%      54.750000\n",
       "50%      71.500000\n",
       "75%      80.250000\n",
       "max      98.000000\n",
       "dtype: float64"
      ]
     },
     "execution_count": 22,
     "metadata": {},
     "output_type": "execute_result"
    }
   ],
   "source": [
    "pdX.describe()"
   ]
  },
  {
   "cell_type": "code",
   "execution_count": 23,
   "metadata": {},
   "outputs": [
    {
     "data": {
      "text/plain": [
       "<matplotlib.axes._subplots.AxesSubplot at 0x1ee65433a08>"
      ]
     },
     "execution_count": 23,
     "metadata": {},
     "output_type": "execute_result"
    },
    {
     "data": {
      "image/png": "[encoded data removed]",
      "text/plain": [
       "<Figure size 432x288 with 1 Axes>"
      ]
     },
     "metadata": {
      "needs_background": "light"
     },
     "output_type": "display_data"
    }
   ],
   "source": [
    "pdX.plot.box(grid=True)"
   ]
  },
  {
   "cell_type": "markdown",
   "metadata": {},
   "source": []
  },
  {
   "cell_type": "markdown",
   "metadata": {},
   "source": [
    "## 1.3 Discrete and Continuous Data.\n",
    "\n",
    "[Continuous or discrete variable](https://en.wikipedia.org/wiki/Continuous_or_discrete_variable)\n",
    "\n",
    "- Continuous example: \n",
    "    - (實數是連續型變數之例子)\n",
    "    - the number of real numbers in \n",
    "    $ \\{x|a \\lt x \\lt b ; \\space a, b \\in \\mathbb{R} \\} $ \n",
    "    is infinite and uncountable\n",
    "    \n",
    "    - the probability distributions of continuous variables can be expressed in terms of `probability density functions` (pdf).\n",
    "\n",
    "- Discrete example \n",
    "    - (整數是離散型變數之例子)\n",
    "\n",
    "    - the number of integer numbers in \n",
    "    $ \\{x|a \\lt x \\lt b ; \\space a, b \\in \\mathbb{R} \\} $ \n",
    "    is finite and countable\n",
    "\n",
    "    - the number of integer numbers in \n",
    "    $ \\{x|a \\lt x \\lt \\infty ; \\space a \\in \\mathbb{R} \\} $ \n",
    "    is infinite and countable\n",
    "\n",
    "    - the probability distributions of discrete variables can be expressed in terms of `probability mass functions` (pmf)."
   ]
  },
  {
   "cell_type": "markdown",
   "metadata": {},
   "source": [
    "## 1.4 Probability: [Sample Space](https://en.wikipedia.org/wiki/Sample_space) and [Events](https://en.wikipedia.org/wiki/Event_(probability_theory))\n",
    "\n",
    "\n",
    "- the `sample space` of an experiment or random trial is the set of all possible outcomes or results of that experiment.\n",
    "\n",
    "- an `event` is a set of outcomes of an experiment (a subset of the sample space) to which a probability is assigned.\n",
    "\n",
    "![](fg/fg_sample_event.png)"
   ]
  },
  {
   "cell_type": "markdown",
   "metadata": {},
   "source": [
    "### Def 01.01\n",
    "\n",
    "![](media/Ch01/image15.png) <div style=\"text-align: right\">【p01.009】</div>"
   ]
  },
  {
   "cell_type": "markdown",
   "metadata": {},
   "source": [
    "### Exam01.04\n",
    "\n",
    "\n",
    "![image.png](fg/fgExam01.04_exam0201.png)\n",
    "\n",
    "----\n",
    "\n",
    "Consider the experiment of 【tossing a die】. \n",
    "\n",
    "If we are interested in the number that shows on the top face, \n",
    "the sample space is \n",
    "\n",
    "$ S_1 = \\{1, 2, 3, 4, 5, 6\\}. $\n",
    "\n",
    "If we are interested only in whether the number is even or odd, \n",
    "the sample space is simply \n",
    "\n",
    "$\n",
    "S_2 = \\{ even, odd \\}.\n",
    "$\n",
    "\n",
    "\n",
    "\n",
    "\n",
    "----"
   ]
  },
  {
   "cell_type": "markdown",
   "metadata": {},
   "source": [
    "### Exam01.05\n",
    "\n",
    "\n",
    "![image.png](fg/fnExam01.05.png)\n",
    "\n",
    "![image.png](fg/fnExam01.05_f.png)\n",
    "\n",
    "----\n",
    "\n",
    "An experiment consists of flipping a coin and then flipping it a second time if a head occurs. \n",
    "\n",
    "If a tail occurs on the first flip, then a die is tossed once. \n",
    "\n",
    "To list the elements of the sample space providing the most information, we construct the tree diagram of Figure 2.1. \n",
    "\n",
    "The various paths along the branches of the tree give the distinct sample points. \n",
    "\n",
    "Starting with the top left branch and moving to the right along the first path, we get the sample point HH, indicating the possibility that heads occurs on two successive flips of the coin. \n",
    "\n",
    "Likewise, the sample point T3 indicates the possibility that the coin will show a tail followed by a 3 on the toss of the die. \n",
    "\n",
    "By proceeding along all paths, we see that the sample space is \n",
    "\n",
    "$\n",
    "S = \\{HH, HT, T1, T2, T3, T4, T5, T6\\}.\n",
    "$"
   ]
  },
  {
   "cell_type": "markdown",
   "metadata": {},
   "source": [
    "![](media/Ch01/image19.png) <div style=\"text-align: right\">【p01.012】</div>\n",
    "![](media/Ch01/image20.png) <div style=\"text-align: right\">【p01.013】</div>"
   ]
  },
  {
   "cell_type": "markdown",
   "metadata": {},
   "source": [
    "### Exam01.06\n",
    "\n",
    "Given the sample space S = {t | t ≥ 0}, where t is the life in years of a certain electronic component, then the event A that the component fails before the end of the fifth year is the subset A = {t | 0 ≤ t < 5}."
   ]
  },
  {
   "cell_type": "markdown",
   "metadata": {},
   "source": []
  },
  {
   "cell_type": "markdown",
   "metadata": {},
   "source": [
    "### Def 01.02\n",
    "\n",
    "![](media/Ch01/image22.png) <div style=\"text-align: right\">【p01.015】</div>"
   ]
  },
  {
   "cell_type": "markdown",
   "metadata": {},
   "source": [
    "## 1.4.1 Review of set theory (集合論)\n",
    "\n",
    "### Def 01.03 Complement\n",
    "![](media/Ch01/image24.png) <div style=\"text-align: right\">【p01.016】</div>"
   ]
  },
  {
   "cell_type": "markdown",
   "metadata": {},
   "source": [
    "### Def 01.04 Intersection\n",
    "![](media/Ch01/image27.png) <div style=\"text-align: right\">【p01.019】</div>"
   ]
  },
  {
   "cell_type": "markdown",
   "metadata": {},
   "source": [
    "### Def 01.05 `disjoint` or `mutually exclusive`\n",
    "![](media/Ch01/image28.png) <div style=\"text-align: right\">【p01.020】</div>"
   ]
  },
  {
   "cell_type": "markdown",
   "metadata": {},
   "source": [
    "### Def 01.06 union\n",
    "![](media/Ch01/image30.png) <div style=\"text-align: right\">【p01.022】</div>"
   ]
  },
  {
   "cell_type": "markdown",
   "metadata": {},
   "source": [
    "## 1.4.1 several set theories:\n",
    "\n",
    "Several results that follow from the foregoing definitions, which may easily be\n",
    "verified by means of Venn diagrams, are as follows:\n",
    "\n",
    "    1. A ∩ φ = φ\n",
    "    2. A ∪ φ = A\n",
    "    3. A ∩ A' = φ\n",
    "    4. A ∪ A' = S\n",
    "    5. S' = φ\n",
    "    6. φ' = S\n",
    "    7. (A')' = A\n",
    "    8. (A ∩ B)' = A' ∪ B'\n",
    "    9. (A ∪ B)' = A' ∩ B'\n",
    "    \n",
    "    "
   ]
  },
  {
   "cell_type": "markdown",
   "metadata": {},
   "source": []
  },
  {
   "cell_type": "markdown",
   "metadata": {},
   "source": []
  },
  {
   "cell_type": "markdown",
   "metadata": {},
   "source": [
    "### The last 2 (8. and 9.) are [De Morgan's laws](https://en.wikipedia.org/wiki/De_Morgan%27s_laws)\n",
    "\n",
    "![](https://upload.wikimedia.org/wikipedia/commons/thumb/0/06/Demorganlaws.svg/220px-Demorganlaws.svg.png)\n",
    "\n",
    "In `formal language`, the rules are written as\n",
    "\n",
    "8. $ \\neg (P\\land Q)\\iff (\\neg P)\\lor (\\neg Q)$\n",
    "\n",
    "9. $ \\neg (P\\lor Q)\\iff (\\neg P)\\land (\\neg Q),$\n",
    "\n",
    "\n",
    "where\n",
    "\n",
    "P and Q are propositions,\n",
    "\n",
    "- $\\neg$  is the negation logic operator (NOT, 非),\n",
    "- $\\land$ is the conjunction logic operator (AND, 且),\n",
    "- $\\lor$  is the disjunction logic operator (OR, 或),\n",
    "- $\\iff$  is a metalogical symbol meaning \"can be replaced in a logical proof with, 彼此相同意義，可互相替換\".\n"
   ]
  },
  {
   "cell_type": "markdown",
   "metadata": {},
   "source": [
    " ### Exercise 2.19, 2.20\n",
    "\n",
    "2.19\n",
    "\n",
    "Suppose that a family is leaving on a summer vacation in their camper and that M is the event that they will experience mechanical problems, T is the event that they will receive a ticket for committing a traffic violation, and V is the event that they will arrive at a campsite with no vacancies. Referring to the Venn diagram of Figure 2.5, state in words the events represented by the following regions:\n",
    "\n",
    "(a) region 5; \n",
    "(b) region 3; \n",
    "(c) regions 1 and 2 together; \n",
    "(d) regions 4 and 7 together; \n",
    "(e) regions 3, 6, 7, and 8 together.\n",
    "\n",
    "2.20\n",
    "\n",
    "Referring to Exercise 2.19 and the Venn diagram of Figure 2.5, list the numbers of the regions that represent the following events: \n",
    "\n",
    "(a) The family will experience no mechanical problems and will not receive a ticket for a traffic violation but will arrive at a campsite with no vacancies. \n",
    "\n",
    "(b) The family will experience both mechanical problems and trouble in locating a campsite with a vacancy but will not receive a ticket for a traffic violation. \n",
    "\n",
    "(c) The family will either have mechanical trouble or arrive at a campsite with no vacancies but will not receive a ticket for a traffic violation. \n",
    "\n",
    "(d) The family will not arrive at a campsite with no vacancies.\n",
    "\n",
    "![](fg/fg_fig02.05.png)"
   ]
  },
  {
   "cell_type": "markdown",
   "metadata": {},
   "source": []
  },
  {
   "cell_type": "markdown",
   "metadata": {},
   "source": [
    " ## 1.5 Counting Sample Points (計數原理、排列組合)"
   ]
  },
  {
   "cell_type": "markdown",
   "metadata": {},
   "source": []
  },
  {
   "cell_type": "markdown",
   "metadata": {},
   "source": [
    "### Def 01.07\n",
    "![](media/Ch01/image40.png) <div style=\"text-align: right\">【p01.029】</div>"
   ]
  },
  {
   "cell_type": "markdown",
   "metadata": {},
   "source": [
    "A `permutation` is an arrangement of all or part of a set of objects.\n",
    "\n",
    "----\n",
    "\n",
    "For any non-negative integer n, n!, called `n factorial` is defined as\n",
    "\n",
    "$\n",
    "n! = n(n − 1) · · · (2)(1),\n",
    "$\n",
    "\n",
    "with special case: $0! = 1$.\n",
    "\n",
    "----\n",
    "The number of permutations of n objects is $n!$\n"
   ]
  },
  {
   "cell_type": "markdown",
   "metadata": {},
   "source": [
    "The number of ways of selecting r objects from n without regard to order. These selections are called `combinations`.\n",
    "\n",
    "The number of `combinations` of $n$ distinct objects taken $k$ at a time is\n",
    "\n",
    "$$\n",
    "\\binom{n}{k} \n",
    "=\n",
    "\\binom{n}{k, n-k} \n",
    "=\n",
    "\\frac{n!}{k! (n − k)!}\n",
    "$$\n"
   ]
  },
  {
   "cell_type": "code",
   "execution_count": 24,
   "metadata": {},
   "outputs": [
    {
     "data": {
      "image/png": "[encoded data removed]",
      "text/plain": [
       "<Figure size 432x288 with 1 Axes>"
      ]
     },
     "metadata": {
      "needs_background": "light"
     },
     "output_type": "display_data"
    }
   ],
   "source": [
    "import scipy.special as sp\n",
    "\n",
    "#p= .5\n",
    "#q= 1-p\n",
    "\n",
    "n= 10\n",
    "k= np.arange(0,n+1)\n",
    "f= sp.comb(n, k) #* p**k * q**(n-k)\n",
    "\n",
    "import matplotlib.pyplot as pl\n",
    "pl.plot(k, f, 'o-')\n",
    "pl.xlabel('k')\n",
    "pl.grid()\n",
    "\n"
   ]
  },
  {
   "cell_type": "code",
   "execution_count": 25,
   "metadata": {},
   "outputs": [
    {
     "data": {
      "image/png": "[encoded data removed]",
      "text/plain": [
       "<Figure size 432x288 with 1 Axes>"
      ]
     },
     "metadata": {
      "needs_background": "light"
     },
     "output_type": "display_data"
    }
   ],
   "source": [
    "#p= .5\n",
    "#q= 1-p\n",
    "\n",
    "r= 5\n",
    "k= np.arange(0,10)\n",
    "f= sp.comb(k+r-1, r-1) #* p**k * q**r\n",
    "\n",
    "#f1= (k +  1)**(r-1)/sp.factorial(r-1)\n",
    "#f2= (k +r-1)**(r-1)/sp.factorial(r-1)\n",
    "#f3= (k +r/2)**(r-1)/sp.factorial(r-1)\n",
    "\n",
    "import matplotlib.pyplot as pl\n",
    "pl.plot(k, f, 'o-')#,k,f3,'x:')\n",
    "\n",
    "pl.xlabel('k')\n",
    "pl.grid()\n"
   ]
  },
  {
   "cell_type": "markdown",
   "metadata": {},
   "source": [
    "### Exercise\n",
    "2.48 \n",
    "\n",
    "How many ways are there that no two students\n",
    "will have the same birth date in a class of size 60?\n",
    "\n",
    "[rySol]\n",
    "\n",
    "60位　學生按座號排成1直線，\n",
    "\n",
    "01號學生有　365 天　可選\n",
    "02號學生有　364 天　可選\n",
    "...\n",
    "60號學生有　306 天　可選\n",
    "\n",
    "所有選項乘起來 (共60個數字相乘)=\n",
    "365　*　364　*　...　*　306\n",
    "\n",
    "\n",
    "$P_{60}^{365}=\\binom{365}{60} * 60! = \\frac{365!}{305!}$"
   ]
  },
  {
   "cell_type": "code",
   "execution_count": 26,
   "metadata": {},
   "outputs": [
    {
     "name": "stderr",
     "output_type": "stream",
     "text": [
      "C:\\Anaconda3-2019.10\\lib\\site-packages\\ipykernel_launcher.py:5: RuntimeWarning: invalid value encountered in double_scalars\n",
      "  \"\"\"\n"
     ]
    },
    {
     "data": {
      "text/plain": [
       "(3.211830504503099e+151, 3.211830504503164e+151, nan)"
      ]
     },
     "execution_count": 26,
     "metadata": {},
     "output_type": "execute_result"
    }
   ],
   "source": [
    "import scipy.special as sp\n",
    "\n",
    "sp.perm(365,60), \\\n",
    "sp.comb(365,60)*sp.factorial(60), \\\n",
    "sp.factorial(365)/sp.factorial(305) \n",
    "# 第３條公式電腦算成　無限大"
   ]
  },
  {
   "cell_type": "code",
   "execution_count": 27,
   "metadata": {},
   "outputs": [
    {
     "data": {
      "text/plain": [
       "32118305045030991521304314923696453096352404945688601384070309911636973370262044734220857508597566903976433710728280765229697954371914956800000000000000"
      ]
     },
     "execution_count": 27,
     "metadata": {},
     "output_type": "execute_result"
    }
   ],
   "source": [
    "# 直接用陽春的　python for 迴圈...\n",
    "s=1\n",
    "for i in range(306,366):\n",
    "    s *= i\n",
    "s"
   ]
  },
  {
   "cell_type": "code",
   "execution_count": 28,
   "metadata": {},
   "outputs": [
    {
     "data": {
      "text/plain": [
       "151.50675261851782"
      ]
     },
     "execution_count": 28,
     "metadata": {},
     "output_type": "execute_result"
    }
   ],
   "source": [
    "# math 模組中有個 log10() 函數\n",
    "import math\n",
    "math.log10(s)"
   ]
  },
  {
   "cell_type": "code",
   "execution_count": 29,
   "metadata": {},
   "outputs": [
    {
     "data": {
      "text/plain": [
       "(int,\n",
       " 32118305045030991521304314923696453096352404945688601384070309911636973370262044734220857508597566903976433710728280765229697954371914956800000000000000,\n",
       " 3.211830504503099e+151)"
      ]
     },
     "execution_count": 29,
     "metadata": {},
     "output_type": "execute_result"
    }
   ],
   "source": [
    "# 查看型態、轉成　float 型態\n",
    "type(s), s, float(s)"
   ]
  },
  {
   "cell_type": "markdown",
   "metadata": {},
   "source": []
  },
  {
   "cell_type": "markdown",
   "metadata": {},
   "source": [
    "## 1.6 Probability of an Event"
   ]
  },
  {
   "cell_type": "markdown",
   "metadata": {},
   "source": [
    "### Def 01.08\n",
    "![](media/Ch01/image59.png) <div style=\"text-align: right\">【p01.045】</div>"
   ]
  },
  {
   "cell_type": "markdown",
   "metadata": {},
   "source": [
    "### Def 01.09\n",
    "![](media/Ch01/image62.png) <div style=\"text-align: right\">【p01.048】</div>\n",
    "\n",
    "【同等發生機會】 (Equally Likely) 這個關鍵詞 很重要！！"
   ]
  },
  {
   "cell_type": "markdown",
   "metadata": {},
   "source": []
  },
  {
   "cell_type": "markdown",
   "metadata": {},
   "source": [
    "## 1.8 Conditional Probability, Independence, and the Product Rule \n",
    "條件機率、獨立性、乘法規則。\n"
   ]
  },
  {
   "cell_type": "markdown",
   "metadata": {},
   "source": [
    "### Def 01.10\n",
    "![](media/Ch01/image88.png) <div style=\"text-align: right\">【p01.064】</div>\n",
    "\n",
    "![image.png](fg/fg_def01.10.png)\n",
    "![image.png](fg/fg_def01.10_1.png)\n"
   ]
  },
  {
   "cell_type": "markdown",
   "metadata": {},
   "source": [
    "### Def 01.11\n",
    "![](media/Ch01/image94.png) <div style=\"text-align: right\">【p01.068】</div>"
   ]
  },
  {
   "cell_type": "markdown",
   "metadata": {},
   "source": [
    "### Def 01.12\n",
    "![](media/Ch01/image106.png) <div style=\"text-align: right\">【p01.077】</div>"
   ]
  },
  {
   "cell_type": "markdown",
   "metadata": {},
   "source": [
    "----"
   ]
  },
  {
   "cell_type": "markdown",
   "metadata": {},
   "source": []
  },
  {
   "cell_type": "markdown",
   "metadata": {},
   "source": [
    "## Thms 01.xx\n"
   ]
  },
  {
   "cell_type": "markdown",
   "metadata": {},
   "source": [
    "### Thm 01.01\n",
    "![](media/Ch01/image41.png) <div style=\"text-align: right\">【p01.030】</div>"
   ]
  },
  {
   "cell_type": "markdown",
   "metadata": {},
   "source": [
    "#### In Python, the factorial function is in module: `math` "
   ]
  },
  {
   "cell_type": "code",
   "execution_count": 30,
   "metadata": {},
   "outputs": [
    {
     "data": {
      "text/plain": [
       "24"
      ]
     },
     "execution_count": 30,
     "metadata": {},
     "output_type": "execute_result"
    }
   ],
   "source": [
    "import math\n",
    "math.factorial(4)"
   ]
  },
  {
   "cell_type": "markdown",
   "metadata": {},
   "source": [
    "In module `itertools`,\n",
    "there are Combinatoric generators:\n",
    "- product(p, q, ... [repeat=1]) --> cartesian product\n",
    "- permutations(p[, r])\n",
    "- combinations(p, r)\n",
    "- combinations_with_replacement(p, r)"
   ]
  },
  {
   "cell_type": "code",
   "execution_count": null,
   "metadata": {},
   "outputs": [],
   "source": []
  },
  {
   "cell_type": "code",
   "execution_count": 31,
   "metadata": {},
   "outputs": [
    {
     "data": {
      "text/plain": [
       "(24,\n",
       " [(0, 1, 2, 3),\n",
       "  (0, 1, 3, 2),\n",
       "  (0, 2, 1, 3),\n",
       "  (0, 2, 3, 1),\n",
       "  (0, 3, 1, 2),\n",
       "  (0, 3, 2, 1),\n",
       "  (1, 0, 2, 3),\n",
       "  (1, 0, 3, 2),\n",
       "  (1, 2, 0, 3),\n",
       "  (1, 2, 3, 0),\n",
       "  (1, 3, 0, 2),\n",
       "  (1, 3, 2, 0),\n",
       "  (2, 0, 1, 3),\n",
       "  (2, 0, 3, 1),\n",
       "  (2, 1, 0, 3),\n",
       "  (2, 1, 3, 0),\n",
       "  (2, 3, 0, 1),\n",
       "  (2, 3, 1, 0),\n",
       "  (3, 0, 1, 2),\n",
       "  (3, 0, 2, 1),\n",
       "  (3, 1, 0, 2),\n",
       "  (3, 1, 2, 0),\n",
       "  (3, 2, 0, 1),\n",
       "  (3, 2, 1, 0)])"
      ]
     },
     "execution_count": 31,
     "metadata": {},
     "output_type": "execute_result"
    }
   ],
   "source": [
    "import itertools\n",
    "aList= list(itertools.permutations([0,1,2,3]))\n",
    "len(aList), aList"
   ]
  },
  {
   "cell_type": "code",
   "execution_count": null,
   "metadata": {},
   "outputs": [],
   "source": []
  },
  {
   "cell_type": "markdown",
   "metadata": {},
   "source": [
    "### Thm 01.02\n",
    "![](media/Ch01/image42.png) <div style=\"text-align: right\">【p01.031】</div>"
   ]
  },
  {
   "cell_type": "code",
   "execution_count": 32,
   "metadata": {},
   "outputs": [
    {
     "data": {
      "text/plain": [
       "12.0"
      ]
     },
     "execution_count": 32,
     "metadata": {},
     "output_type": "execute_result"
    }
   ],
   "source": [
    "import scipy.special\n",
    "nPk= scipy.special.perm(N=4, k=2)\n",
    "nPk"
   ]
  },
  {
   "cell_type": "markdown",
   "metadata": {},
   "source": [
    "### Thm 01.03\n",
    "![](media/Ch01/image47.png) <div style=\"text-align: right\">【p01.036】</div>"
   ]
  },
  {
   "cell_type": "markdown",
   "metadata": {},
   "source": [
    "### Thm 01.04\n",
    "![](media/Ch01/image48.png) <div style=\"text-align: right\">【p01.037】</div>"
   ]
  },
  {
   "cell_type": "markdown",
   "metadata": {},
   "source": [
    "### Thm 01.05\n",
    "![](media/Ch01/image53.png) <div style=\"text-align: right\">【p01.039】</div>"
   ]
  },
  {
   "cell_type": "markdown",
   "metadata": {},
   "source": [
    "### Thm 01.06\n",
    "![](media/Ch01/image55.png) <div style=\"text-align: right\">【p01.041】</div>"
   ]
  },
  {
   "cell_type": "code",
   "execution_count": 33,
   "metadata": {},
   "outputs": [
    {
     "data": {
      "text/plain": [
       "6.0"
      ]
     },
     "execution_count": 33,
     "metadata": {},
     "output_type": "execute_result"
    }
   ],
   "source": [
    "import scipy.special\n",
    "scipy.special.comb(N=4,k=2)\n"
   ]
  },
  {
   "cell_type": "code",
   "execution_count": 34,
   "metadata": {},
   "outputs": [
    {
     "data": {
      "text/plain": [
       "[(1, 2), (1, 3), (1, 4), (2, 3), (2, 4), (3, 4)]"
      ]
     },
     "execution_count": 34,
     "metadata": {},
     "output_type": "execute_result"
    }
   ],
   "source": [
    "import itertools\n",
    "\n",
    "list(itertools.combinations([1,2,3,4],2))\n"
   ]
  },
  {
   "cell_type": "markdown",
   "metadata": {},
   "source": [
    "### Thm 01.07\n",
    "![](media/Ch01/image69.png) <div style=\"text-align: right\">【p01.050】</div>\n",
    "\n",
    "![](fg/fg_thm01.07.png)"
   ]
  },
  {
   "cell_type": "markdown",
   "metadata": {},
   "source": [
    "### Thm 01.08\n",
    "![](media/Ch01/image74.png) <div style=\"text-align: right\">【p01.055】</div>\n",
    "\n",
    "### [Inclusion–exclusion principle](https://en.wikipedia.org/wiki/Inclusion%E2%80%93exclusion_principle)\n",
    "\n",
    "[包容-排斥 原理](https://zh.wikipedia.org/wiki/%E6%8E%92%E5%AE%B9%E5%8E%9F%E7%90%86)\n",
    "\n",
    "\n",
    "![](https://upload.wikimedia.org/wikipedia/commons/thumb/4/42/Inclusion-exclusion.svg/220px-Inclusion-exclusion.svg.png)\n",
    "\n",
    "\n",
    "In its general form, the principle of inclusion–exclusion states that \n",
    "for finite sets A1, ..., An, one has the identity\n",
    "\n",
    "$ \n",
    "\\left|\\bigcup _{i=1}^{n}A_{i}\\right|\\\\\n",
    "=\\sum _{i=1}^{n}|A_{i}| \\\\\n",
    "-\\sum _{1\\leqslant i<j\\leqslant n}|A_{i}\\cap A_{j}|\\\\\n",
    "+\\sum _{1\\leqslant i<j<k\\leqslant n}|A_{i}\\cap A_{j}\\cap A_{k}|\\\\\n",
    "- \\cdots + \\cdots \\\\\n",
    "+(-1)^{n-1}\\left|A_{1}\\cap \\cdots \\cap A_{n}\\right|.\n",
    "$\n"
   ]
  },
  {
   "cell_type": "markdown",
   "metadata": {},
   "source": [
    "### Thm 01.09\n",
    "![](media/Ch01/image81.png) <div style=\"text-align: right\">【p01.059】</div>"
   ]
  },
  {
   "cell_type": "markdown",
   "metadata": {},
   "source": [
    "### Thm 01.10\n",
    "![](media/Ch01/image98.png) <div style=\"text-align: right\">【p01.069】</div>"
   ]
  },
  {
   "cell_type": "markdown",
   "metadata": {},
   "source": [
    "### Thm 01.11\n",
    "![](media/Ch01/image100.png) <div style=\"text-align: right\">【p01.071】</div>"
   ]
  },
  {
   "cell_type": "markdown",
   "metadata": {},
   "source": [
    "### Thm 01.12\n",
    "![](media/Ch01/image105.png) <div style=\"text-align: right\">【p01.076】</div>"
   ]
  },
  {
   "cell_type": "markdown",
   "metadata": {},
   "source": []
  },
  {
   "cell_type": "markdown",
   "metadata": {},
   "source": [
    "## 1.9 Bayes' Rule"
   ]
  },
  {
   "cell_type": "markdown",
   "metadata": {},
   "source": [
    "### Thm 01.13\n",
    "![](media/Ch01/image110.png) <div style=\"text-align: right\">【p01.079】</div>\n",
    "\n",
    "### Thm 01.14\n",
    "![](media/Ch01/image117.png) <div style=\"text-align: right\">【p01.084】</div>\n",
    "![](media/Ch01/image118.png) <div style=\"text-align: right\">【p01.085】</div>\n",
    "\n",
    "\n",
    "----"
   ]
  },
  {
   "cell_type": "markdown",
   "metadata": {},
   "source": []
  },
  {
   "cell_type": "markdown",
   "metadata": {},
   "source": []
  },
  {
   "cell_type": "markdown",
   "metadata": {},
   "source": [
    "## Cols 01.xx"
   ]
  },
  {
   "cell_type": "markdown",
   "metadata": {},
   "source": [
    "### Col 01.01\n",
    "![](media/Ch01/image71.png) <div style=\"text-align: right\">【p01.052】</div>\n",
    "\n",
    "### Col 01.02\n",
    "![](media/Ch01/image72.png) <div style=\"text-align: right\">【p01.053】</div>\n",
    "\n",
    "### Col 01.03\n",
    "![](media/Ch01/image73.png) <div style=\"text-align: right\">【p01.054】</div>\n",
    "\n",
    "----"
   ]
  },
  {
   "cell_type": "markdown",
   "metadata": {},
   "source": []
  },
  {
   "cell_type": "markdown",
   "metadata": {},
   "source": [
    "## Exams 01.xx"
   ]
  },
  {
   "cell_type": "markdown",
   "metadata": {
    "heading_collapsed": true
   },
   "source": [
    "### Exam01.07\n",
    "\n",
    "Let R be the event that a red card is selected from an ordinary deck of 52 playing cards, and let S be the entire deck. Then R' is the event that the card selected from the deck is not a red card but a black card."
   ]
  },
  {
   "cell_type": "markdown",
   "metadata": {
    "heading_collapsed": true
   },
   "source": [
    "### Exam01.08\n",
    "\n",
    "Consider the sample space S = {book, cell phone, mp3, paper, stationery, laptop}. Let A = {book, stationery, laptop, paper}. Then the complement of A is A' = {cell phone, mp3}."
   ]
  },
  {
   "cell_type": "markdown",
   "metadata": {
    "heading_collapsed": true
   },
   "source": [
    "### Exam01.09\n",
    "\n",
    "Let E be the event that a person selected at random in a classroom is majoring in engineering, and let F be the event that the person is female. Then E ∩ F is the event of all female engineering students in the classroom.\n"
   ]
  },
  {
   "cell_type": "markdown",
   "metadata": {
    "heading_collapsed": true
   },
   "source": [
    "### Exam01.10\n",
    "\n",
    "Let V = {a, e, i, o, u} and C = {l, r, s, t}; then it follows that V ∩ C = φ. That is, V and C have no elements in common and, therefore, cannot both simultaneously occur.\n"
   ]
  },
  {
   "cell_type": "markdown",
   "metadata": {
    "heading_collapsed": true
   },
   "source": [
    "### Exam01.11\n",
    "\n",
    "A cable television company offers programs on eight different channels, three of which are affiliated with ABC, two with NBC, and one with CBS. The other two are an educational channel and the ESPN sports channel. Suppose that a person subscribing to this service turns on a television set without first selecting the channel. Let A be the event that the program belongs to the NBC network and B the event that it belongs to the CBS network. Since a television program cannot belong to more than one network, the events A and B have no programs in common. Therefore, the intersection A ∩ B contains no programs, and consequently the events A and B are mutually exclusive.\n"
   ]
  },
  {
   "cell_type": "markdown",
   "metadata": {
    "heading_collapsed": true
   },
   "source": [
    "### Exam01.12\n",
    "\n",
    "Let A = {a, b, c} and B = {b, c, d, e}; then A ∪ B = {a, b, c, d, e}.\n"
   ]
  },
  {
   "cell_type": "markdown",
   "metadata": {
    "heading_collapsed": true
   },
   "source": [
    "### Exam01.13\n",
    "\n",
    "Let P be the event that an employee selected at random from an oil drilling company smokes cigarettes. Let Q be the event that the employee selected drinks alcoholic beverages. Then the event P ∪ Q is the set of all employees who either drink or smoke or do both.\n"
   ]
  },
  {
   "cell_type": "markdown",
   "metadata": {},
   "source": [
    "### Exam01.14\n",
    "\n",
    "If M = {x | 3 < x < 9} and N = {y | 5 < y < 12}, then M ∪ N = {z | 3 < z < 12}.\n"
   ]
  },
  {
   "cell_type": "markdown",
   "metadata": {},
   "source": []
  },
  {
   "cell_type": "markdown",
   "metadata": {},
   "source": [
    "\n",
    "\n"
   ]
  },
  {
   "cell_type": "markdown",
   "metadata": {},
   "source": [
    "### Exam01.15\n",
    "\n",
    "(Example 2.18:) \n",
    "\n",
    "In one year, three awards (research, teaching, and service) will be given to a class of 25 graduate students in a statistics department. If each student can receive at most one award, how many possible selections are there?\n",
    "\n",
    "#### 【Solution】 :\n",
    "\n",
    "Since the awards are distinguishable, it is a permutation problem. \n",
    "\n",
    "The total number of sample points is\n",
    "\n",
    "$\n",
    "P^{25}_{3} = \\frac\n",
    "{25!}\n",
    "{(25 − 3)!}\n",
    "= \\frac\n",
    "{25!}\n",
    "{22!}\n",
    "= (25)(24)(23) = 13, 800.\n",
    "$"
   ]
  },
  {
   "cell_type": "markdown",
   "metadata": {},
   "source": [
    "#### 運用 Python 之 scipy.special 模組 來做計算\n",
    "\n",
    "```python\n",
    "import scipy.special as sp\n",
    "\n",
    "sp.comb(N, k)\n",
    "  #The number of combinations of N things taken k at a time.\n",
    "sp.perm(N, k)\n",
    "  #Permutations of N things taken k at a time, i.e., k-permutations of N.\n",
    "sp.factorial(n)\n",
    "  #The factorial of a number or array of numbers.\n",
    "```\n",
    "\n",
    "#### 利用 sp.perm? 或 sp.perm?? 來查看函數的說明"
   ]
  },
  {
   "cell_type": "code",
   "execution_count": 35,
   "metadata": {
    "code_folding": []
   },
   "outputs": [
    {
     "data": {
      "text/plain": [
       "(13800.0, 13799.999999999998, 13800)"
      ]
     },
     "execution_count": 35,
     "metadata": {},
     "output_type": "execute_result"
    }
   ],
   "source": [
    "# sp.perm?\n",
    "\n",
    "# 活用 \n",
    "import scipy.special as sp\n",
    "\n",
    "ans1= sp.perm(25,3)\n",
    "\n",
    "ans2= sp.factorial(25)/sp.factorial(22)\n",
    "\n",
    "ans3= 25*24*23\n",
    "\n",
    "ans1, ans2, ans3\n"
   ]
  },
  {
   "cell_type": "markdown",
   "metadata": {},
   "source": [
    "\n"
   ]
  },
  {
   "cell_type": "markdown",
   "metadata": {},
   "source": []
  },
  {
   "cell_type": "markdown",
   "metadata": {},
   "source": [
    "## Exers 01.xx\n",
    "\n",
    "\n",
    "### Exercises:\n",
    "\n",
    "\n",
    "- 數學的學習過程中，做習題是非常重要的，不可或缺的過程，課本中，所有章節或段落都有許多習題，各位同學盡量多做，最低限度，每個段落的的習題至少都做3題以上。\n",
    "- \n",
    "- 請優先練習 第1題、最後1題以及題號為中位數(首尾題號相加除以2)的題目\n",
    "- \n",
    "- 以本節為例，優先選擇 \n",
    "- \n",
    "    - 01.01, (首題) \n",
    "    - 01.16, (尾題) \n",
    "    - 01.08. (中間題)\n",
    "\n",
    "----"
   ]
  },
  {
   "cell_type": "markdown",
   "metadata": {},
   "source": [
    "### Exer01.01\n",
    "(2.1)\n",
    "\n",
    "List the elements of each of the following sample\n",
    "spaces:\n",
    "\n",
    "(a) the set of integers between 1 and 50 divisible by 8;\n",
    "\n",
    "(b) the set $ S = \\{x | x^2 + 4x − 5 = 0\\} $\n",
    "\n",
    "(c) the set of outcomes when a coin is tossed until a\n",
    "tail or three heads appear;\n",
    "\n",
    "(d) the set S = {x | x is a continent};\n",
    "\n",
    "(e) the set S = {x | 2x − 4 ≥ 0 and x < 1}."
   ]
  },
  {
   "cell_type": "markdown",
   "metadata": {},
   "source": [
    "### Exer01.16\n",
    "(2.20) \n",
    "\n",
    "Referring to Exercise 2.19 and the Venn diagram\n",
    "of Figure 2.5, list the numbers of the regions that represent\n",
    "the following events:\n",
    "\n",
    "(a) The family will experience no mechanical problems\n",
    "and will not receive a ticket for a traffic violation\n",
    "but will arrive at a campsite with no vacancies.\n",
    "\n",
    "(b) The family will experience both mechanical problems\n",
    "and trouble in locating a campsite with a vacancy\n",
    "but will not receive a ticket for a traffic violation.\n",
    "\n",
    "(c) The family will either have mechanical trouble or\n",
    "arrive at a campsite with no vacancies but will not\n",
    "receive a ticket for a traffic violation.\n",
    "\n",
    "(d) The family will not arrive at a campsite with no\n",
    "vacancies.\n",
    "\n",
    "----\n",
    "\n",
    "2.19 \n",
    "\n",
    "Suppose that a family is leaving on a summer\n",
    "vacation in their camper and that M is the event that\n",
    "they will experience mechanical problems, T is the\n",
    "event that they will receive a ticket for committing a\n",
    "traffic violation, and V is the event that they will arrive\n",
    "at a campsite with no vacancies. Referring to the\n",
    "Venn diagram of Figure 2.5, state in words the events\n",
    "represented by the following regions:\n",
    "\n",
    "(a) region 5;\n",
    "\n",
    "(b) region 3;\n",
    "\n",
    "(c) regions 1 and 2 together;\n",
    "\n",
    "(d) regions 4 and 7 together;\n",
    "\n",
    "(e) regions 3, 6, 7, and 8 together.\n",
    "\n",
    "----\n",
    "\n",
    "![image.png](fg/fgExer01.16.png)\n"
   ]
  },
  {
   "cell_type": "markdown",
   "metadata": {},
   "source": [
    "#### Exer01.08\n",
    "(2.10) \n",
    "\n",
    "An engineering firm is hired to determine if certain\n",
    "waterways in Virginia are safe for fishing. Samples\n",
    "are taken from three rivers.\n",
    "\n",
    "(a) List the elements of a sample space S, using the\n",
    "letters F for safe to fish and N for not safe to fish.\n",
    "\n",
    "(b) List the elements of S corresponding to event E\n",
    "that at least two of the rivers are safe for fishing.\n",
    "\n",
    "(c) Define an event that has as its elements the points\n",
    "{FFF,NFF,FFN,NFN}."
   ]
  },
  {
   "cell_type": "markdown",
   "metadata": {},
   "source": []
  },
  {
   "cell_type": "markdown",
   "metadata": {},
   "source": []
  },
  {
   "cell_type": "markdown",
   "metadata": {},
   "source": []
  },
  {
   "cell_type": "code",
   "execution_count": null,
   "metadata": {},
   "outputs": [],
   "source": []
  },
  {
   "cell_type": "code",
   "execution_count": null,
   "metadata": {},
   "outputs": [],
   "source": []
  },
  {
   "cell_type": "markdown",
   "metadata": {
    "heading_collapsed": true
   },
   "source": [
    "### Exam01.16\n",
    "\n",
    "Example 2.19: \n",
    "\n",
    "A president and a treasurer are to be chosen from a student club consisting of 50 people. How many different choices of officers are possible if \n",
    "\n",
    "(a) there are no restrictions; \n",
    "\n",
    "(b) A will serve only if he is president; \n",
    "\n",
    "(c) B and C will serve together or not at all; \n",
    "\n",
    "(d) D and E will not serve together?\n"
   ]
  },
  {
   "cell_type": "markdown",
   "metadata": {
    "heading_collapsed": true
   },
   "source": [
    "### Exam01.17\n",
    "\n",
    "Example 2.20: \n",
    "\n",
    "In a college football training session, the defensive coordinator needs to have 10 players standing in a row. Among these 10 players, there are 1 freshman, 2 sophomores, 4 juniors, and 3 seniors. How many different ways can they be arranged in a row if only their class level will be distinguished?\n"
   ]
  },
  {
   "cell_type": "markdown",
   "metadata": {},
   "source": [
    "### Exam01.18\n",
    "\n",
    "Example 2.21: \n",
    "\n",
    "In how many ways can 7 graduate students be assigned to 1 triple and 2 double\n",
    "hotel rooms during a conference?\n",
    "\n",
    "\n",
    "【Solution】 : \n",
    "\n",
    "The total number of possible partitions would be\n",
    "$\n",
    "C^{7}_{3, 2, 2}\n",
    "=\n",
    "\\frac{7!}\n",
    "{3! 2! 2!}\n",
    "= 210.\n",
    "$"
   ]
  },
  {
   "cell_type": "code",
   "execution_count": 36,
   "metadata": {},
   "outputs": [
    {
     "data": {
      "text/plain": [
       "210.0"
      ]
     },
     "execution_count": 36,
     "metadata": {},
     "output_type": "execute_result"
    }
   ],
   "source": [
    "import math\n",
    "\n",
    "# 反斜線用來 把 \"斷行\" 連起來，它的【後面】不能再有任何符號(連空白也不行)\n",
    "\n",
    "math.factorial(7)  \\\n",
    "/math.factorial(3) \\\n",
    "/math.factorial(2) \\\n",
    "/math.factorial(2)\n"
   ]
  },
  {
   "cell_type": "markdown",
   "metadata": {},
   "source": [
    "### Ref: [Multinomial theorem](https://en.wikipedia.org/wiki/Multinomial_theorem)\n",
    "\n",
    "For any positive integer $m$ and any nonnegative integer $n$, \\\n",
    "the multinomial formula tells us \\\n",
    "how a sum with $m$ terms expands when raised to an arbitrary power $n$:\n",
    "\n",
    "$ \n",
    "(x_{1}+x_{2}+\\cdots +x_{m})^{n}=\\sum _{k_{1}+k_{2}+\\cdots +k_{m}=n}{n \\choose k_{1},k_{2},\\ldots ,k_{m}}\\prod _{t=1}^{m}x_{t}^{k_{t}}\\,\n",
    "$\n",
    "\n",
    "where\n",
    "\n",
    "$ \n",
    "{n \\choose k_{1},k_{2},\\ldots ,k_{m}}={\\frac {n!}{k_{1}!\\,k_{2}!\\cdots k_{m}!}}\n",
    "$\n",
    "\n"
   ]
  },
  {
   "cell_type": "markdown",
   "metadata": {},
   "source": [
    "### Exam01.19\n",
    "\n",
    "Example 2.22: \n",
    "\n",
    "A young boy asks his mother to get 5 $ GameBoy^{TM} $ cartridges from his collection\n",
    "of 10 arcade and 5 sports games. How many ways are there that his mother can\n",
    "get 3 arcade and 2 sports games?\n",
    "\n",
    "----\n",
    "\n",
    "【Solution】: \n",
    "\n",
    "The number of ways of selecting 3 cartridges from 10 is\n",
    "\n",
    "$\n",
    "C^{10}_{3}\n",
    "=\n",
    "\\frac{10!}\n",
    "{3! (10 − 3)!}\n",
    "= 120.\n",
    "$\n",
    "\n",
    "The number of ways of selecting 2 cartridges from 5 is\n",
    "\n",
    "$\n",
    "C^{5}_{2}\n",
    "=\n",
    "\\frac{5!}\n",
    "{2! 3!}\n",
    "= 10\n",
    "$\n",
    "\n",
    "Using the multiplication rule  \n",
    "with $n_1$ = 120 and $n_2$ = 10, \n",
    "we have\n",
    "(120)(10) = 1200 ways."
   ]
  },
  {
   "cell_type": "code",
   "execution_count": 37,
   "metadata": {},
   "outputs": [
    {
     "data": {
      "text/plain": [
       "1200.0"
      ]
     },
     "execution_count": 37,
     "metadata": {},
     "output_type": "execute_result"
    }
   ],
   "source": [
    "sp.comb(10,3) * sp.comb(5,2)"
   ]
  },
  {
   "cell_type": "markdown",
   "metadata": {},
   "source": [
    "### Exam01.20\n",
    "\n",
    "(Example 2.23:)\n",
    "\n",
    "How many different letter arrangements can be made from the letters in the word\n",
    "STATISTICS?\n",
    "\n",
    "【Solution】: \n",
    "\n",
    "Using the same argument as in the discussion for Theorem 1.6, in this example we can actually apply Theorem 1.5 to obtain\n",
    "\n",
    "$\n",
    "C^{10}_{3, 3, 2, 1, 1}\n",
    "=\n",
    "\\frac{10!}\n",
    "{3! 3! 2! 1! 1!}\n",
    "= 50,400.\n",
    "$\n",
    "\n",
    "Here we have 10 total letters, with 2 letters (S, T) appearing 3 times each, letter\n",
    "I appearing twice, and letters A and C appearing once each. On the other hand,\n",
    "this result can be directly obtained by using Theorem 1.4.\n"
   ]
  },
  {
   "cell_type": "markdown",
   "metadata": {},
   "source": []
  },
  {
   "cell_type": "markdown",
   "metadata": {},
   "source": []
  },
  {
   "cell_type": "code",
   "execution_count": 38,
   "metadata": {},
   "outputs": [
    {
     "data": {
      "text/plain": [
       "50400.0"
      ]
     },
     "execution_count": 38,
     "metadata": {},
     "output_type": "execute_result"
    }
   ],
   "source": [
    "sp.factorial(10) \\\n",
    "/sp.factorial(3) \\\n",
    "/sp.factorial(3) \\\n",
    "/sp.factorial(2) \\\n",
    "/sp.factorial(1) \\\n",
    "/sp.factorial(1)"
   ]
  },
  {
   "cell_type": "markdown",
   "metadata": {},
   "source": []
  },
  {
   "cell_type": "markdown",
   "metadata": {},
   "source": [
    "## Exercises\n",
    "每小節的\n",
    "(首題)\n",
    "(尾題)\n",
    "(中題)\n"
   ]
  },
  {
   "cell_type": "markdown",
   "metadata": {
    "solution": "hidden"
   },
   "source": [
    "### Exercise s01.80, (b02.103)\n",
    "\n",
    "2.103 \n",
    "\n",
    "A truth serum has the property that 90% of the guilty suspects are properly judged \n",
    "while, of course, 10% of the guilty suspects are improperly found innocent. \n",
    "\n",
    "On the other hand, innocent suspects are misjudged 1% of the time. \n",
    "\n",
    "If the suspect was selected from a group of suspects of which only 5% have ever committed a crime, \n",
    "and the serum indicates that he is guilty, what is the probability that he is innocent?\n",
    "\n",
    "----\n",
    "\n",
    "真相血清具有以下特性：\n",
    "\n",
    "可以對 90％ 的犯罪者進行正確判斷其為有罪，\n",
    "然而，有 10％ 的犯罪者會被錯誤地視為無罪。\n",
    "\n",
    "另一方面，無辜的嫌疑人被誤判為有罪的可能性為1％。 \n",
    "\n",
    "如果一群人中只有 5％ 的人會犯罪，從中找到了犯罪嫌疑人，並且真相血清測試表明他有罪，那麼他被冤枉(亦即他沒犯罪)的可能性(機率)是多少？"
   ]
  },
  {
   "cell_type": "markdown",
   "metadata": {
    "solution": "hidden"
   },
   "source": [
    "[rySol: s01.80]\n",
    "\n",
    "![](fg/exS01.80.png)"
   ]
  },
  {
   "cell_type": "markdown",
   "metadata": {
    "solution": "hidden"
   },
   "source": [
    "### Exercise s01.97, (b02.126)\n",
    "\n",
    "2.126 \n",
    "\n",
    "During bad economic times, industrial workers are dismissed and are often replaced by machines. \n",
    "\n",
    "The history of 100 workers whose loss of employment is attributable to technological advances is reviewed. \n",
    "\n",
    "For each of these individuals, \n",
    "it is determined if he or she \n",
    "- was given an alternative job within the same company, \n",
    "- found a job with another company in the same field, \n",
    "- found a job in a new field, \n",
    "- has been unemployed for 1 year. \n",
    "\n",
    "In addition, the `union status` of each worker is recorded. The following table summarizes the results.\n",
    "\n",
    "... |Union |Nonunion\n",
    "--- |---   |---\n",
    "Same Company (new  Field)  | 40    |15\n",
    "New  Company (same Field)  | 13    |10\n",
    "New  Company (new  Field)  | 04    |11\n",
    "Unemployed   (for 1 year)  | 02    |05\n",
    "\n",
    "\n",
    "\n",
    "(a) If the selected worker found a job with a new company\n",
    "in the same field, what is the probability that\n",
    "the worker is a union member?\n",
    "\n",
    "(b) If the worker is a union member, what is the probability\n",
    "that the worker has been unemployed for a\n",
    "year?\n",
    "\n",
    "----\n",
    "\n",
    "(a) 如果選定的工人在同一領域找到了一家新公司的工作，那麼該工人成為工會會員的機率是多少？\n",
    "\n",
    "(b) 如果工人是工會會員，那麼該工人失業一年的機率是多少？\n",
    "\n",
    "----\n"
   ]
  },
  {
   "cell_type": "markdown",
   "metadata": {
    "solution": "hidden"
   },
   "source": [
    "[rySol]\n",
    "![](fg/exS01.97.png)"
   ]
  },
  {
   "cell_type": "markdown",
   "metadata": {
    "solution": "hidden"
   },
   "source": [
    "### Exercise s01.88, (b02.115)\n",
    "\n",
    "2.115 \n",
    "\n",
    "A certain federal agency employs three consulting firms (A, B, and C) with probabilities 0.40, 0.35, and 0.25, respectively. \n",
    "\n",
    "From past experience it is known that the probability of cost overruns for the firms are 0.05, 0.03, and 0.15, respectively. \n",
    "\n",
    "Suppose a cost overrun is experienced by the agency.\n",
    "\n",
    "(a) What is the probability that the consulting firm involved is company C? \n",
    "\n",
    "(b) What is the probability that it is company A?\n",
    "\n",
    "----\n",
    "[rySol]\n",
    "\n",
    "![](fg/exS01.88.png)"
   ]
  },
  {
   "cell_type": "markdown",
   "metadata": {},
   "source": []
  },
  {
   "cell_type": "markdown",
   "metadata": {},
   "source": [
    "![](fg/fg_conditionalProb.png)"
   ]
  },
  {
   "cell_type": "markdown",
   "metadata": {},
   "source": [
    "![](fg/fg_conditionalProb01.png)"
   ]
  },
  {
   "cell_type": "markdown",
   "metadata": {},
   "source": []
  },
  {
   "cell_type": "markdown",
   "metadata": {},
   "source": [
    "# 小考：2020/03/20 (周五) 下午2:00~3:00\n",
    "\n",
    "- 範圍： \n",
    "\n",
    "- 小書 \n",
    "    - Chapter 1\n",
    "    - Review Exercises 1.80 ~ 1.97\n",
    "\n",
    "- 大書\n",
    "    - Chapter 2\n",
    "    - Review Exercises 2.103 ~ 2.128\n",
    "\n",
    "\n",
    "- 題目以英文出題，\n",
    "- open book and notes and computer/smart phones for 個人查閱資料\n",
    "- 禁止同學間任何形式的通訊、照相，將視同作弊。\n"
   ]
  },
  {
   "cell_type": "markdown",
   "metadata": {},
   "source": [
    "# 影片：從機率公設、條件機率到貝式定理\n",
    "\n",
    "\n",
    "https://youtu.be/gpCmFDPXf-o\n",
    "\n",
    "https://youtu.be/G7Epez9Fyuo\n",
    "\n",
    "https://youtu.be/g8d_gyIEPOw\n",
    "\n",
    "https://youtu.be/B3KO3H3jjGM\n",
    "\n",
    "https://youtu.be/GGam8BtDzsg\n",
    "\n",
    "https://youtu.be/gQXBLXHGcBA"
   ]
  },
  {
   "cell_type": "code",
   "execution_count": 39,
   "metadata": {},
   "outputs": [
    {
     "data": {
      "image/jpeg": "[encoded data removed]",
      "text/html": [
       "\n",
       "        <iframe\n",
       "            width=\"400\"\n",
       "            height=\"300\"\n",
       "            src=\"https://www.youtube.com/embed/gpCmFDPXf-o\"\n",
       "            frameborder=\"0\"\n",
       "            allowfullscreen\n",
       "        ></iframe>\n",
       "        "
      ],
      "text/plain": [
       "<IPython.lib.display.YouTubeVideo at 0x1ee62b66cc8>"
      ]
     },
     "execution_count": 39,
     "metadata": {},
     "output_type": "execute_result"
    }
   ],
   "source": [
    "from IPython.display import YouTubeVideo    \n",
    "\n",
    "YouTubeVideo(\"gpCmFDPXf-o\")"
   ]
  },
  {
   "cell_type": "code",
   "execution_count": 40,
   "metadata": {},
   "outputs": [
    {
     "data": {
      "image/jpeg": "[encoded data removed]",
      "text/html": [
       "\n",
       "        <iframe\n",
       "            width=\"400\"\n",
       "            height=\"300\"\n",
       "            src=\"https://www.youtube.com/embed/G7Epez9Fyuo\"\n",
       "            frameborder=\"0\"\n",
       "            allowfullscreen\n",
       "        ></iframe>\n",
       "        "
      ],
      "text/plain": [
       "<IPython.lib.display.YouTubeVideo at 0x1ee62b66e48>"
      ]
     },
     "execution_count": 40,
     "metadata": {},
     "output_type": "execute_result"
    }
   ],
   "source": [
    "YouTubeVideo(\"G7Epez9Fyuo\")"
   ]
  },
  {
   "cell_type": "code",
   "execution_count": 41,
   "metadata": {},
   "outputs": [
    {
     "data": {
      "image/jpeg": "[encoded data removed]",
      "text/html": [
       "\n",
       "        <iframe\n",
       "            width=\"400\"\n",
       "            height=\"300\"\n",
       "            src=\"https://www.youtube.com/embed/g8d_gyIEPOw\"\n",
       "            frameborder=\"0\"\n",
       "            allowfullscreen\n",
       "        ></iframe>\n",
       "        "
      ],
      "text/plain": [
       "<IPython.lib.display.YouTubeVideo at 0x1ee628937c8>"
      ]
     },
     "execution_count": 41,
     "metadata": {},
     "output_type": "execute_result"
    }
   ],
   "source": [
    "YouTubeVideo(\"g8d_gyIEPOw\")"
   ]
  },
  {
   "cell_type": "code",
   "execution_count": 42,
   "metadata": {},
   "outputs": [
    {
     "data": {
      "image/jpeg": "[encoded data removed]",
      "text/html": [
       "\n",
       "        <iframe\n",
       "            width=\"400\"\n",
       "            height=\"300\"\n",
       "            src=\"https://www.youtube.com/embed/B3KO3H3jjGM\"\n",
       "            frameborder=\"0\"\n",
       "            allowfullscreen\n",
       "        ></iframe>\n",
       "        "
      ],
      "text/plain": [
       "<IPython.lib.display.YouTubeVideo at 0x1ee62b66d08>"
      ]
     },
     "execution_count": 42,
     "metadata": {},
     "output_type": "execute_result"
    }
   ],
   "source": [
    "YouTubeVideo(\"B3KO3H3jjGM\")"
   ]
  },
  {
   "cell_type": "code",
   "execution_count": 43,
   "metadata": {},
   "outputs": [
    {
     "data": {
      "image/jpeg": "[encoded data removed]",
      "text/html": [
       "\n",
       "        <iframe\n",
       "            width=\"400\"\n",
       "            height=\"300\"\n",
       "            src=\"https://www.youtube.com/embed/GGam8BtDzsg\"\n",
       "            frameborder=\"0\"\n",
       "            allowfullscreen\n",
       "        ></iframe>\n",
       "        "
      ],
      "text/plain": [
       "<IPython.lib.display.YouTubeVideo at 0x1ee62bb2d88>"
      ]
     },
     "execution_count": 43,
     "metadata": {},
     "output_type": "execute_result"
    }
   ],
   "source": [
    "YouTubeVideo(\"GGam8BtDzsg\")"
   ]
  },
  {
   "cell_type": "code",
   "execution_count": 44,
   "metadata": {},
   "outputs": [
    {
     "data": {
      "image/jpeg": "[encoded data removed]",
      "text/html": [
       "\n",
       "        <iframe\n",
       "            width=\"400\"\n",
       "            height=\"300\"\n",
       "            src=\"https://www.youtube.com/embed/gQXBLXHGcBA\"\n",
       "            frameborder=\"0\"\n",
       "            allowfullscreen\n",
       "        ></iframe>\n",
       "        "
      ],
      "text/plain": [
       "<IPython.lib.display.YouTubeVideo at 0x1ee62bb27c8>"
      ]
     },
     "execution_count": 44,
     "metadata": {},
     "output_type": "execute_result"
    }
   ],
   "source": [
    "YouTubeVideo(\"gQXBLXHGcBA\")"
   ]
  },
  {
   "cell_type": "markdown",
   "metadata": {},
   "source": [
    "![](fg/fg_prob_cond_bayes.png)"
   ]
  }
 ],
 "metadata": {
  "kernelspec": {
   "display_name": "Python 3",
   "language": "python",
   "name": "python3"
  },
  "language_info": {
   "codemirror_mode": {
    "name": "ipython",
    "version": 3
   },
   "file_extension": ".py",
   "mimetype": "text/x-python",
   "name": "python",
   "nbconvert_exporter": "python",
   "pygments_lexer": "ipython3",
   "version": "3.7.4"
  },
  "latex_envs": {
   "LaTeX_envs_menu_present": true,
   "autoclose": false,
   "autocomplete": true,
   "bibliofile": "biblio.bib",
   "cite_by": "apalike",
   "current_citInitial": 1,
   "eqLabelWithNumbers": true,
   "eqNumInitial": 1,
   "hotkeys": {
    "equation": "Ctrl-E",
    "itemize": "Ctrl-I"
   },
   "labels_anchors": false,
   "latex_user_defs": false,
   "report_style_numbering": false,
   "user_envs_cfg": false
  },
  "nbTranslate": {
   "displayLangs": [
    "*"
   ],
   "hotkey": "alt-t",
   "langInMainMenu": true,
   "sourceLang": "en",
   "targetLang": "zh-tw",
   "useGoogleTranslate": true
  },
  "toc": {
   "base_numbering": 1,
   "nav_menu": {},
   "number_sections": false,
   "sideBar": true,
   "skip_h1_title": false,
   "title_cell": "Table of Contents",
   "title_sidebar": "Contents",
   "toc_cell": false,
   "toc_position": {
    "height": "calc(100% - 180px)",
    "left": "10px",
    "top": "150px",
    "width": "579.333px"
   },
   "toc_section_display": false,
   "toc_window_display": true
  },
  "varInspector": {
   "cols": {
    "lenName": 16,
    "lenType": 16,
    "lenVar": 40
   },
   "kernels_config": {
    "python": {
     "delete_cmd_postfix": "",
     "delete_cmd_prefix": "del ",
     "library": "var_list.py",
     "varRefreshCmd": "print(var_dic_list())"
    },
    "r": {
     "delete_cmd_postfix": ") ",
     "delete_cmd_prefix": "rm(",
     "library": "var_list.r",
     "varRefreshCmd": "cat(var_dic_list()) "
    }
   },
   "types_to_exclude": [
    "module",
    "function",
    "builtin_function_or_method",
    "instance",
    "_Feature"
   ],
   "window_display": false
  }
 },
 "nbformat": 4,
 "nbformat_minor": 2
}
