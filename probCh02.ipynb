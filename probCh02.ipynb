{
 "cells": [
  {
   "cell_type": "markdown",
   "metadata": {},
   "source": [
    "---\n",
    "# Current Chapter ...\n",
    "[Local](./probCh02.ipynb)\n",
    "[Github](https://github.com/renyuanL/_ryProb2020/blob/master/probCh02.ipynb)\n",
    "[Colab](https://colab.research.google.com/github/renyuanL/_ryProb2020/blob/master/probCh02.ipynb)\n"
   ]
  },
  {
   "cell_type": "markdown",
   "metadata": {
    "heading_collapsed": true
   },
   "source": [
    "## 2. Random Variables, Distributions, and Expectations\n",
    "\n",
    "   - 2.1 Concept of a Random Variable\n",
    "   - 2.2 Discrete Probability Distributions\n",
    "   - 2.3 Continuous Probability Distributions\n",
    "       -             Exercises\n",
    "   - 2.4 Joint Probability Distributions\n",
    "       -             Exercises\n",
    "   - 2.5 Mean of a Random Variable\n",
    "       -             Exercises\n",
    "   - 2.6 Variance and Covariance of Random Variables.\n",
    "       -             Exercises\n",
    "   - 2.7 Means and Variances of Linear Combinations of Random Variables\n",
    "       -             Exercises\n",
    "   -     Review Exercises\n",
    "   - 2.8 Potential Misconceptions and Hazards; Relationship to Material in Other Chapters\n",
    "   "
   ]
  },
  {
   "cell_type": "markdown",
   "metadata": {
    "heading_collapsed": true
   },
   "source": [
    "## Ref: a on-line course\n",
    "\n",
    "https://www.khanacademy.org/math/statistics-probability\n",
    "\n",
    "https://www.khanacademy.org/math/statistics-probability/random-variables-stats-library\n",
    "\n",
    "![]()\n",
    "\n",
    "![image.png](fg/fg_KhanAcademy.PNG)\n"
   ]
  },
  {
   "cell_type": "markdown",
   "metadata": {
    "hidden": true
   },
   "source": [
    "----\n",
    "\n",
    "# Ch02\n",
    "\n",
    "----"
   ]
  },
  {
   "cell_type": "markdown",
   "metadata": {
    "hidden": true
   },
   "source": [
    "![](media/Ch02/image6.png) <div style=\"text-align: right\">【p02.000】</div>"
   ]
  },
  {
   "cell_type": "markdown",
   "metadata": {
    "heading_collapsed": true
   },
   "source": [
    "## Def 2.1: Random Variable\n",
    "\n",
    "![image.png](fg/ch02/def2.01.png)\n",
    "\n",
    "![](media/Ch02/image7.png) <div style=\"text-align: right\">【p02.001】</div>"
   ]
  },
  {
   "cell_type": "markdown",
   "metadata": {
    "hidden": true
   },
   "source": [
    "\n"
   ]
  },
  {
   "cell_type": "markdown",
   "metadata": {},
   "source": [
    "## Ex 2.1\n",
    "\n",
    "Two balls are drawn in succession without replacement from an urn containing 4 red balls and 3 black balls. The possible outcomes and the values y of the random variable Y , where Y is the number of red balls, are ....\n",
    "\n",
    "\n",
    "![](media/Ch02/image8.png) <div style=\"text-align: right\">【p02.002】</div>\n",
    "![](media/Ch02/image9.png) <div style=\"text-align: right\">【p02.003】</div>"
   ]
  },
  {
   "cell_type": "markdown",
   "metadata": {},
   "source": [
    "## Ex 2.2\n",
    "\n",
    "A stockroom clerk returns three safety helmets at random to three steel mill employees who had previously checked them. If Smith, Jones, and Brown, in that order, receive one of the three hats, list the sample points for the possible orders of returning the helmets, and find the value m of the random variable M that represents the number of correct matches.\n",
    "\n",
    "\n",
    "![](media/Ch02/image10.png) <div style=\"text-align: right\">【p02.004】</div>"
   ]
  },
  {
   "cell_type": "markdown",
   "metadata": {},
   "source": [
    "## Def2.2: Discrete Sample Space\n",
    "![image.png](fg/ch02/def2.02.png)\n",
    "\n",
    "![](media/Ch02/image11.png) <div style=\"text-align: right\">【p02.005】</div>"
   ]
  },
  {
   "cell_type": "markdown",
   "metadata": {},
   "source": [
    "\n"
   ]
  },
  {
   "cell_type": "code",
   "execution_count": null,
   "metadata": {},
   "outputs": [],
   "source": []
  },
  {
   "cell_type": "markdown",
   "metadata": {},
   "source": [
    "`【Example 3.3】`: \n",
    "\n",
    "Consider the simple condition in which components are arriving from the production\n",
    "line and they are stipulated to be defective or not defective. \n",
    "\n",
    "Define the random variable $X$ by\n",
    "\n",
    "$\n",
    "X = \\begin{cases}\n",
    "1, \\text{ if the component is defective},\\\\\n",
    "0, \\text{ if the component is not defective}.\n",
    "\\end{cases}\n",
    "$\n",
    "\n",
    "Clearly the assignment of 1 or 0 is arbitrary though quite convenient. \n",
    "This will become clear in later chapters. \n",
    "The random variable for which 0 and 1 are chosen to describe the two possible values is called a `Bernoulli random variable`.\n",
    "\n",
    "![](media/Ch02/image12.png) <div style=\"text-align: right\">【p02.006】</div>"
   ]
  },
  {
   "cell_type": "markdown",
   "metadata": {},
   "source": [
    "[Bernoulli trial](https://en.wikipedia.org/wiki/Bernoulli_trial)\n",
    "\n",
    "- a Bernoulli trial (or binomial trial) is a random experiment with exactly two possible outcomes, \n",
    "- \"success\" and \"failure\", \n",
    "- in which the probability of success is the same every time the experiment is conducted.\n",
    "\n",
    "[Jacob Bernoulli](https://en.wikipedia.org/wiki/Jacob_Bernoulli)\n",
    "\n",
    "- In 1683, Jacob Bernoulli discovered the constant e \n",
    "- by studying a question about compound interest \n",
    "- which required him to find the value of the following expression \n",
    "- (which is in fact e):\n",
    "\n",
    "---\n",
    "\n",
    "$\n",
    "exp(1)=e^{1}=\\\\\n",
    "\\lim _{n\\to \\infty }\\left(1+{\\frac {1}{n}}\\right)^{n}\n",
    "$\n",
    "\n",
    "---\n",
    "\n",
    "$\n",
    "exp(x)=e^{x}=\\\\\n",
    "\\lim _{n\\to \\infty }\\left(1+{\\frac {x}{n}}\\right)^{n}\n",
    "$"
   ]
  },
  {
   "cell_type": "code",
   "execution_count": 1,
   "metadata": {},
   "outputs": [
    {
     "data": {
      "text/plain": [
       "(array([1.e+00, 1.e+01, 1.e+02, 1.e+03, 1.e+04, 1.e+05, 1.e+10]),\n",
       " array([2.        , 2.59374246, 2.70481383, 2.71692393, 2.71814593,\n",
       "        2.71826824, 2.71828205]))"
      ]
     },
     "execution_count": 1,
     "metadata": {},
     "output_type": "execute_result"
    }
   ],
   "source": [
    "import numpy as np\n",
    "\n",
    "def f(x,n):\n",
    "    y= (1+x/n)**n\n",
    "    return y\n",
    "\n",
    "n= np.array([1,10,100,1000,10000, 1e5, 1e10])\n",
    "\n",
    "n, f(1,n)"
   ]
  },
  {
   "cell_type": "code",
   "execution_count": 2,
   "metadata": {},
   "outputs": [
    {
     "data": {
      "text/plain": [
       "(array([0, 1, 2, 3, 4, 5, 6, 7, 8, 9]),\n",
       " array([1.00000000e+00, 2.71828183e+00, 7.38905610e+00, 2.00855369e+01,\n",
       "        5.45981500e+01, 1.48413159e+02, 4.03428793e+02, 1.09663316e+03,\n",
       "        2.98095799e+03, 8.10308393e+03]),\n",
       " array([1.00000000e+00, 2.71828205e+00, 7.38905732e+00, 2.00855419e+01,\n",
       "        5.45981681e+01, 1.48413220e+02, 4.03428993e+02, 1.09663379e+03,\n",
       "        2.98095995e+03, 8.10308993e+03]))"
      ]
     },
     "execution_count": 2,
     "metadata": {},
     "output_type": "execute_result"
    }
   ],
   "source": [
    "import numpy as np\n",
    "\n",
    "x= np.arange(10)\n",
    "x, np.exp(x), f(x, n=1e10)"
   ]
  },
  {
   "cell_type": "markdown",
   "metadata": {},
   "source": [
    "## Example 2.4: \n",
    "\n",
    "Statisticians use sampling plans \n",
    "to either accept or reject batches or lots of material. \n",
    "\n",
    "Suppose one of these sampling plans \n",
    "involves sampling independently 10 items \n",
    "from a lot of 100 items in which 12 are defective. \n",
    "\n",
    "Let X be the random variable \n",
    "defined as the number of items found defective \n",
    "in the sample of 10. \n",
    "\n",
    "In this case, the random variable X takes on the values 0, 1, 2, . . . , 9, 10.\n",
    "\n",
    "\n",
    "![](media/Ch02/image13.png) <div style=\"text-align: right\">【p02.007】</div>"
   ]
  },
  {
   "cell_type": "markdown",
   "metadata": {},
   "source": [
    "[rySol]:\n",
    "\n",
    "[](fg/fg_ex3.4.png)"
   ]
  },
  {
   "cell_type": "code",
   "execution_count": 3,
   "metadata": {},
   "outputs": [
    {
     "data": {
      "text/plain": [
       "(array([ 0,  1,  2,  3,  4,  5,  6,  7,  8,  9, 10]),\n",
       " array([2.78500976e-01, 3.79774058e-01, 2.33043172e-01, 8.47429717e-02,\n",
       "        2.02227546e-02, 3.30917803e-03, 3.76042957e-04, 2.93020486e-05,\n",
       "        1.49840021e-06, 4.54060671e-08, 6.19173642e-10]),\n",
       " 1.0,\n",
       " array([ 0,  1,  2,  3,  4,  5,  6,  7,  8,  9, 10]),\n",
       " array([2.60750269e-01, 3.96076358e-01, 2.45072246e-01, 8.06822210e-02,\n",
       "        1.54968900e-02, 1.79241138e-03, 1.24473012e-04, 5.02076016e-06,\n",
       "        1.09464248e-07, 1.11840866e-09, 3.81275679e-12]),\n",
       " 1.0)"
      ]
     },
     "execution_count": 3,
     "metadata": {},
     "output_type": "execute_result"
    }
   ],
   "source": [
    "import numpy as np\n",
    "import scipy.special as sp\n",
    "\n",
    "f= sp.factorial\n",
    "\n",
    "N= 100\n",
    "K= 12\n",
    "\n",
    "p= K/N # == .12\n",
    "q= 1-p\n",
    "\n",
    "n= 10\n",
    "\n",
    "x= np.arange(0,n+1)\n",
    "\n",
    "# (1) Binomial 近似，但公式簡單\n",
    "f1= p**x * q**(n-x) * (f(n)/f(x)/f(n-x))\n",
    "\n",
    "# (2) HyperGeometric 理論精準，但公式繁雜\n",
    "f2=  (f(K)/f(x)/f(K-x))          \\\n",
    "   * (f(N-K)/f(n-x)/f(N-K-n+x))  \\\n",
    "   / (f(N)/f(n)/f(N-n))\n",
    "\n",
    "x, f1, f1.sum(), \\\n",
    "x, f2, f2.sum()\n"
   ]
  },
  {
   "cell_type": "code",
   "execution_count": 4,
   "metadata": {},
   "outputs": [
    {
     "data": {
      "image/png": "[encoded data removed]",
      "text/plain": [
       "<Figure size 432x288 with 1 Axes>"
      ]
     },
     "metadata": {
      "needs_background": "light"
     },
     "output_type": "display_data"
    }
   ],
   "source": [
    "import matplotlib.pyplot as pl\n",
    "pl.plot(x,f1,'o', x,f2, 'x'); pl.grid()\n"
   ]
  },
  {
   "cell_type": "code",
   "execution_count": null,
   "metadata": {},
   "outputs": [],
   "source": []
  },
  {
   "cell_type": "markdown",
   "metadata": {},
   "source": [
    "## Example 2.5: \n",
    "\n",
    "Suppose a sampling plan involves sampling items from a process until a defective is observed. \n",
    "\n",
    "The evaluation of the process will depend on how many consecutive items are observed. \n",
    "\n",
    "In that regard, \n",
    "let X be a random variable \n",
    "defined by the number of items \n",
    "observed before a defective is found. \n",
    "\n",
    "With N a nondefective and D a defective, \n",
    "sample spaces are S = {D} given X = 1, \n",
    "S = {ND} given X = 2, \n",
    "S = {NND} given X = 3, \n",
    "and so on.\n",
    "\n",
    "![](media/Ch02/image14.png) <div style=\"text-align: right\">【p02.008】</div>"
   ]
  },
  {
   "cell_type": "markdown",
   "metadata": {},
   "source": [
    "[](media/Ch02/image15.png) <div style=\"text-align: right\">【p02.009】</div>"
   ]
  },
  {
   "cell_type": "markdown",
   "metadata": {},
   "source": [
    "[](media/Ch02/image16.png) <div style=\"text-align: right\">【p02.010】</div>"
   ]
  },
  {
   "cell_type": "markdown",
   "metadata": {},
   "source": [
    "## Def2.3: Continuous Sample Space\n",
    "\n",
    "![image.png](fg/ch02/def2.03.png)\n",
    "\n",
    "![](media/Ch02/image17.png) <div style=\"text-align: right\">【p02.011】</div>"
   ]
  },
  {
   "cell_type": "markdown",
   "metadata": {},
   "source": [
    "\n",
    "## Def2.4: Probability Mass Function\n",
    "\n",
    "![image.png](fg/ch02/def2.04.png)\n",
    "![](media/Ch02/image18.png) <div style=\"text-align: right\">【p02.012】</div>"
   ]
  },
  {
   "cell_type": "markdown",
   "metadata": {},
   "source": []
  },
  {
   "cell_type": "markdown",
   "metadata": {},
   "source": [
    "![](media/Ch02/image19.png) <div style=\"text-align: right\">【p02.013】</div>\n",
    "![](media/Ch02/image20.png) <div style=\"text-align: right\">【p02.014】</div>\n",
    "![](media/Ch02/image21.png) <div style=\"text-align: right\">【p02.015】</div>"
   ]
  },
  {
   "cell_type": "markdown",
   "metadata": {},
   "source": [
    "## Def2.5: Cumulative Distribution Function\n",
    "\n",
    "![image.png](fg/ch02/def2.05.png)\n",
    "![](media/Ch02/image22.png) <div style=\"text-align: right\">【p02.016】</div>\n"
   ]
  },
  {
   "cell_type": "markdown",
   "metadata": {},
   "source": []
  },
  {
   "cell_type": "markdown",
   "metadata": {},
   "source": [
    "![](media/Ch02/image23.png) <div style=\"text-align: right\">【p02.017】</div>\n",
    "![](media/Ch02/image24.png) <div style=\"text-align: right\">【p02.018】</div>\n",
    "![](media/Ch02/image25.png) <div style=\"text-align: right\">【p02.019】</div>"
   ]
  },
  {
   "cell_type": "markdown",
   "metadata": {},
   "source": [
    "![](media/Ch02/image26.png) <div style=\"text-align: right\">【p02.020】</div>\n",
    "![](media/Ch02/image27.png) <div style=\"text-align: right\">【p02.021】</div>\n",
    "![](media/Ch02/image28.png) <div style=\"text-align: right\">【p02.022】</div>"
   ]
  },
  {
   "cell_type": "markdown",
   "metadata": {},
   "source": []
  },
  {
   "cell_type": "markdown",
   "metadata": {},
   "source": [
    "## Def2.6: Probability Density Function\n",
    "\n",
    "![image.png](fg/ch02/def2.06.png)\n",
    "![](media/Ch02/image33.png) <div style=\"text-align: right\">【p02.025】</div>\n",
    "\n",
    "![](media/Ch02/image30.png) <div style=\"text-align: right\">【p02.023】</div>\n",
    "![](media/Ch02/image32.png) <div style=\"text-align: right\">【p02.024】</div>"
   ]
  },
  {
   "cell_type": "markdown",
   "metadata": {},
   "source": [
    "## Ex 2.11\n",
    "Suppose that the error in the reaction temperature, in ◦C, for a controlled laboratory experiment is a continuous random variable X having the probability density function\n",
    "\n",
    "\n",
    "(a) Verify that f(x) is a density function.\n",
    "\n",
    "(b) Find P(0 < X ≤ 1).\n",
    "\n",
    "![](media/Ch02/image34.png) <div style=\"text-align: right\">【p02.026】</div>\n",
    "![](media/Ch02/image35.png) <div style=\"text-align: right\">【p02.027】</div>"
   ]
  },
  {
   "cell_type": "markdown",
   "metadata": {},
   "source": [
    "## Def2.7 Cumulative Distribution Function\n",
    "\n",
    "![image.png](fg/ch02/def2.07.png)\n",
    "![](media/Ch02/image38.png) <div style=\"text-align: right\">【p02.028】</div>"
   ]
  },
  {
   "cell_type": "markdown",
   "metadata": {},
   "source": [
    "![](media/Ch02/image39.png) <div style=\"text-align: right\">【p02.029】</div>"
   ]
  },
  {
   "cell_type": "markdown",
   "metadata": {},
   "source": [
    "![](media/Ch02/image40.png) <div style=\"text-align: right\">【p02.030】</div>\n",
    "![](media/Ch02/image41.png) <div style=\"text-align: right\">【p02.031】</div>\n",
    "![](media/Ch02/image42.png) <div style=\"text-align: right\">【p02.032】</div>"
   ]
  },
  {
   "cell_type": "markdown",
   "metadata": {},
   "source": [
    "## Def2.8: Joint Probability Mass Function\n",
    "\n",
    "![image.png](fg/ch02/def2.08.png)\n",
    "![](media/Ch02/image46.png) <div style=\"text-align: right\">【p02.033】</div>"
   ]
  },
  {
   "cell_type": "markdown",
   "metadata": {},
   "source": [
    "## Example b3.14: \n",
    "\n",
    "Two ballpoint pens are selected at random from a box that contains \n",
    "\n",
    "- 3 blue pens,\n",
    "- 2 red pens, \n",
    "- 3 green pens. \n",
    "\n",
    "If X is the number of blue pens selected \n",
    "and Y is the number of red pens selected, \n",
    "\n",
    "find\n",
    "- (a) the joint probability function f(x, y),\n",
    "- (b) P[(X, Y ) ∈ A], where A is the region {(x, y)|x + y ≤ 1}."
   ]
  },
  {
   "cell_type": "markdown",
   "metadata": {},
   "source": [
    "![](media/Ch02/image47.png) <div style=\"text-align: right\">【p02.034】</div>\n",
    "![](media/Ch02/image48.png) <div style=\"text-align: right\">【p02.035】</div>\n",
    "![](media/Ch02/image49.png) <div style=\"text-align: right\">【p02.036】</div>"
   ]
  },
  {
   "cell_type": "markdown",
   "metadata": {},
   "source": [
    "## Def2.9: Joint Probability Density Function\n",
    "\n",
    "![image.png](fg/ch02/def2.09.png)\n",
    "![](media/Ch02/image51.png) <div style=\"text-align: right\">【p02.037】</div>"
   ]
  },
  {
   "cell_type": "markdown",
   "metadata": {},
   "source": []
  },
  {
   "cell_type": "markdown",
   "metadata": {},
   "source": [
    "Example b3.15: \n",
    "\n",
    "A privately owned business operates both a drive-in facility and a walk-in facility.\n",
    "\n",
    "On a randomly selected day, let X and Y , respectively, be the proportions of the time that the drive-in and the walk-in facilities are in use, and suppose that the joint density function of these random variables is\n",
    "\n",
    "$\n",
    "f(x, y) =\n",
    "\\begin{cases}\n",
    "\\frac{2}{5}(2x + 3y), & 0 ≤ x ≤ 1, & 0 ≤ y ≤ 1,\\\\\n",
    "0, & elsewhere.\n",
    "\\end{cases}\n",
    "$\n",
    "\n",
    "- (a) Verify condition 2 of Definition 2.9.\n",
    "- (b) Find P[(X, Y ) ∈ A], where A = {(x, y) | 0 < x < 1/2 , 1/4 < y < 1/2 }."
   ]
  },
  {
   "cell_type": "markdown",
   "metadata": {},
   "source": [
    "![](media/Ch02/image52.png) <div style=\"text-align: right\">【p02.038】</div>\n",
    "![](media/Ch02/image53.png) <div style=\"text-align: right\">【p02.039】</div>"
   ]
  },
  {
   "cell_type": "markdown",
   "metadata": {},
   "source": [
    "![](media/Ch02/image54.png) <div style=\"text-align: right\">【p02.040】</div>\n",
    "![](media/Ch02/image55.png) <div style=\"text-align: right\">【p02.041】</div>"
   ]
  },
  {
   "cell_type": "markdown",
   "metadata": {},
   "source": [
    "## Def2.10: Marginal Distribution\n",
    "\n",
    "![image.png](fg/ch02/def2.10.png)\n",
    "\n",
    "![](media/Ch02/image59.png) <div style=\"text-align: right\">【p02.042】</div>\n",
    "![](media/Ch02/image60.png) <div style=\"text-align: right\">【p02.043】</div>"
   ]
  },
  {
   "cell_type": "markdown",
   "metadata": {},
   "source": [
    "![image.png](fg/fg_jointPmf_table2.1.png)\n",
    "\n",
    "![](media/Ch02/image61.png) <div style=\"text-align: right\">【p02.044】</div>\n",
    "\n",
    "![](fg/fg_jointPmf_table2.1_1.PNG)"
   ]
  },
  {
   "cell_type": "markdown",
   "metadata": {},
   "source": [
    "## Ex. 2.17 (following ex2.15)\n",
    "$\n",
    "f(x, y) =\n",
    "\\begin{cases}\n",
    "\\frac{2}{5}(2x + 3y), & 0 ≤ x ≤ 1, & 0 ≤ y ≤ 1,\\\\\n",
    "0, & elsewhere.\n",
    "\\end{cases}\n",
    "$\n",
    "\n",
    "![](media/Ch02/image62.png) <div style=\"text-align: right\">【p02.045】</div>\n",
    "![](media/Ch02/image63.png) <div style=\"text-align: right\">【p02.046】</div>"
   ]
  },
  {
   "cell_type": "markdown",
   "metadata": {},
   "source": [
    "## Def2.11 Conditional Distribution\n",
    "\n",
    "![image.png](fg/ch02/def2.11.png)\n",
    "![](media/Ch02/image64.png) <div style=\"text-align: right\">【p02.047】</div>\n",
    "![](media/Ch02/image65.png) <div style=\"text-align: right\">【p02.048】</div>"
   ]
  },
  {
   "cell_type": "markdown",
   "metadata": {},
   "source": [
    "![](fg/fg_jointPmf_table2.1_1.PNG)\n",
    "![](media/Ch02/image69.png) <div style=\"text-align: right\">【p02.049】</div>"
   ]
  },
  {
   "cell_type": "markdown",
   "metadata": {},
   "source": [
    "![](media/Ch02/image70.png) <div style=\"text-align: right\">【p02.050】</div>\n",
    "![](media/Ch02/image71.png) <div style=\"text-align: right\">【p02.051】</div>"
   ]
  },
  {
   "attachments": {
    "image.png": {
     "image/png": "[encoded data removed]"
    }
   },
   "cell_type": "markdown",
   "metadata": {},
   "source": [
    "![image.png](attachment:image.png)"
   ]
  },
  {
   "attachments": {
    "image.png": {
     "image/png": "[encoded data removed]"
    }
   },
   "cell_type": "markdown",
   "metadata": {},
   "source": [
    "![image.png](attachment:image.png)"
   ]
  },
  {
   "cell_type": "markdown",
   "metadata": {},
   "source": [
    "## Example b3.19: \n",
    "\n",
    "The joint density for the random variables (X, Y ), \n",
    "where X is the unit temperature change and Y is the proportion of spectrum shift \n",
    "that a certain atomic particle\n",
    "produces, is\n",
    "\n",
    "$\n",
    "f(x, y) =\n",
    "\\begin{cases}\n",
    "10xy^2, & 0 < x < y < 1,\\\\\n",
    "0, & elsewhere.\n",
    "\\end{cases}\n",
    "$\n",
    "\n",
    "- (a) Find the marginal densities g(x), h(y), and the conditional density f(y|x).\n",
    "- (b) Find the probability that the spectrum shifts more than half of the total observations, given that the temperature is increased by 0.25 unit.\n",
    "\n",
    "![](media/Ch02/image72.png) <div style=\"text-align: right\">【p02.052】</div>\n",
    "![](media/Ch02/image73.png) <div style=\"text-align: right\">【p02.053】</div>"
   ]
  },
  {
   "cell_type": "markdown",
   "metadata": {},
   "source": [
    "![](media/Ch02/image74.png) <div style=\"text-align: right\">【p02.054】</div>\n",
    "![](media/Ch02/image75.png) <div style=\"text-align: right\">【p02.055】</div>"
   ]
  },
  {
   "cell_type": "markdown",
   "metadata": {},
   "source": [
    "## Def 2.12: Statistically Independent\n",
    "\n",
    "![image.png](fg/ch02/def2.12.png)\n",
    "![](media/Ch02/image76.png) <div style=\"text-align: right\">【p02.056】</div>"
   ]
  },
  {
   "cell_type": "markdown",
   "metadata": {},
   "source": [
    "## Ex 2.21\n",
    "![](fg/fg_jointPmf_table2.1_1.PNG)\n",
    "![](media/Ch02/image77.png) <div style=\"text-align: right\">【p02.057】</div>"
   ]
  },
  {
   "cell_type": "markdown",
   "metadata": {},
   "source": [
    "## Def 2.13\n",
    "![image.png](fg/ch02/def2.13.png)\n",
    "![](media/Ch02/image78.png) <div style=\"text-align: right\">【p02.058】</div>"
   ]
  },
  {
   "cell_type": "markdown",
   "metadata": {},
   "source": [
    "## Example b3.22: \n",
    "\n",
    "Suppose that the shelf life, in years, of a certain perishable food product packaged\n",
    "in cardboard containers is a random variable whose probability density function is\n",
    "given by\n",
    "\n",
    "$\n",
    "f(x) =\n",
    "\\begin{cases}\u0003\n",
    "e^{−x}, & x>0,\\\\\n",
    "0, & elsewhere.\n",
    "\\end{cases}\n",
    "$\n",
    "\n",
    "Let $X_1, \\ X_2, \\ and \\ X_3$ represent the shelf lives for three of these containers \n",
    "selected independently and find \n",
    "\n",
    "$P(X_1 < 2, 1 < X_2 < 3, X_3 > 2) = \\ ?$\n",
    "\n",
    "\n",
    "![](media/Ch02/image79.png) <div style=\"text-align: right\">【p02.059】</div>"
   ]
  },
  {
   "cell_type": "markdown",
   "metadata": {},
   "source": [
    "![](media/Ch02/image80.png) <div style=\"text-align: right\">【p02.060】</div>"
   ]
  },
  {
   "cell_type": "markdown",
   "metadata": {},
   "source": [
    "## Def2.14: Mean, Expectated Value (or Expectation)\n",
    "\n",
    "![image.png](fg/ch02/def2.14.png)\n",
    "![](media/Ch02/image82.png) <div style=\"text-align: right\">【p02.061】</div>"
   ]
  },
  {
   "cell_type": "markdown",
   "metadata": {},
   "source": [
    "## Example b4.1: \n",
    "\n",
    "A lot containing 7 components is sampled by a quality inspector; \n",
    "\n",
    "the lot contains 4 good components and 3 defective components. \n",
    "\n",
    "A sample of 3 is taken by the inspector. \n",
    "\n",
    "Find the expected value of the number of good components in this sample.\n",
    "\n",
    "![](media/Ch02/image83.png) <div style=\"text-align: right\">【p02.062】</div>"
   ]
  },
  {
   "cell_type": "markdown",
   "metadata": {},
   "source": [
    "## Example b4.2: \n",
    "\n",
    "A salesperson for a medical device company has 2 appointments on a given day.\n",
    "\n",
    "At the first appointment, he believes that he has a 70% chance to make the deal,\n",
    "from which he can earn 1,000 dollars commission if successful. \n",
    "\n",
    "On the other hand, he thinks he only has a 40% chance to make the deal at the second appointment,\n",
    "from which, if successful, he can make 1,500 dollars. \n",
    "\n",
    "What is his expected commission based on his own probability belief? \n",
    "Assume that the appointment results are `independent` of each other.\n",
    "\n",
    "![](media/Ch02/image84.png) <div style=\"text-align: right\">【p02.063】</div>"
   ]
  },
  {
   "cell_type": "markdown",
   "metadata": {},
   "source": [
    "## Example b4.3: \n",
    "\n",
    "Let X be the random variable that denotes the life in hours of a certain electronic\n",
    "device. The probability density function is\n",
    "\n",
    "$\n",
    "f(x) =\n",
    "\\begin{cases}\n",
    "\u0003\n",
    "\\frac{20,000}{x^3} , & x>100,\\\\\n",
    "0, & elsewhere.\n",
    "\\end{cases}\n",
    "$\n",
    "\n",
    "Find the expected life of this type of device.\n",
    "\n",
    "![](media/Ch02/image85.png) <div style=\"text-align: right\">【p02.064】</div>"
   ]
  },
  {
   "cell_type": "markdown",
   "metadata": {},
   "source": [
    "## Th 2.1\n",
    "![image.png](fg/ch02/th2.1.png)\n",
    "![](media/Ch02/image86.png) <div style=\"text-align: right\">【p02.065】</div>"
   ]
  },
  {
   "cell_type": "markdown",
   "metadata": {},
   "source": [
    "## Example 4.4: \n",
    "\n",
    "Suppose that the number of cars X that pass through a car wash between 4:00 P.M. and 5:00 P.M. on any sunny Friday has the following probability distribution:\n",
    "\n",
    "x |4  |5  |6  |7  |8  |9\n",
    "---|---|---|---|---|---|---\n",
    "P(X = x) |1/12 | 1/12 | 1/4 | 1/4 | 1/6 | 1/6\n",
    "\n",
    "Let g(X) = 2X−1 represent the amount of money, in dollars, paid to the attendant by the manager. \n",
    "- Find the attendant’s expected earnings for this particular time period.\n",
    "\n",
    "![](media/Ch02/image87.png) <div style=\"text-align: right\">【p02.066】</div>"
   ]
  },
  {
   "cell_type": "markdown",
   "metadata": {},
   "source": [
    "## Example b4.5: \n",
    "\n",
    "Let X be a random variable with density function\n",
    "\n",
    "$\n",
    "f(x) =\n",
    "\\begin{cases}\n",
    "x^2/3 , & −1 < x < 2,\\\\\n",
    "0, & elsewhere.\n",
    "\\end{cases}\n",
    "$\n",
    "\n",
    "Find the expected value of g(X) = 4X + 3.\n",
    "\n",
    "\n",
    "![](media/Ch02/image88.png) <div style=\"text-align: right\">【p02.067】</div>\n",
    "![](media/Ch02/image89.png) <div style=\"text-align: right\">【p02.068】</div>"
   ]
  },
  {
   "cell_type": "markdown",
   "metadata": {},
   "source": [
    "## Def2.15: Mean\n",
    "\n",
    "![image.png](fg/ch02/def2.15.png)\n",
    "![](media/Ch02/image90.png) <div style=\"text-align: right\">【p02.069】</div>"
   ]
  },
  {
   "cell_type": "markdown",
   "metadata": {},
   "source": [
    "![](media/Ch02/image91.png) <div style=\"text-align: right\">【p02.070】</div>\n",
    "![](media/Ch02/image92.png) <div style=\"text-align: right\">【p02.071】</div>\n",
    "![](media/Ch02/image93.png) <div style=\"text-align: right\">【p02.072】</div>"
   ]
  },
  {
   "cell_type": "markdown",
   "metadata": {},
   "source": [
    "Note that if g(X, Y ) = X in Definition 4.2, we have\n",
    "\n",
    "![](fg/fg_expectation.PNG)\n",
    "\n",
    "where g(x) is the marginal distribution of X. \n",
    "\n",
    "Therefore, in calculating E(X) over a two-dimensional space, \n",
    "one may use either the joint probability distribution of X and Y or the marginal distribution of X."
   ]
  },
  {
   "cell_type": "markdown",
   "metadata": {},
   "source": [
    "## Figure b4.1: \n",
    "Distributions with equal means and unequal dispersions.\n",
    "\n",
    "![](media/Ch02/image103.png) <div style=\"text-align: right\">【p02.073】</div>"
   ]
  },
  {
   "cell_type": "markdown",
   "metadata": {},
   "source": []
  },
  {
   "cell_type": "markdown",
   "metadata": {},
   "source": [
    "## Def2.16: Standard Deviation (std)\n",
    "\n",
    "![image.png](fg/ch02/def2.16.png)\n",
    "![](media/Ch02/image105.png) <div style=\"text-align: right\">【p02.074】</div>"
   ]
  },
  {
   "attachments": {
    "image.png": {
     "image/png": "[encoded data removed]"
    }
   },
   "cell_type": "markdown",
   "metadata": {},
   "source": [
    "![image.png](attachment:image.png)"
   ]
  },
  {
   "cell_type": "markdown",
   "metadata": {},
   "source": [
    "![](media/Ch02/image106.png) <div style=\"text-align: right\">【p02.075】</div>\n",
    "![](media/Ch02/image107.png) <div style=\"text-align: right\">【p02.076】</div>\n",
    "![](media/Ch02/image108.png) <div style=\"text-align: right\">【p02.077】</div>"
   ]
  },
  {
   "cell_type": "markdown",
   "metadata": {},
   "source": [
    "## Th2.2\n",
    "![image.png](fg/ch02/th2.2.png)\n",
    "![](media/Ch02/image109.png) <div style=\"text-align: right\">【p02.078】</div>"
   ]
  },
  {
   "cell_type": "markdown",
   "metadata": {},
   "source": [
    "![](media/Ch02/image110.png) <div style=\"text-align: right\">【p02.079】</div>"
   ]
  },
  {
   "cell_type": "markdown",
   "metadata": {},
   "source": [
    "![](media/Ch02/image111.png) <div style=\"text-align: right\">【p02.080】</div>\n",
    "![](media/Ch02/image112.png) <div style=\"text-align: right\">【p02.081】</div>"
   ]
  },
  {
   "cell_type": "markdown",
   "metadata": {},
   "source": [
    "## Th2.3\n",
    "![image.png](fg/ch02/th2.3.png)\n",
    "![](media/Ch02/image115.png) <div style=\"text-align: right\">【p02.082】</div>"
   ]
  },
  {
   "cell_type": "markdown",
   "metadata": {},
   "source": [
    "![](media/Ch02/image121.png) <div style=\"text-align: right\">【p02.083】</div>\n",
    "![](media/Ch02/image122.png) <div style=\"text-align: right\">【p02.084】</div>"
   ]
  },
  {
   "cell_type": "markdown",
   "metadata": {},
   "source": [
    "\n",
    "## Example b4.5: \n",
    "\n",
    "Let X be a random variable with density function\n",
    "\n",
    "$\n",
    "f(x) =\n",
    "\\begin{cases}\n",
    "x^2/3 , & −1 < x < 2,\\\\\n",
    "0, & elsewhere.\n",
    "\\end{cases}\n",
    "$\n",
    "\n",
    "- Find the expected value of g(X) = 4X + 3.\n",
    "\n",
    "- Find the variance of g(X) = 4X + 3\n",
    "\n",
    "![](media/Ch02/image126.png) <div style=\"text-align: right\">【p02.085】</div>"
   ]
  },
  {
   "cell_type": "markdown",
   "metadata": {},
   "source": [
    "## Def2.17: Covariance\n",
    "\n",
    "![image.png](fg/ch02/def2.17.png)\n",
    "![](media/Ch02/image127.png) <div style=\"text-align: right\">【p02.086】</div>"
   ]
  },
  {
   "cell_type": "markdown",
   "metadata": {},
   "source": [
    "## Th2.4\n",
    "![image.png](fg/ch02/th2.4.png)\n",
    "![](media/Ch02/image128.png) <div style=\"text-align: right\">【p02.087】</div>"
   ]
  },
  {
   "cell_type": "markdown",
   "metadata": {},
   "source": [
    "![](media/Ch02/image129.png) <div style=\"text-align: right\">【p02.088】</div>\n",
    "![](media/Ch02/image130.png) <div style=\"text-align: right\">【p02.089】</div>"
   ]
  },
  {
   "cell_type": "markdown",
   "metadata": {},
   "source": [
    "![](media/Ch02/image131.png) <div style=\"text-align: right\">【p02.090】</div>\n",
    "![](media/Ch02/image132.png) <div style=\"text-align: right\">【p02.091】</div>\n",
    "![](media/Ch02/image133.png) <div style=\"text-align: right\">【p02.092】</div>"
   ]
  },
  {
   "cell_type": "markdown",
   "metadata": {},
   "source": [
    "## Def 2.18: correlation coefficient\n",
    "\n",
    "![image.png](fg/ch02/def2.18.png)\n",
    "![](media/Ch02/image134.png) <div style=\"text-align: right\">【p02.093】</div>"
   ]
  },
  {
   "cell_type": "markdown",
   "metadata": {},
   "source": [
    "![](media/Ch02/image135.png) <div style=\"text-align: right\">【p02.094】</div>\n",
    "![](media/Ch02/image136.png) <div style=\"text-align: right\">【p02.095】</div>"
   ]
  },
  {
   "cell_type": "markdown",
   "metadata": {},
   "source": [
    "## Means and Variances of Linear Combinations of Random Variables\n",
    "\n",
    "- We now develop some useful properties that will simplify the calculations of means and variances of random variables that appear in later chapters. \n",
    "\n",
    "- These properties will permit us to deal with expectations in terms of other parameters that are either known or easily computed. \n",
    " \n",
    "- All the results that we present here are valid for both discrete and continuous random variables. \n",
    " \n",
    "- Proofs are given only for the continuous case. We begin with a theorem and two corollaries that should be, intuitively, reasonable to the reader."
   ]
  },
  {
   "cell_type": "markdown",
   "metadata": {},
   "source": [
    "## Th 2.5\n",
    "![image.png](fg/ch02/th2.5.png)\n",
    "![](media/Ch02/image140.png) <div style=\"text-align: right\">【p02.096】</div>\n",
    "![](media/Ch02/image141.png) <div style=\"text-align: right\">【p02.097】</div>"
   ]
  },
  {
   "cell_type": "markdown",
   "metadata": {},
   "source": [
    "![](media/Ch02/image142.png) <div style=\"text-align: right\">【p02.098】</div>"
   ]
  },
  {
   "cell_type": "markdown",
   "metadata": {},
   "source": [
    "## Th 2.6\n",
    "![image.png](fg/ch02/th2.6.png)\n",
    "![](media/Ch02/image143.png) <div style=\"text-align: right\">【p02.099】</div>"
   ]
  },
  {
   "cell_type": "markdown",
   "metadata": {},
   "source": [
    "![](media/Ch02/image144.png) <div style=\"text-align: right\">【p02.100】</div>\n",
    "![](media/Ch02/image145.png) <div style=\"text-align: right\">【p02.101】</div>\n",
    "![](media/Ch02/image146.png) <div style=\"text-align: right\">【p02.102】</div>\n",
    "![](media/Ch02/image147.png) <div style=\"text-align: right\">【p02.103】</div>"
   ]
  },
  {
   "cell_type": "markdown",
   "metadata": {},
   "source": [
    "## Th 2.7\n",
    "![image.png](fg/ch02/th2.7.png)\n",
    "![](media/Ch02/image148.png) <div style=\"text-align: right\">【p02.104】</div>\n",
    "![](media/Ch02/image149.png) <div style=\"text-align: right\">【p02.105】</div>\n",
    "![](media/Ch02/image150.png) <div style=\"text-align: right\">【p02.106】</div>"
   ]
  },
  {
   "cell_type": "markdown",
   "metadata": {},
   "source": [
    "## Th2.8\n",
    "![image.png](fg/ch02/th2.8.png)\n",
    "\n",
    "![](media/Ch02/image154.png) <div style=\"text-align: right\">【p02.107】</div>\n",
    "![](media/Ch02/image155.png) <div style=\"text-align: right\">【p02.108】</div>\n",
    "![](media/Ch02/image158.png) <div style=\"text-align: right\">【p02.111】</div>"
   ]
  },
  {
   "cell_type": "markdown",
   "metadata": {},
   "source": [
    "## Example b4.21: \n",
    "\n",
    "It is known that the ratio of gallium to arsenide does not affect the functioning\n",
    "of gallium-arsenide wafers, which are the main components of microchips. \n",
    "\n",
    "Let X denote the ratio of gallium to arsenide and Y denote the functional wafers retrieved\n",
    "during a 1-hour period. \n",
    "\n",
    "X and Y are independent random variables with the joint\n",
    "density function\n",
    "\n",
    "$\n",
    "f(x, y) =\n",
    "\\begin{cases}\n",
    "\\frac{x (1+3y^2)}{4} , & 0 < x < 2, 0 < y < 1,\\\\\n",
    "0, &elsewhere.\n",
    "\\end{cases}\n",
    "$\n",
    "\n",
    "Show that \n",
    "\n",
    "$E(XY) = E(X) E(Y )$"
   ]
  },
  {
   "cell_type": "markdown",
   "metadata": {},
   "source": [
    "----\n",
    "砷化鎵（化學式：GaAs）是鎵和砷兩種元素所合成的化合物，\n",
    "\n",
    "Wafer:![](https://upload.wikimedia.org/wikipedia/commons/f/f7/Akbar_Mashti.JPG)\n",
    "![](https://upload.wikimedia.org/wikipedia/commons/d/d7/Wafer_2_Zoll_bis_8_Zoll_2.jpg)\n",
    "\n",
    "TSMC 台積電: 台灣的`護國神山`\n",
    "\n",
    "![](https://upload.wikimedia.org/wikipedia/zh/thumb/f/fd/TSMC.svg/1024px-TSMC.svg.png)\n",
    "\n",
    "----"
   ]
  },
  {
   "cell_type": "markdown",
   "metadata": {},
   "source": [
    "![](media/Ch02/image157.png) <div style=\"text-align: right\">【p02.110】</div>\n",
    "![](media/Ch02/image158.png) <div style=\"text-align: right\">【p02.111】</div>\n",
    "\n",
    "![](media/Ch02/image156.png) <div style=\"text-align: right\">【p02.109】</div>"
   ]
  },
  {
   "cell_type": "markdown",
   "metadata": {},
   "source": [
    "## Th 2.9\n",
    "![image.png](fg/ch02/th2.9.png)\n",
    "\n",
    "![](media/Ch02/image161.png) <div style=\"text-align: right\">【p02.112】</div>\n",
    "![](media/Ch02/image163.png) <div style=\"text-align: right\">【p02.113】</div>\n",
    "![](media/Ch02/image164.png) <div style=\"text-align: right\">【p02.114】</div>\n",
    "![](media/Ch02/image165.png) <div style=\"text-align: right\">【p02.115】</div>\n",
    "![](media/Ch02/image166.png) <div style=\"text-align: right\">【p02.116】</div>\n",
    "![](media/Ch02/image167.png) <div style=\"text-align: right\">【p02.117】</div>\n",
    "![](media/Ch02/image168.png) <div style=\"text-align: right\">【p02.118】</div>"
   ]
  },
  {
   "cell_type": "markdown",
   "metadata": {},
   "source": [
    "![](media/Ch02/image169.png) <div style=\"text-align: right\">【p02.119】</div>\n",
    "![](media/Ch02/image170.png) <div style=\"text-align: right\">【p02.120】</div>"
   ]
  },
  {
   "cell_type": "code",
   "execution_count": null,
   "metadata": {},
   "outputs": [],
   "source": []
  },
  {
   "cell_type": "markdown",
   "metadata": {},
   "source": [
    "## Chebyshev’s Theorem\n",
    "\n",
    " \n",
    "The `probability` that any random variable X \n",
    "\n",
    "will assume a value within $k$ standard deviations (σ) of the mean (μ) \n",
    "\n",
    "is `at least` \n",
    "$\\left(1 − \\frac{1}{k^2}\\right)$. \n",
    "\n",
    "That is,\n",
    "\n",
    "$\n",
    "P \\left{ μ − kσ < X < μ+ kσ \\right} ≥ \\left(1 − \\frac{1}{k^2}\\right) $."
   ]
  },
  {
   "cell_type": "markdown",
   "metadata": {},
   "source": [
    "## Example b4.27: \n",
    "\n",
    "A random variable X has a mean μ = 8, a variance $σ^2$ = 9, \n",
    "and an unknown probability distribution. \n",
    "\n",
    "Find\n",
    "- (a) P(−4 < X < 20),\n",
    "- (b) P(|X − 8| ≥ 6)."
   ]
  },
  {
   "cell_type": "markdown",
   "metadata": {},
   "source": [
    "Solution : \n",
    "\n",
    "(a) \n",
    "P(−4 < X < 20) \n",
    "= P[8 − (4)(3) < X < 8 + (4)(3)] \n",
    "≥ 15/16 .\n",
    "\n",
    "(b) \n",
    "P(|X − 8| ≥ 6) \n",
    "= 1 − P(|X − 8| < 6) \n",
    "= 1 − P(−6 < X − 8 < 6)\n",
    "= 1− P[8 − (2)(3) < X < 8 + (2)(3)] ≤ 1/4 ."
   ]
  },
  {
   "cell_type": "markdown",
   "metadata": {},
   "source": []
  }
 ],
 "metadata": {
  "kernelspec": {
   "display_name": "Python 3",
   "language": "python",
   "name": "python3"
  },
  "language_info": {
   "codemirror_mode": {
    "name": "ipython",
    "version": 3
   },
   "file_extension": ".py",
   "mimetype": "text/x-python",
   "name": "python",
   "nbconvert_exporter": "python",
   "pygments_lexer": "ipython3",
   "version": "3.7.4"
  },
  "latex_envs": {
   "LaTeX_envs_menu_present": true,
   "autoclose": false,
   "autocomplete": true,
   "bibliofile": "biblio.bib",
   "cite_by": "apalike",
   "current_citInitial": 1,
   "eqLabelWithNumbers": true,
   "eqNumInitial": 1,
   "hotkeys": {
    "equation": "Ctrl-E",
    "itemize": "Ctrl-I"
   },
   "labels_anchors": false,
   "latex_user_defs": false,
   "report_style_numbering": false,
   "user_envs_cfg": false
  },
  "nbTranslate": {
   "displayLangs": [
    "zh-TW",
    "en"
   ],
   "hotkey": "alt-t",
   "langInMainMenu": true,
   "sourceLang": "en",
   "targetLang": "zh-TW",
   "useGoogleTranslate": true
  },
  "toc": {
   "base_numbering": "0",
   "nav_menu": {
    "height": "509px",
    "width": "786px"
   },
   "number_sections": true,
   "sideBar": true,
   "skip_h1_title": true,
   "title_cell": "Table of Contents",
   "title_sidebar": "Contents",
   "toc_cell": false,
   "toc_position": {
    "height": "calc(100% - 180px)",
    "left": "10px",
    "top": "150px",
    "width": "241.179px"
   },
   "toc_section_display": true,
   "toc_window_display": false
  },
  "varInspector": {
   "cols": {
    "lenName": 16,
    "lenType": 16,
    "lenVar": 40
   },
   "kernels_config": {
    "python": {
     "delete_cmd_postfix": "",
     "delete_cmd_prefix": "del ",
     "library": "var_list.py",
     "varRefreshCmd": "print(var_dic_list())"
    },
    "r": {
     "delete_cmd_postfix": ") ",
     "delete_cmd_prefix": "rm(",
     "library": "var_list.r",
     "varRefreshCmd": "cat(var_dic_list()) "
    }
   },
   "types_to_exclude": [
    "module",
    "function",
    "builtin_function_or_method",
    "instance",
    "_Feature"
   ],
   "window_display": false
  }
 },
 "nbformat": 4,
 "nbformat_minor": 2
}
