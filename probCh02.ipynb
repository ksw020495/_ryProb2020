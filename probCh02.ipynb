{
 "cells": [
  {
   "cell_type": "markdown",
   "metadata": {},
   "source": [
    "---\n",
    "# Current Chapter ...\n",
    "[Local](./probCh02.ipynb)\n",
    "[Github](https://github.com/renyuanL/_ryProb2020/blob/master/probCh02.ipynb)\n",
    "[Colab](https://colab.research.google.com/github/renyuanL/_ryProb2020/blob/master/probCh02.ipynb)\n"
   ]
  },
  {
   "cell_type": "markdown",
   "metadata": {
    "heading_collapsed": true
   },
   "source": [
    "## 2. Random Variables, Distributions, and Expectations\n",
    "\n",
    "   - 2.1 Concept of a Random Variable\n",
    "   - 2.2 Discrete Probability Distributions\n",
    "   - 2.3 Continuous Probability Distributions\n",
    "       -             Exercises\n",
    "   - 2.4 Joint Probability Distributions\n",
    "       -             Exercises\n",
    "   - 2.5 Mean of a Random Variable\n",
    "       -             Exercises\n",
    "   - 2.6 Variance and Covariance of Random Variables.\n",
    "       -             Exercises\n",
    "   - 2.7 Means and Variances of Linear Combinations of Random Variables\n",
    "       -             Exercises\n",
    "   -     Review Exercises\n",
    "   - 2.8 Potential Misconceptions and Hazards; Relationship to Material in Other Chapters\n",
    "   "
   ]
  },
  {
   "cell_type": "markdown",
   "metadata": {
    "heading_collapsed": true
   },
   "source": [
    "## Ref: a on-line course\n",
    "\n",
    "https://www.khanacademy.org/math/statistics-probability\n",
    "\n",
    "https://www.khanacademy.org/math/statistics-probability/random-variables-stats-library\n",
    "\n",
    "![]()\n",
    "\n",
    "![image.png](fg/fg_KhanAcademy.PNG)\n"
   ]
  },
  {
   "cell_type": "markdown",
   "metadata": {
    "hidden": true
   },
   "source": [
    "----\n",
    "\n",
    "# Ch02\n",
    "\n",
    "----"
   ]
  },
  {
   "cell_type": "markdown",
   "metadata": {
    "hidden": true
   },
   "source": [
    "![](media/Ch02/image6.png) <div style=\"text-align: right\">【p02.000】</div>"
   ]
  },
  {
   "cell_type": "markdown",
   "metadata": {
    "heading_collapsed": true
   },
   "source": [
    "## Def 2.1: Random Variable\n",
    "\n",
    "![image.png](fg/ch02/def2.01.png)\n",
    "\n",
    "![](media/Ch02/image7.png) <div style=\"text-align: right\">【p02.001】</div>"
   ]
  },
  {
   "cell_type": "markdown",
   "metadata": {
    "hidden": true
   },
   "source": [
    "\n"
   ]
  },
  {
   "cell_type": "markdown",
   "metadata": {},
   "source": [
    "## Ex 2.1\n",
    "\n",
    "Two balls are drawn in succession without replacement from an urn containing 4 red balls and 3 black balls. The possible outcomes and the values y of the random variable Y , where Y is the number of red balls, are ....\n",
    "\n",
    "\n",
    "![](media/Ch02/image8.png) <div style=\"text-align: right\">【p02.002】</div>\n",
    "![](media/Ch02/image9.png) <div style=\"text-align: right\">【p02.003】</div>"
   ]
  },
  {
   "cell_type": "markdown",
   "metadata": {},
   "source": [
    "## Ex 2.2\n",
    "\n",
    "A stockroom clerk returns three safety helmets at random to three steel mill employees who had previously checked them. If Smith, Jones, and Brown, in that order, receive one of the three hats, list the sample points for the possible orders of returning the helmets, and find the value m of the random variable M that represents the number of correct matches.\n",
    "\n",
    "\n",
    "![](media/Ch02/image10.png) <div style=\"text-align: right\">【p02.004】</div>"
   ]
  },
  {
   "cell_type": "markdown",
   "metadata": {},
   "source": [
    "## Def2.2: Discrete Sample Space\n",
    "![image.png](fg/ch02/def2.02.png)\n",
    "\n",
    "![](media/Ch02/image11.png) <div style=\"text-align: right\">【p02.005】</div>"
   ]
  },
  {
   "cell_type": "markdown",
   "metadata": {},
   "source": [
    "\n"
   ]
  },
  {
   "cell_type": "code",
   "execution_count": null,
   "metadata": {},
   "outputs": [],
   "source": []
  },
  {
   "cell_type": "markdown",
   "metadata": {},
   "source": [
    "`【Example 3.3】`: \n",
    "\n",
    "Consider the simple condition in which components are arriving from the production\n",
    "line and they are stipulated to be defective or not defective. \n",
    "\n",
    "Define the random variable $X$ by\n",
    "\n",
    "$\n",
    "X = \\begin{cases}\n",
    "1, \\text{ if the component is defective},\\\\\n",
    "0, \\text{ if the component is not defective}.\n",
    "\\end{cases}\n",
    "$\n",
    "\n",
    "Clearly the assignment of 1 or 0 is arbitrary though quite convenient. \n",
    "This will become clear in later chapters. \n",
    "The random variable for which 0 and 1 are chosen to describe the two possible values is called a `Bernoulli random variable`.\n",
    "\n",
    "![](media/Ch02/image12.png) <div style=\"text-align: right\">【p02.006】</div>"
   ]
  },
  {
   "cell_type": "markdown",
   "metadata": {},
   "source": [
    "[Bernoulli trial](https://en.wikipedia.org/wiki/Bernoulli_trial)\n",
    "\n",
    "- a Bernoulli trial (or binomial trial) is a random experiment with exactly two possible outcomes, \n",
    "- \"success\" and \"failure\", \n",
    "- in which the probability of success is the same every time the experiment is conducted.\n",
    "\n",
    "[Jacob Bernoulli](https://en.wikipedia.org/wiki/Jacob_Bernoulli)\n",
    "\n",
    "- In 1683, Jacob Bernoulli discovered the constant e \n",
    "- by studying a question about compound interest \n",
    "- which required him to find the value of the following expression \n",
    "- (which is in fact e):\n",
    "\n",
    "---\n",
    "\n",
    "$\n",
    "exp(1)=e^{1}=\\\\\n",
    "\\lim _{n\\to \\infty }\\left(1+{\\frac {1}{n}}\\right)^{n}\n",
    "$\n",
    "\n",
    "---\n",
    "\n",
    "$\n",
    "exp(x)=e^{x}=\\\\\n",
    "\\lim _{n\\to \\infty }\\left(1+{\\frac {x}{n}}\\right)^{n}\n",
    "$"
   ]
  },
  {
   "cell_type": "code",
   "execution_count": 1,
   "metadata": {},
   "outputs": [
    {
     "data": {
      "text/plain": [
       "(array([1.e+00, 1.e+01, 1.e+02, 1.e+03, 1.e+04, 1.e+05, 1.e+10]),\n",
       " array([2.        , 2.59374246, 2.70481383, 2.71692393, 2.71814593,\n",
       "        2.71826824, 2.71828205]))"
      ]
     },
     "execution_count": 1,
     "metadata": {},
     "output_type": "execute_result"
    }
   ],
   "source": [
    "import numpy as np\n",
    "\n",
    "def f(x,n):\n",
    "    y= (1+x/n)**n\n",
    "    return y\n",
    "\n",
    "n= np.array([1,10,100,1000,10000, 1e5, 1e10])\n",
    "\n",
    "n, f(1,n)"
   ]
  },
  {
   "cell_type": "code",
   "execution_count": null,
   "metadata": {},
   "outputs": [],
   "source": [
    "import numpy as np\n",
    "\n",
    "x= np.arange(10)\n",
    "x, np.exp(x), f(x, n=1e10)"
   ]
  },
  {
   "cell_type": "code",
   "execution_count": 9,
   "metadata": {},
   "outputs": [
    {
     "data": {
      "text/latex": [
       "$\\displaystyle \\sin{\\left(1 \\right)}$"
      ],
      "text/plain": [
       "sin(1)"
      ]
     },
     "execution_count": 9,
     "metadata": {},
     "output_type": "execute_result"
    }
   ],
   "source": [
    "import sympy as sp\n",
    "x,y,z= sp.symbols('x,y,z')\n",
    "f= sp.integrate(sp.cos(x),(x,0,1))\n",
    "f"
   ]
  },
  {
   "cell_type": "markdown",
   "metadata": {},
   "source": [
    "## Example 2.4: \n",
    "\n",
    "Statisticians use sampling plans \n",
    "to either accept or reject batches or lots of material. \n",
    "\n",
    "Suppose one of these sampling plans \n",
    "involves sampling independently 10 items \n",
    "from a lot of 100 items in which 12 are defective. \n",
    "\n",
    "Let X be the random variable \n",
    "defined as the number of items found defective \n",
    "in the sample of 10. \n",
    "\n",
    "In this case, the random variable X takes on the values 0, 1, 2, . . . , 9, 10.\n",
    "\n",
    "\n",
    "![](media/Ch02/image13.png) <div style=\"text-align: right\">【p02.007】</div>"
   ]
  },
  {
   "cell_type": "markdown",
   "metadata": {},
   "source": [
    "[rySol]:\n",
    "\n",
    "[](fg/fg_ex3.4.png)"
   ]
  },
  {
   "cell_type": "code",
   "execution_count": 3,
   "metadata": {},
   "outputs": [
    {
     "data": {
      "text/plain": [
       "(array([ 0,  1,  2,  3,  4,  5,  6,  7,  8,  9, 10]),\n",
       " array([2.78500976e-01, 3.79774058e-01, 2.33043172e-01, 8.47429717e-02,\n",
       "        2.02227546e-02, 3.30917803e-03, 3.76042957e-04, 2.93020486e-05,\n",
       "        1.49840021e-06, 4.54060671e-08, 6.19173642e-10]),\n",
       " 1.0,\n",
       " array([ 0,  1,  2,  3,  4,  5,  6,  7,  8,  9, 10]),\n",
       " array([2.60750269e-01, 3.96076358e-01, 2.45072246e-01, 8.06822210e-02,\n",
       "        1.54968900e-02, 1.79241138e-03, 1.24473012e-04, 5.02076016e-06,\n",
       "        1.09464248e-07, 1.11840866e-09, 3.81275679e-12]),\n",
       " 1.0)"
      ]
     },
     "execution_count": 3,
     "metadata": {},
     "output_type": "execute_result"
    }
   ],
   "source": [
    "import numpy as np\n",
    "import scipy.special as sp\n",
    "\n",
    "f= sp.factorial\n",
    "\n",
    "N= 100\n",
    "K= 12\n",
    "\n",
    "p= K/N # == .12\n",
    "q= 1-p\n",
    "\n",
    "n= 10\n",
    "\n",
    "x= np.arange(0,n+1)\n",
    "\n",
    "# (1) Binomial 近似，但公式簡單\n",
    "f1= p**x * q**(n-x) * (f(n)/f(x)/f(n-x))\n",
    "\n",
    "# (2) HyperGeometric 理論精準，但公式繁雜\n",
    "f2=  (f(K)/f(x)/f(K-x))          \\\n",
    "   * (f(N-K)/f(n-x)/f(N-K-n+x))  \\\n",
    "   / (f(N)/f(n)/f(N-n))\n",
    "\n",
    "x, f1, f1.sum(), \\\n",
    "x, f2, f2.sum()\n"
   ]
  },
  {
   "cell_type": "code",
   "execution_count": 4,
   "metadata": {},
   "outputs": [
    {
     "data": {
      "image/png": "[encoded data removed]",
      "text/plain": [
       "<Figure size 432x288 with 1 Axes>"
      ]
     },
     "metadata": {
      "needs_background": "light"
     },
     "output_type": "display_data"
    }
   ],
   "source": [
    "import matplotlib.pyplot as pl\n",
    "pl.plot(x,f1,'o', x,f2, 'x'); pl.grid()\n"
   ]
  },
  {
   "cell_type": "code",
   "execution_count": null,
   "metadata": {},
   "outputs": [],
   "source": []
  },
  {
   "cell_type": "markdown",
   "metadata": {},
   "source": [
    "## Example 2.5: \n",
    "\n",
    "Suppose a sampling plan involves sampling items from a process until a defective is observed. \n",
    "\n",
    "The evaluation of the process will depend on how many consecutive items are observed. \n",
    "\n",
    "In that regard, \n",
    "let X be a random variable \n",
    "defined by the number of items \n",
    "observed before a defective is found. \n",
    "\n",
    "With N a nondefective and D a defective, \n",
    "sample spaces are S = {D} given X = 1, \n",
    "S = {ND} given X = 2, \n",
    "S = {NND} given X = 3, \n",
    "and so on.\n",
    "\n",
    "![](media/Ch02/image14.png) <div style=\"text-align: right\">【p02.008】</div>"
   ]
  },
  {
   "cell_type": "markdown",
   "metadata": {},
   "source": [
    "[](media/Ch02/image15.png) <div style=\"text-align: right\">【p02.009】</div>"
   ]
  },
  {
   "cell_type": "markdown",
   "metadata": {},
   "source": [
    "[](media/Ch02/image16.png) <div style=\"text-align: right\">【p02.010】</div>"
   ]
  },
  {
   "cell_type": "markdown",
   "metadata": {},
   "source": [
    "## Def2.3: Continuous Sample Space\n",
    "\n",
    "![image.png](fg/ch02/def2.03.png)\n",
    "\n",
    "![](media/Ch02/image17.png) <div style=\"text-align: right\">【p02.011】</div>"
   ]
  },
  {
   "cell_type": "markdown",
   "metadata": {},
   "source": [
    "\n",
    "## Def2.4: Probability Mass Function\n",
    "\n",
    "![image.png](fg/ch02/def2.04.png)\n",
    "![](media/Ch02/image18.png) <div style=\"text-align: right\">【p02.012】</div>"
   ]
  },
  {
   "cell_type": "markdown",
   "metadata": {},
   "source": []
  },
  {
   "cell_type": "markdown",
   "metadata": {},
   "source": [
    "![](media/Ch02/image19.png) <div style=\"text-align: right\">【p02.013】</div>\n",
    "![](media/Ch02/image20.png) <div style=\"text-align: right\">【p02.014】</div>\n",
    "![](media/Ch02/image21.png) <div style=\"text-align: right\">【p02.015】</div>"
   ]
  },
  {
   "cell_type": "markdown",
   "metadata": {},
   "source": [
    "## Def2.5: Cumulative Distribution Function\n",
    "\n",
    "![image.png](fg/ch02/def2.05.png)\n",
    "![](media/Ch02/image22.png) <div style=\"text-align: right\">【p02.016】</div>\n"
   ]
  },
  {
   "cell_type": "markdown",
   "metadata": {},
   "source": []
  },
  {
   "cell_type": "markdown",
   "metadata": {},
   "source": [
    "![](media/Ch02/image23.png) <div style=\"text-align: right\">【p02.017】</div>\n",
    "![](media/Ch02/image24.png) <div style=\"text-align: right\">【p02.018】</div>\n",
    "![](media/Ch02/image25.png) <div style=\"text-align: right\">【p02.019】</div>"
   ]
  },
  {
   "cell_type": "markdown",
   "metadata": {},
   "source": [
    "![](media/Ch02/image26.png) <div style=\"text-align: right\">【p02.020】</div>\n",
    "![](media/Ch02/image27.png) <div style=\"text-align: right\">【p02.021】</div>\n",
    "![](media/Ch02/image28.png) <div style=\"text-align: right\">【p02.022】</div>"
   ]
  },
  {
   "cell_type": "markdown",
   "metadata": {},
   "source": []
  },
  {
   "cell_type": "markdown",
   "metadata": {},
   "source": [
    "## Def2.6: Probability Density Function\n",
    "\n",
    "![image.png](fg/ch02/def2.06.png)\n",
    "![](media/Ch02/image33.png) <div style=\"text-align: right\">【p02.025】</div>\n",
    "\n",
    "![](media/Ch02/image30.png) <div style=\"text-align: right\">【p02.023】</div>\n",
    "![](media/Ch02/image32.png) <div style=\"text-align: right\">【p02.024】</div>"
   ]
  },
  {
   "cell_type": "markdown",
   "metadata": {},
   "source": [
    "## Ex 2.11\n",
    "Suppose that the error in the reaction temperature, in ◦C, for a controlled laboratory experiment is a continuous random variable X having the probability density function\n",
    "\n",
    "\n",
    "(a) Verify that f(x) is a density function.\n",
    "\n",
    "(b) Find P(0 < X ≤ 1).\n",
    "\n",
    "![](media/Ch02/image34.png) <div style=\"text-align: right\">【p02.026】</div>\n",
    "![](media/Ch02/image35.png) <div style=\"text-align: right\">【p02.027】</div>"
   ]
  },
  {
   "cell_type": "markdown",
   "metadata": {},
   "source": [
    "## Def2.7 Cumulative Distribution Function\n",
    "\n",
    "![image.png](fg/ch02/def2.07.png)\n",
    "![](media/Ch02/image38.png) <div style=\"text-align: right\">【p02.028】</div>"
   ]
  },
  {
   "cell_type": "markdown",
   "metadata": {},
   "source": [
    "![](media/Ch02/image39.png) <div style=\"text-align: right\">【p02.029】</div>"
   ]
  },
  {
   "cell_type": "markdown",
   "metadata": {},
   "source": [
    "![](media/Ch02/image40.png) <div style=\"text-align: right\">【p02.030】</div>\n",
    "![](media/Ch02/image41.png) <div style=\"text-align: right\">【p02.031】</div>\n",
    "![](media/Ch02/image42.png) <div style=\"text-align: right\">【p02.032】</div>"
   ]
  },
  {
   "cell_type": "markdown",
   "metadata": {},
   "source": [
    "## Def2.8: Joint Probability Mass Function\n",
    "\n",
    "![image.png](fg/ch02/def2.08.png)\n",
    "![](media/Ch02/image46.png) <div style=\"text-align: right\">【p02.033】</div>"
   ]
  },
  {
   "cell_type": "markdown",
   "metadata": {},
   "source": [
    "## Example b3.14: \n",
    "\n",
    "Two ballpoint pens are selected at random from a box that contains \n",
    "\n",
    "- 3 blue pens,\n",
    "- 2 red pens, \n",
    "- 3 green pens. \n",
    "\n",
    "If X is the number of blue pens selected \n",
    "and Y is the number of red pens selected, \n",
    "\n",
    "find\n",
    "- (a) the joint probability function f(x, y),\n",
    "- (b) P[(X, Y ) ∈ A], where A is the region {(x, y)|x + y ≤ 1}."
   ]
  },
  {
   "cell_type": "markdown",
   "metadata": {},
   "source": [
    "![](media/Ch02/image47.png) <div style=\"text-align: right\">【p02.034】</div>\n",
    "![](media/Ch02/image48.png) <div style=\"text-align: right\">【p02.035】</div>\n",
    "![](media/Ch02/image49.png) <div style=\"text-align: right\">【p02.036】</div>"
   ]
  },
  {
   "cell_type": "markdown",
   "metadata": {
    "heading_collapsed": true
   },
   "source": [
    "## Def2.9: Joint Probability Density Function\n",
    "\n",
    "![image.png](fg/ch02/def2.09.png)\n",
    "![](media/Ch02/image51.png) <div style=\"text-align: right\">【p02.037】</div>"
   ]
  },
  {
   "cell_type": "markdown",
   "metadata": {
    "hidden": true
   },
   "source": []
  },
  {
   "cell_type": "markdown",
   "metadata": {
    "hidden": true
   },
   "source": [
    "Example b3.15: \n",
    "\n",
    "A privately owned business operates both a drive-in facility and a walk-in facility.\n",
    "\n",
    "On a randomly selected day, let X and Y , respectively, be the proportions of the time that the drive-in and the walk-in facilities are in use, and suppose that the joint density function of these random variables is\n",
    "\n",
    "$\n",
    "f(x, y) =\n",
    "\\begin{cases}\n",
    "\\frac{2}{5}(2x + 3y), & 0 ≤ x ≤ 1, & 0 ≤ y ≤ 1,\\\\\n",
    "0, & elsewhere.\n",
    "\\end{cases}\n",
    "$\n",
    "\n",
    "- (a) Verify condition 2 of Definition 2.9.\n",
    "- (b) Find P[(X, Y ) ∈ A], where A = {(x, y) | 0 < x < 1/2 , 1/4 < y < 1/2 }."
   ]
  },
  {
   "cell_type": "markdown",
   "metadata": {
    "hidden": true
   },
   "source": [
    "![](media/Ch02/image52.png) <div style=\"text-align: right\">【p02.038】</div>\n",
    "![](media/Ch02/image53.png) <div style=\"text-align: right\">【p02.039】</div>"
   ]
  },
  {
   "cell_type": "markdown",
   "metadata": {
    "hidden": true
   },
   "source": [
    "![](media/Ch02/image54.png) <div style=\"text-align: right\">【p02.040】</div>\n",
    "![](media/Ch02/image55.png) <div style=\"text-align: right\">【p02.041】</div>"
   ]
  },
  {
   "cell_type": "markdown",
   "metadata": {},
   "source": [
    "## Def2.10: Marginal Distribution\n",
    "\n",
    "![image.png](fg/ch02/def2.10.png)\n",
    "\n",
    "![](media/Ch02/image59.png) <div style=\"text-align: right\">【p02.042】</div>\n",
    "![](media/Ch02/image60.png) <div style=\"text-align: right\">【p02.043】</div>"
   ]
  },
  {
   "cell_type": "markdown",
   "metadata": {},
   "source": [
    "![image.png](fg/fg_jointPmf_table2.1.png)\n",
    "\n",
    "![](media/Ch02/image61.png) <div style=\"text-align: right\">【p02.044】</div>\n",
    "\n",
    "![](fg/fg_jointPmf_table2.1_1.PNG)"
   ]
  },
  {
   "cell_type": "markdown",
   "metadata": {},
   "source": [
    "## Ex. 2.17 (following ex2.15)\n",
    "$\n",
    "f(x, y) =\n",
    "\\begin{cases}\n",
    "\\frac{2}{5}(2x + 3y), & 0 ≤ x ≤ 1, & 0 ≤ y ≤ 1,\\\\\n",
    "0, & elsewhere.\n",
    "\\end{cases}\n",
    "$\n",
    "\n",
    "![](media/Ch02/image62.png) <div style=\"text-align: right\">【p02.045】</div>\n",
    "![](media/Ch02/image63.png) <div style=\"text-align: right\">【p02.046】</div>"
   ]
  },
  {
   "cell_type": "markdown",
   "metadata": {},
   "source": [
    "## Def2.11 Conditional Distribution\n",
    "\n",
    "![image.png](fg/ch02/def2.11.png)\n",
    "![](media/Ch02/image64.png) <div style=\"text-align: right\">【p02.047】</div>\n",
    "![](media/Ch02/image65.png) <div style=\"text-align: right\">【p02.048】</div>"
   ]
  },
  {
   "cell_type": "markdown",
   "metadata": {},
   "source": [
    "![](fg/fg_jointPmf_table2.1_1.PNG)\n",
    "![](media/Ch02/image69.png) <div style=\"text-align: right\">【p02.049】</div>"
   ]
  },
  {
   "cell_type": "markdown",
   "metadata": {},
   "source": [
    "![](media/Ch02/image70.png) <div style=\"text-align: right\">【p02.050】</div>\n",
    "![](media/Ch02/image71.png) <div style=\"text-align: right\">【p02.051】</div>"
   ]
  },
  {
   "cell_type": "markdown",
   "metadata": {},
   "source": [
    "![image.png](fg/fg_conditionalProb02.png)"
   ]
  },
  {
   "cell_type": "markdown",
   "metadata": {},
   "source": [
    "![image.png](fg/fg_conditionalProb03.png)"
   ]
  },
  {
   "cell_type": "markdown",
   "metadata": {},
   "source": [
    "## Example b3.19: \n",
    "\n",
    "The joint density for the random variables (X, Y ), \n",
    "where X is the unit temperature change and Y is the proportion of spectrum shift \n",
    "that a certain atomic particle\n",
    "produces, is\n",
    "\n",
    "$\n",
    "f(x, y) =\n",
    "\\begin{cases}\n",
    "10xy^2, & 0 < x < y < 1,\\\\\n",
    "0, & elsewhere.\n",
    "\\end{cases}\n",
    "$\n",
    "\n",
    "- (a) Find the marginal densities g(x), h(y), and the conditional density f(y|x).\n",
    "- (b) Find the probability that the spectrum shifts more than half of the total observations, given that the temperature is increased by 0.25 unit.\n",
    "\n",
    "![](media/Ch02/image72.png) <div style=\"text-align: right\">【p02.052】</div>\n",
    "![](media/Ch02/image73.png) <div style=\"text-align: right\">【p02.053】</div>"
   ]
  },
  {
   "cell_type": "markdown",
   "metadata": {},
   "source": [
    "![](media/Ch02/image74.png) <div style=\"text-align: right\">【p02.054】</div>\n",
    "![](media/Ch02/image75.png) <div style=\"text-align: right\">【p02.055】</div>"
   ]
  },
  {
   "cell_type": "markdown",
   "metadata": {},
   "source": [
    "## Def 2.12: Statistically Independent\n",
    "\n",
    "![image.png](fg/ch02/def2.12.png)\n",
    "![](media/Ch02/image76.png) <div style=\"text-align: right\">【p02.056】</div>"
   ]
  },
  {
   "cell_type": "markdown",
   "metadata": {},
   "source": [
    "## Ex 2.21\n",
    "![](fg/fg_jointPmf_table2.1_1.PNG)\n",
    "![](media/Ch02/image77.png) <div style=\"text-align: right\">【p02.057】</div>"
   ]
  },
  {
   "cell_type": "markdown",
   "metadata": {},
   "source": [
    "## Def 2.13\n",
    "![image.png](fg/ch02/def2.13.png)\n",
    "![](media/Ch02/image78.png) <div style=\"text-align: right\">【p02.058】</div>"
   ]
  },
  {
   "cell_type": "markdown",
   "metadata": {},
   "source": [
    "## Example b3.22: \n",
    "\n",
    "Suppose that the shelf life, in years, of a certain perishable food product packaged\n",
    "in cardboard containers is a random variable whose probability density function is\n",
    "given by\n",
    "\n",
    "$\n",
    "f(x) =\n",
    "\\begin{cases}\u0003\n",
    "e^{−x}, & x>0,\\\\\n",
    "0, & elsewhere.\n",
    "\\end{cases}\n",
    "$\n",
    "\n",
    "Let $X_1, \\ X_2, \\ and \\ X_3$ represent the shelf lives for three of these containers \n",
    "selected independently and find \n",
    "\n",
    "$P(X_1 < 2, 1 < X_2 < 3, X_3 > 2) = \\ ?$\n",
    "\n",
    "\n",
    "![](media/Ch02/image79.png) <div style=\"text-align: right\">【p02.059】</div>"
   ]
  },
  {
   "cell_type": "markdown",
   "metadata": {},
   "source": [
    "![](media/Ch02/image80.png) <div style=\"text-align: right\">【p02.060】</div>"
   ]
  },
  {
   "cell_type": "markdown",
   "metadata": {},
   "source": [
    "## Exercise b 3.61"
   ]
  },
  {
   "cell_type": "code",
   "execution_count": 11,
   "metadata": {},
   "outputs": [
    {
     "data": {
      "text/latex": [
       "$\\displaystyle 12 x \\left(1 - x\\right)^{2}$"
      ],
      "text/plain": [
       "12*x*(1 - x)**2"
      ]
     },
     "execution_count": 11,
     "metadata": {},
     "output_type": "execute_result"
    }
   ],
   "source": [
    "import sympy as sp\n",
    "\n",
    "x,y= sp.symbols('x,y')\n",
    "\n",
    "f_XY= 24 * x * y\n",
    "f_X=  sp.integrate(f_XY, (y, 0, 1-x))\n",
    "f_X"
   ]
  },
  {
   "cell_type": "code",
   "execution_count": 12,
   "metadata": {},
   "outputs": [
    {
     "data": {
      "text/latex": [
       "$\\displaystyle 0.3125$"
      ],
      "text/plain": [
       "0.312500000000000"
      ]
     },
     "execution_count": 12,
     "metadata": {},
     "output_type": "execute_result"
    }
   ],
   "source": [
    "# (a)\n",
    "P= sp.integrate(f_X, (x, .5, 1))\n",
    "P"
   ]
  },
  {
   "cell_type": "code",
   "execution_count": 13,
   "metadata": {},
   "outputs": [
    {
     "data": {
      "text/latex": [
       "$\\displaystyle 12 y \\left(1 - y\\right)^{2}$"
      ],
      "text/plain": [
       "12*y*(1 - y)**2"
      ]
     },
     "execution_count": 13,
     "metadata": {},
     "output_type": "execute_result"
    }
   ],
   "source": [
    "#(b)\n",
    "f_Y= sp.integrate(f_XY, (x,0,1-y))\n",
    "f_Y"
   ]
  },
  {
   "cell_type": "code",
   "execution_count": 15,
   "metadata": {},
   "outputs": [
    {
     "data": {
      "text/latex": [
       "$\\displaystyle \\frac{2 x}{\\left(1 - y\\right)^{2}}$"
      ],
      "text/plain": [
       "2*x/(1 - y)**2"
      ]
     },
     "execution_count": 15,
     "metadata": {},
     "output_type": "execute_result"
    }
   ],
   "source": [
    "#(c)\n",
    "f_XgY= f_XY / f_Y\n",
    "f_XgY"
   ]
  },
  {
   "cell_type": "code",
   "execution_count": 20,
   "metadata": {},
   "outputs": [
    {
     "data": {
      "text/latex": [
       "$\\displaystyle 32.0 x$"
      ],
      "text/plain": [
       "32.0*x"
      ]
     },
     "execution_count": 20,
     "metadata": {},
     "output_type": "execute_result"
    }
   ],
   "source": [
    "f_XgY.subs({y:3/4}) # f_X|Y (x | y=3/4 )"
   ]
  },
  {
   "cell_type": "code",
   "execution_count": 21,
   "metadata": {},
   "outputs": [
    {
     "data": {
      "text/latex": [
       "$\\displaystyle 0.25$"
      ],
      "text/plain": [
       "0.250000000000000"
      ]
     },
     "execution_count": 21,
     "metadata": {},
     "output_type": "execute_result"
    }
   ],
   "source": [
    "P= sp.integrate(f_XgY.subs({y:3/4}), (x,0,1/8))\n",
    "P"
   ]
  },
  {
   "cell_type": "code",
   "execution_count": null,
   "metadata": {},
   "outputs": [],
   "source": []
  },
  {
   "cell_type": "code",
   "execution_count": null,
   "metadata": {},
   "outputs": [],
   "source": []
  },
  {
   "cell_type": "markdown",
   "metadata": {},
   "source": [
    "## Def2.14: Mean, Expectated Value (or Expectation)\n",
    "\n",
    "![image.png](fg/ch02/def2.14.png)\n",
    "![](media/Ch02/image82.png) <div style=\"text-align: right\">【p02.061】</div>"
   ]
  },
  {
   "cell_type": "markdown",
   "metadata": {},
   "source": [
    "## ex. 全班共 10 人，身高分布如下，平均身高為何？\n",
    "\n",
    "身高(cm)\t|150\t|160\t|170\t|180\t|190 | ..\n",
    "----|----|----|----|----|----|----\n",
    "人數\t|1\t|2\t|3\t|2\t|2\t| sum= 10\n",
    "身高總和\t|150 *1\t|160 *2\t|170 *3\t|180 *2\t|190 *2|..\t\n",
    "\t..|150\t|320\t|510\t|360\t|380\t|sum= 1720 ( mean= sum/10= 172)\n",
    "    ..|\n",
    "人數比例(權重)\t|0.1\t|0.2\t|0.3\t|0.2\t|0.2 | sum= 1.0\t\n",
    "\t.. |150 *0.1\t|160 *0.2\t|170 *0.3\t|180 *0.2\t|190 *0.2 | ..\t\n",
    "\t..|15\t|32\t|51\t|36\t|38\t| sum= 172 (mean= sum/1.0 = 172)"
   ]
  },
  {
   "cell_type": "markdown",
   "metadata": {},
   "source": [
    "## Exer 4.1\n",
    "\n",
    "```python\n",
    ">>> import numpy as np\n",
    ">>> x= [0,1,2,3,4]\n",
    ">>> f= [.41, .37, .16, .05, .01]\n",
    ">>> x= np.array(x)\n",
    ">>> f= np.array(f)\n",
    ">>> x\n",
    "array([0, 1, 2, 3, 4])\n",
    ">>> f\n",
    "array([0.41, 0.37, 0.16, 0.05, 0.01])\n",
    ">>> x.dot(f)\n",
    "0.88\n",
    ">>> \n",
    "```"
   ]
  },
  {
   "cell_type": "markdown",
   "metadata": {},
   "source": [
    "```python\n",
    "## exer 4.2\n",
    "import numpy as np\n",
    "import scipy.special as sp\n",
    "\n",
    "x= [0,1,2,3]\n",
    "x= np.array(x)\n",
    "f= sp.comb(3,x) * (1/4)**x * (3/4)**(3-x)\n",
    "μ= x.dot(f)\n",
    "μ  #= .75\n",
    "```"
   ]
  },
  {
   "cell_type": "code",
   "execution_count": 7,
   "metadata": {},
   "outputs": [
    {
     "data": {
      "image/png": "[encoded data removed]",
      "text/plain": [
       "<Figure size 432x288 with 1 Axes>"
      ]
     },
     "metadata": {
      "needs_background": "light"
     },
     "output_type": "display_data"
    }
   ],
   "source": [
    "import matplotlib.pyplot as pl\n",
    "pl.stem(x,f, use_line_collection=True)\n",
    "pl.grid()"
   ]
  },
  {
   "cell_type": "markdown",
   "metadata": {},
   "source": [
    "## Example b4.1: \n",
    "\n",
    "A lot containing 7 components is sampled by a quality inspector; \n",
    "\n",
    "the lot contains 4 good components and 3 defective components. \n",
    "\n",
    "A sample of 3 is taken by the inspector. \n",
    "\n",
    "Find the expected value of the number of good components in this sample.\n",
    "\n",
    "![](media/Ch02/image83.png) <div style=\"text-align: right\">【p02.062】</div>"
   ]
  },
  {
   "cell_type": "code",
   "execution_count": 14,
   "metadata": {
    "code_folding": []
   },
   "outputs": [
    {
     "data": {
      "text/plain": [
       "1.7142857142857144"
      ]
     },
     "execution_count": 14,
     "metadata": {},
     "output_type": "execute_result"
    }
   ],
   "source": [
    "import numpy as np\n",
    "from   scipy.special import comb\n",
    "\n",
    "x= np.arange(0, 4)  # x = [0,1,2,3]\n",
    "\n",
    "μ= ( comb(4, x)\n",
    "    *comb(3, 3-x)\n",
    "    /comb(7, 3)\n",
    "    * x\n",
    "    ).sum()\n",
    "\n",
    "μ   # = 1.7142857142857144"
   ]
  },
  {
   "cell_type": "markdown",
   "metadata": {},
   "source": [
    "## Example b4.2: \n",
    "\n",
    "A salesperson for a medical device company has 2 appointments on a given day.\n",
    "\n",
    "At the first appointment, he believes that he has a 70% chance to make the deal,\n",
    "from which he can earn 1,000 dollars commission if successful. \n",
    "\n",
    "On the other hand, he thinks he only has a 40% chance to make the deal at the second appointment,\n",
    "from which, if successful, he can make 1,500 dollars. \n",
    "\n",
    "What is his expected commission based on his own probability belief? \n",
    "Assume that the appointment results are `independent` of each other.\n",
    "\n",
    "![](media/Ch02/image84.png) <div style=\"text-align: right\">【p02.063】</div>"
   ]
  },
  {
   "cell_type": "markdown",
   "metadata": {},
   "source": [
    "## Example b4.3: \n",
    "\n",
    "Let X be the random variable that denotes the life in hours of a certain electronic\n",
    "device. The probability density function is\n",
    "\n",
    "$\n",
    "f(x) =\n",
    "\\begin{cases}\n",
    "\u0003\n",
    "\\frac{20,000}{x^3} , & x>100,\\\\\n",
    "0, & elsewhere.\n",
    "\\end{cases}\n",
    "$\n",
    "\n",
    "Find the expected life of this type of device.\n",
    "\n",
    "![](media/Ch02/image85.png) <div style=\"text-align: right\">【p02.064】</div>"
   ]
  },
  {
   "cell_type": "markdown",
   "metadata": {},
   "source": [
    "## Th 2.1\n",
    "![image.png](fg/ch02/th2.1.png)\n",
    "![](media/Ch02/image86.png) <div style=\"text-align: right\">【p02.065】</div>"
   ]
  },
  {
   "cell_type": "markdown",
   "metadata": {},
   "source": [
    "## Example 4.4: \n",
    "\n",
    "Suppose that the number of cars X that pass through a car wash between 4:00 P.M. and 5:00 P.M. on any sunny Friday has the following probability distribution:\n",
    "\n",
    "x |4  |5  |6  |7  |8  |9\n",
    "---|---|---|---|---|---|---\n",
    "P(X = x) |1/12 | 1/12 | 1/4 | 1/4 | 1/6 | 1/6\n",
    "\n",
    "Let g(X) = 2X−1 represent the amount of money, in dollars, paid to the attendant by the manager. \n",
    "- Find the attendant’s expected earnings for this particular time period.\n",
    "\n",
    "![](media/Ch02/image87.png) <div style=\"text-align: right\">【p02.066】</div>"
   ]
  },
  {
   "cell_type": "markdown",
   "metadata": {},
   "source": [
    "## Example b4.5: \n",
    "\n",
    "Let X be a random variable with density function\n",
    "\n",
    "$\n",
    "f(x) =\n",
    "\\begin{cases}\n",
    "x^2/3 , & −1 < x < 2,\\\\\n",
    "0, & elsewhere.\n",
    "\\end{cases}\n",
    "$\n",
    "\n",
    "Find the expected value of g(X) = 4X + 3.\n",
    "\n",
    "\n",
    "![](media/Ch02/image88.png) <div style=\"text-align: right\">【p02.067】</div>\n",
    "![](media/Ch02/image89.png) <div style=\"text-align: right\">【p02.068】</div>"
   ]
  },
  {
   "cell_type": "markdown",
   "metadata": {},
   "source": [
    "## Def2.15: Mean\n",
    "\n",
    "![image.png](fg/ch02/def2.15.png)\n",
    "![](media/Ch02/image90.png) <div style=\"text-align: right\">【p02.069】</div>"
   ]
  },
  {
   "cell_type": "markdown",
   "metadata": {},
   "source": [
    "![](media/Ch02/image91.png) <div style=\"text-align: right\">【p02.070】</div>\n",
    "![](media/Ch02/image92.png) <div style=\"text-align: right\">【p02.071】</div>"
   ]
  },
  {
   "cell_type": "markdown",
   "metadata": {},
   "source": [
    "![](media/Ch02/image93.png) <div style=\"text-align: right\">【p02.072】</div>"
   ]
  },
  {
   "cell_type": "code",
   "execution_count": 22,
   "metadata": {},
   "outputs": [
    {
     "data": {
      "text/latex": [
       "$\\displaystyle \\frac{5}{8}$"
      ],
      "text/plain": [
       "5/8"
      ]
     },
     "execution_count": 22,
     "metadata": {},
     "output_type": "execute_result"
    }
   ],
   "source": [
    "import sympy as sp\n",
    "\n",
    "x,y= sp.symbols('x, y')\n",
    "\n",
    "sp.integrate( \n",
    "    y *( 1 + 3*y**2) /4,\n",
    "    (x, 0, 2),\n",
    "    (y, 0, 1)\n",
    "    )"
   ]
  },
  {
   "cell_type": "markdown",
   "metadata": {},
   "source": [
    "Note that if g(X, Y ) = X in Definition 4.2, we have\n",
    "\n",
    "![](fg/fg_expectation.PNG)\n",
    "\n",
    "where g(x) is the marginal distribution of X. \n",
    "\n",
    "Therefore, in calculating E(X) over a two-dimensional space, \n",
    "one may use either the joint probability distribution of X and Y or the marginal distribution of X."
   ]
  },
  {
   "cell_type": "markdown",
   "metadata": {},
   "source": [
    "## Variance and Covariance\n",
    "\n",
    "- Figure b4.1: \n",
    "Distributions with equal means and unequal dispersions.\n",
    "\n",
    "![](media/Ch02/image103.png) <div style=\"text-align: right\">【p02.073】</div>"
   ]
  },
  {
   "cell_type": "markdown",
   "metadata": {},
   "source": []
  },
  {
   "cell_type": "markdown",
   "metadata": {},
   "source": [
    "## Def2.16: Variance (var) and Standard Deviation (std)\n",
    "\n",
    "![image.png](fg/ch02/def2.16.png)\n",
    "![](media/Ch02/image105.png) <div style=\"text-align: right\">【p02.074】</div>\n",
    "\n",
    "![](fg/fg_var_std.png)"
   ]
  },
  {
   "cell_type": "markdown",
   "metadata": {},
   "source": [
    "## Example 4.8: \n",
    "\n",
    "![](fg/fg_fig4_1.png)\n",
    "\n",
    "Let the random variable X represent the number of automobiles that are used for official business purposes on any given workday. The probability distribution for\n",
    "company A [Figure 4.1(a)] is\n",
    "\n",
    "x |1 |2 |3\n",
    "---|---|---|---\n",
    "f(x) |0.3 |0.4 |0.3\n",
    "\n",
    "and that for company B [Figure 4.1(b)] is\n",
    "\n",
    "x |0 |1 |2 |3 |4\n",
    "---|---|---|---|---|---\n",
    "f(x) |0.2 |0.1 |0.3 |0.3 |0.1\n",
    "\n",
    "Show that the variance of the probability distribution for company B is greater\n",
    "\n",
    "than that for company A."
   ]
  },
  {
   "cell_type": "code",
   "execution_count": 8,
   "metadata": {},
   "outputs": [
    {
     "data": {
      "text/plain": [
       "(2.0, 2.0, 0.6, 1.6000000000000003)"
      ]
     },
     "execution_count": 8,
     "metadata": {},
     "output_type": "execute_result"
    }
   ],
   "source": [
    "import numpy as np\n",
    "\n",
    "Xa= [ 1,  2,  3]\n",
    "fa= [.3, .4, .3]\n",
    "\n",
    "Xb= [ 0,  1,  2,  3,  4]\n",
    "fb= [.2, .1, .3, .3, .1]\n",
    "\n",
    "Xa= np.array(Xa)\n",
    "fa= np.array(fa)\n",
    "Xb= np.array(Xb)\n",
    "fb= np.array(fb)\n",
    "\n",
    "μa= Xa.dot(fa)\n",
    "μb= Xb.dot(fb)\n",
    "\n",
    "va= ((Xa-μa)**2).dot(fa) \n",
    "vb= ((Xb-μb)**2).dot(fb) \n",
    "\n",
    "μa, μb, va, vb"
   ]
  },
  {
   "cell_type": "code",
   "execution_count": 9,
   "metadata": {},
   "outputs": [
    {
     "data": {
      "text/plain": [
       "(True, True)"
      ]
     },
     "execution_count": 9,
     "metadata": {},
     "output_type": "execute_result"
    }
   ],
   "source": [
    "μa==μb, vb > va"
   ]
  },
  {
   "cell_type": "markdown",
   "metadata": {},
   "source": [
    "![](media/Ch02/image106.png) <div style=\"text-align: right\">【p02.075】</div>\n",
    "![](media/Ch02/image107.png) <div style=\"text-align: right\">【p02.076】</div>\n",
    "![](media/Ch02/image108.png) <div style=\"text-align: right\">【p02.077】</div>"
   ]
  },
  {
   "cell_type": "markdown",
   "metadata": {},
   "source": [
    "## Th2.2\n",
    "![image.png](fg/ch02/th2.2.png)\n",
    "![](media/Ch02/image109.png) <div style=\"text-align: right\">【p02.078】</div>"
   ]
  },
  {
   "cell_type": "markdown",
   "metadata": {},
   "source": [
    "![](media/Ch02/image110.png) <div style=\"text-align: right\">【p02.079】</div>\n",
    "![](media/Ch02/image111.png) <div style=\"text-align: right\">【p02.080】</div>"
   ]
  },
  {
   "cell_type": "markdown",
   "metadata": {},
   "source": []
  },
  {
   "cell_type": "markdown",
   "metadata": {},
   "source": [
    "![](media/Ch02/image112.png) <div style=\"text-align: right\">【p02.081】</div>"
   ]
  },
  {
   "cell_type": "code",
   "execution_count": 3,
   "metadata": {},
   "outputs": [
    {
     "data": {
      "text/latex": [
       "$\\displaystyle \\frac{5}{3}$"
      ],
      "text/plain": [
       "5/3"
      ]
     },
     "execution_count": 3,
     "metadata": {},
     "output_type": "execute_result"
    }
   ],
   "source": [
    "import sympy as sp\n",
    "x= sp.symbols('x')\n",
    "\n",
    "f= 2*(x-1)  # 1<x<2\n",
    "μ= sp.integrate(x*f, (x,1,2))\n",
    "μ"
   ]
  },
  {
   "cell_type": "code",
   "execution_count": 4,
   "metadata": {},
   "outputs": [
    {
     "data": {
      "text/latex": [
       "$\\displaystyle \\frac{1}{18}$"
      ],
      "text/plain": [
       "1/18"
      ]
     },
     "execution_count": 4,
     "metadata": {},
     "output_type": "execute_result"
    }
   ],
   "source": [
    "E_X2= sp.integrate(x*x*f, (x,1,2))\n",
    "σ2= E_X2-μ*μ\n",
    "σ2"
   ]
  },
  {
   "cell_type": "code",
   "execution_count": 15,
   "metadata": {},
   "outputs": [
    {
     "data": {
      "text/plain": [
       "(0.61, 0.49790000000000006)"
      ]
     },
     "execution_count": 15,
     "metadata": {},
     "output_type": "execute_result"
    }
   ],
   "source": [
    "# ex s2.31, b4.9\n",
    "import numpy as np\n",
    "x= np.array([0, 1, 2, 3])\n",
    "f= np.array([.51, .38, .10, .01])\n",
    "\n",
    "μ= x.dot(f)\n",
    "v= ((x-μ)**2).dot(f)\n",
    "μ, v\n"
   ]
  },
  {
   "cell_type": "code",
   "execution_count": 16,
   "metadata": {},
   "outputs": [
    {
     "data": {
      "text/plain": [
       "(5/3, 1/18)"
      ]
     },
     "execution_count": 16,
     "metadata": {},
     "output_type": "execute_result"
    }
   ],
   "source": [
    "# ex s2.32, b4.10\n",
    "import sympy as sp\n",
    "\n",
    "x= sp.symbols('x')\n",
    "f= 2*(x-1)\n",
    "\n",
    "μ= sp.integrate( x*f,        (x,1,2))\n",
    "v= sp.integrate((x-μ)**2 *f, (x,1,2))\n",
    "\n",
    "μ, v"
   ]
  },
  {
   "cell_type": "code",
   "execution_count": 33,
   "metadata": {},
   "outputs": [
    {
     "data": {
      "text/latex": [
       "$\\displaystyle \\frac{5}{3}$"
      ],
      "text/plain": [
       "5/3"
      ]
     },
     "execution_count": 33,
     "metadata": {},
     "output_type": "execute_result"
    }
   ],
   "source": [
    "sp.integrate(x*f).subs(x,2) - sp.integrate(x*f).subs(x,1)"
   ]
  },
  {
   "cell_type": "code",
   "execution_count": 30,
   "metadata": {},
   "outputs": [
    {
     "data": {
      "text/latex": [
       "$\\displaystyle \\frac{1}{18}$"
      ],
      "text/plain": [
       "1/18"
      ]
     },
     "execution_count": 30,
     "metadata": {},
     "output_type": "execute_result"
    }
   ],
   "source": [
    "  sp.integrate(x*x*f,(x,1,2)) \\\n",
    "- sp.integrate(x*f,(x,1,2))**2"
   ]
  },
  {
   "cell_type": "markdown",
   "metadata": {},
   "source": [
    "## Th2.3\n",
    "![image.png](fg/ch02/th2.3.png)\n",
    "![](media/Ch02/image115.png) <div style=\"text-align: right\">【p02.082】</div>"
   ]
  },
  {
   "cell_type": "markdown",
   "metadata": {},
   "source": [
    "![](media/Ch02/image121.png) <div style=\"text-align: right\">【p02.083】</div>\n",
    "![](media/Ch02/image122.png) <div style=\"text-align: right\">【p02.084】</div>"
   ]
  },
  {
   "cell_type": "markdown",
   "metadata": {},
   "source": [
    "\n",
    "## Example b4.5: \n",
    "\n",
    "Let X be a random variable with density function\n",
    "\n",
    "$\n",
    "f(x) =\n",
    "\\begin{cases}\n",
    "x^2/3 , & −1 < x < 2,\\\\\n",
    "0, & elsewhere.\n",
    "\\end{cases}\n",
    "$\n",
    "\n",
    "- Find the expected value of g(X) = 4X + 3.\n",
    "\n",
    "- Find the variance of g(X) = 4X + 3\n",
    "\n",
    "![](media/Ch02/image126.png) <div style=\"text-align: right\">【p02.085】</div>"
   ]
  },
  {
   "cell_type": "markdown",
   "metadata": {
    "cell_style": "center"
   },
   "source": [
    "## Def2.17: Covariance\n",
    "\n",
    "![image.png](fg/ch02/def2.17.png)\n",
    "![](media/Ch02/image127.png) <div style=\"text-align: right\">【p02.086】</div>"
   ]
  },
  {
   "cell_type": "markdown",
   "metadata": {},
   "source": [
    "![](media/Ch02/image129.png) <div style=\"text-align: right\">【p02.088】</div>"
   ]
  },
  {
   "cell_type": "code",
   "execution_count": 55,
   "metadata": {},
   "outputs": [
    {
     "data": {
      "text/plain": [
       "(array([[0.10714286, 0.32142857, 0.10714286],\n",
       "        [0.21428571, 0.21428571, 0.        ],\n",
       "        [0.03571429, 0.        , 0.        ]]),\n",
       " array([0, 1, 2]),\n",
       " array([0, 1, 2]))"
      ]
     },
     "execution_count": 55,
     "metadata": {},
     "output_type": "execute_result"
    }
   ],
   "source": [
    "f= f_YX= \\\n",
    "    [[3/28, 9/28, 3/28],\n",
    "     [3/14, 3/14,    0],\n",
    "     [1/28,    0,    0]]\n",
    "\n",
    "x= [0,1,2]\n",
    "y= [0,1,2]\n",
    "\n",
    "import numpy as np\n",
    "\n",
    "f_YX= np.array(f_YX)\n",
    "x=np.array(x)\n",
    "y=np.array(y)\n",
    "\n",
    "f_YX, x, y\n"
   ]
  },
  {
   "cell_type": "code",
   "execution_count": 56,
   "metadata": {},
   "outputs": [
    {
     "data": {
      "text/plain": [
       "(array([0.35714286, 0.53571429, 0.10714286]),\n",
       " array([0.53571429, 0.42857143, 0.03571429]))"
      ]
     },
     "execution_count": 56,
     "metadata": {},
     "output_type": "execute_result"
    }
   ],
   "source": [
    "g= f_X= f_YX.sum(axis=0)\n",
    "\n",
    "h= f_Y= f_YX.sum(axis=1)\n",
    "f_X, f_Y"
   ]
  },
  {
   "cell_type": "code",
   "execution_count": 57,
   "metadata": {},
   "outputs": [
    {
     "data": {
      "text/plain": [
       "(0.75, 0.5)"
      ]
     },
     "execution_count": 57,
     "metadata": {},
     "output_type": "execute_result"
    }
   ],
   "source": [
    "μX= (x*f_X).sum()\n",
    "μY= (y*f_Y).sum()\n",
    "μX, μY"
   ]
  },
  {
   "cell_type": "code",
   "execution_count": 60,
   "metadata": {},
   "outputs": [
    {
     "data": {
      "text/plain": [
       "-0.1607142857142857"
      ]
     },
     "execution_count": 60,
     "metadata": {},
     "output_type": "execute_result"
    }
   ],
   "source": [
    "# E{(X-μX)(Y-μY)}= E{(Y-μY)(X-μX)}=\n",
    "( np.outer((y-μY),(x-μX))  * f_YX ).sum()"
   ]
  },
  {
   "cell_type": "code",
   "execution_count": null,
   "metadata": {},
   "outputs": [],
   "source": []
  },
  {
   "cell_type": "code",
   "execution_count": 64,
   "metadata": {},
   "outputs": [
    {
     "data": {
      "text/plain": [
       "array([[ 0.375, -0.125, -0.625],\n",
       "       [-0.375,  0.125,  0.625],\n",
       "       [-1.125,  0.375,  1.875]])"
      ]
     },
     "execution_count": 64,
     "metadata": {},
     "output_type": "execute_result"
    }
   ],
   "source": [
    "np.outer((y-μY),(x-μX))"
   ]
  },
  {
   "cell_type": "code",
   "execution_count": 63,
   "metadata": {},
   "outputs": [
    {
     "data": {
      "text/plain": [
       "array([[0.10714286, 0.32142857, 0.10714286],\n",
       "       [0.21428571, 0.21428571, 0.        ],\n",
       "       [0.03571429, 0.        , 0.        ]])"
      ]
     },
     "execution_count": 63,
     "metadata": {},
     "output_type": "execute_result"
    }
   ],
   "source": [
    "f_YX "
   ]
  },
  {
   "cell_type": "markdown",
   "metadata": {},
   "source": [
    "![image.png](fg/fg_ex2.35.png)"
   ]
  },
  {
   "cell_type": "code",
   "execution_count": 11,
   "metadata": {},
   "outputs": [
    {
     "data": {
      "text/plain": [
       "(1, 3)"
      ]
     },
     "execution_count": 11,
     "metadata": {},
     "output_type": "execute_result"
    }
   ],
   "source": [
    "import numpy as np\n",
    "x=np.array([0,1,2])\n",
    "y=np.array([0,1,2])\n",
    "x.shape\n",
    "xx= x.reshape(1,-1)\n",
    "xx.shape"
   ]
  },
  {
   "cell_type": "code",
   "execution_count": 2,
   "metadata": {},
   "outputs": [],
   "source": [
    "x=x.reshape(1,-1) # row= 1, col= any\n",
    "y=y.reshape(-1,1) # row= any,   col= 1"
   ]
  },
  {
   "cell_type": "code",
   "execution_count": 66,
   "metadata": {},
   "outputs": [
    {
     "data": {
      "text/plain": [
       "array([[0, 1, 2]])"
      ]
     },
     "execution_count": 66,
     "metadata": {},
     "output_type": "execute_result"
    }
   ],
   "source": [
    "x"
   ]
  },
  {
   "cell_type": "code",
   "execution_count": 67,
   "metadata": {},
   "outputs": [
    {
     "data": {
      "text/plain": [
       "array([[0],\n",
       "       [1],\n",
       "       [2]])"
      ]
     },
     "execution_count": 67,
     "metadata": {},
     "output_type": "execute_result"
    }
   ],
   "source": [
    "y"
   ]
  },
  {
   "cell_type": "code",
   "execution_count": 68,
   "metadata": {},
   "outputs": [
    {
     "data": {
      "text/plain": [
       "array([[0, 0, 0],\n",
       "       [0, 1, 2],\n",
       "       [0, 2, 4]])"
      ]
     },
     "execution_count": 68,
     "metadata": {},
     "output_type": "execute_result"
    }
   ],
   "source": [
    "np.matmul(y,x) # == y @ x "
   ]
  },
  {
   "cell_type": "code",
   "execution_count": 69,
   "metadata": {},
   "outputs": [
    {
     "data": {
      "text/plain": [
       "array([[5]])"
      ]
     },
     "execution_count": 69,
     "metadata": {},
     "output_type": "execute_result"
    }
   ],
   "source": [
    "np.matmul(x,y) # == x @ y"
   ]
  },
  {
   "cell_type": "code",
   "execution_count": 70,
   "metadata": {},
   "outputs": [],
   "source": [
    "f_YX= [[3/28, 9/28, 3/28],\n",
    "       [3/14, 3/14,    0],\n",
    "       [1/28,    0,    0]]\n",
    "\n",
    "f_YX= np.array(f_YX)\n"
   ]
  },
  {
   "cell_type": "code",
   "execution_count": 71,
   "metadata": {},
   "outputs": [
    {
     "data": {
      "text/plain": [
       "0.21428571428571427"
      ]
     },
     "execution_count": 71,
     "metadata": {},
     "output_type": "execute_result"
    }
   ],
   "source": [
    "E_XY= E_YX = \\\n",
    "((  y @ x ) * f_YX).sum()\n",
    "E_XY # = 0.21428571428571427 == 3/14"
   ]
  },
  {
   "cell_type": "code",
   "execution_count": 72,
   "metadata": {},
   "outputs": [
    {
     "data": {
      "text/plain": [
       "-0.16071428571428573"
      ]
     },
     "execution_count": 72,
     "metadata": {},
     "output_type": "execute_result"
    }
   ],
   "source": [
    "σXY= E_XY- μX*μY\n",
    "σXY"
   ]
  },
  {
   "cell_type": "markdown",
   "metadata": {},
   "source": [
    "## Th2.4\n",
    "![image.png](fg/ch02/th2.4.png)\n",
    "![](media/Ch02/image128.png) <div style=\"text-align: right\">【p02.087】</div>"
   ]
  },
  {
   "cell_type": "markdown",
   "metadata": {},
   "source": [
    "![](media/Ch02/image129.png) <div style=\"text-align: right\">【p02.088】</div>\n",
    "![](media/Ch02/image130.png) <div style=\"text-align: right\">【p02.089】</div>"
   ]
  },
  {
   "cell_type": "markdown",
   "metadata": {},
   "source": [
    "![](media/Ch02/image131.png) <div style=\"text-align: right\">【p02.090】</div>"
   ]
  },
  {
   "cell_type": "markdown",
   "metadata": {},
   "source": [
    "![](media/Ch02/image132.png) <div style=\"text-align: right\">【p02.091】</div>\n"
   ]
  },
  {
   "cell_type": "markdown",
   "metadata": {},
   "source": [
    "![](media/Ch02/image133.png) <div style=\"text-align: right\">【p02.092】</div>"
   ]
  },
  {
   "cell_type": "code",
   "execution_count": 15,
   "metadata": {},
   "outputs": [
    {
     "data": {
      "text/plain": [
       "(4*x**3, -4*y**3 + 4*y)"
      ]
     },
     "execution_count": 15,
     "metadata": {},
     "output_type": "execute_result"
    }
   ],
   "source": [
    "import sympy as sp\n",
    "\n",
    "x,y= sp.symbols('x,y')\n",
    "f_XY= 8*x*y\n",
    "\n",
    "f_X= sp.integrate(f_XY, (y,0,x))\n",
    "f_Y= sp.integrate(f_XY, (x,y,1))\n",
    "\n",
    "f_X, f_Y"
   ]
  },
  {
   "cell_type": "code",
   "execution_count": 16,
   "metadata": {},
   "outputs": [
    {
     "data": {
      "text/plain": [
       "(4/5, 8/15)"
      ]
     },
     "execution_count": 16,
     "metadata": {},
     "output_type": "execute_result"
    }
   ],
   "source": [
    "μX= sp.integrate(x*f_X, (x,0,1))\n",
    "μY= sp.integrate(y*f_Y, (y,0,1))\n",
    "\n",
    "μX, μY"
   ]
  },
  {
   "cell_type": "code",
   "execution_count": 17,
   "metadata": {},
   "outputs": [
    {
     "data": {
      "text/latex": [
       "$\\displaystyle \\frac{4}{9}$"
      ],
      "text/plain": [
       "4/9"
      ]
     },
     "execution_count": 17,
     "metadata": {},
     "output_type": "execute_result"
    }
   ],
   "source": [
    "q_X= sp.integrate(x*y*f_XY, (y,0,x))\n",
    "E_XY= sp.integrate(q_X, (x,0,1))\n",
    "E_XY"
   ]
  },
  {
   "cell_type": "code",
   "execution_count": 18,
   "metadata": {},
   "outputs": [
    {
     "data": {
      "text/latex": [
       "$\\displaystyle \\frac{4}{225}$"
      ],
      "text/plain": [
       "4/225"
      ]
     },
     "execution_count": 18,
     "metadata": {},
     "output_type": "execute_result"
    }
   ],
   "source": [
    "σXY= E_XY - μX*μY\n",
    "σXY"
   ]
  },
  {
   "cell_type": "markdown",
   "metadata": {},
   "source": []
  },
  {
   "cell_type": "markdown",
   "metadata": {},
   "source": [
    "\n"
   ]
  },
  {
   "cell_type": "markdown",
   "metadata": {},
   "source": [
    "## Def 2.18: Correlation coefficient (相關係數)\n",
    "\n",
    "Although the covariance between two random variables does provide information regarding the nature of the relationship, the magnitude of $σ_{XY}$ does not indicate anything regarding the strength of the relationship, since $σ_{XY}$ is not scale-free.\n",
    "\n",
    "Its magnitude will depend on the units used to measure both X and Y . There is a scale-free version of the covariance called the `correlation coefficient` (相關係數), $ρ_{XY}$, that is used widely in statistics.\n",
    "\n",
    "The correlation coefficient satisfies the inequality \n",
    "\n",
    "$−1 ≤ ρ_{XY} ≤ 1$"
   ]
  },
  {
   "cell_type": "markdown",
   "metadata": {},
   "source": [
    "![image.png](fg/ch02/def2.18.png)\n",
    "![](media/Ch02/image134.png) <div style=\"text-align: right\">【p02.093】</div>"
   ]
  },
  {
   "cell_type": "markdown",
   "metadata": {},
   "source": [
    "![](media/Ch02/image135.png) <div style=\"text-align: right\">【p02.094】</div>\n",
    "![](media/Ch02/image136.png) <div style=\"text-align: right\">【p02.095】</div>"
   ]
  },
  {
   "cell_type": "markdown",
   "metadata": {},
   "source": [
    "## Means and Variances of Linear Combinations of Random Variables\n",
    "\n",
    "- We now develop some useful properties that will simplify the calculations of means and variances of random variables that appear in later chapters. \n",
    "\n",
    "- These properties will permit us to deal with expectations in terms of other parameters that are either known or easily computed. \n",
    " \n",
    "- All the results that we present here are valid for both discrete and continuous random variables. \n",
    " \n",
    "- Proofs are given only for the continuous case. We begin with a theorem and two corollaries that should be, intuitively, reasonable to the reader."
   ]
  },
  {
   "cell_type": "markdown",
   "metadata": {},
   "source": [
    "## Th 2.5\n",
    "![image.png](fg/ch02/th2.5.png)\n",
    "![](media/Ch02/image140.png) <div style=\"text-align: right\">【p02.096】</div>\n",
    "![](media/Ch02/image141.png) <div style=\"text-align: right\">【p02.097】</div>"
   ]
  },
  {
   "cell_type": "markdown",
   "metadata": {},
   "source": [
    "![](media/Ch02/image142.png) <div style=\"text-align: right\">【p02.098】</div>"
   ]
  },
  {
   "cell_type": "markdown",
   "metadata": {},
   "source": [
    "## Th 2.6\n",
    "![image.png](fg/ch02/th2.6.png)\n",
    "![](media/Ch02/image143.png) <div style=\"text-align: right\">【p02.099】</div>"
   ]
  },
  {
   "cell_type": "markdown",
   "metadata": {},
   "source": [
    "![](media/Ch02/image144.png) <div style=\"text-align: right\">【p02.100】</div>\n",
    "![](media/Ch02/image145.png) <div style=\"text-align: right\">【p02.101】</div>\n",
    "![](media/Ch02/image146.png) <div style=\"text-align: right\">【p02.102】</div>\n",
    "![](media/Ch02/image147.png) <div style=\"text-align: right\">【p02.103】</div>"
   ]
  },
  {
   "cell_type": "markdown",
   "metadata": {},
   "source": [
    "## Th 2.7\n",
    "![image.png](fg/ch02/th2.7.png)\n",
    "![](media/Ch02/image148.png) <div style=\"text-align: right\">【p02.104】</div>\n",
    "![](media/Ch02/image149.png) <div style=\"text-align: right\">【p02.105】</div>\n",
    "![](media/Ch02/image150.png) <div style=\"text-align: right\">【p02.106】</div>"
   ]
  },
  {
   "cell_type": "markdown",
   "metadata": {},
   "source": [
    "## Th2.8\n",
    "![image.png](fg/ch02/th2.8.png)"
   ]
  },
  {
   "cell_type": "markdown",
   "metadata": {},
   "source": [
    "![](media/Ch02/image154.png) <div style=\"text-align: right\">【p02.107】</div>"
   ]
  },
  {
   "cell_type": "markdown",
   "metadata": {},
   "source": [
    "![](fg/fg_pf4.8.png)"
   ]
  },
  {
   "cell_type": "markdown",
   "metadata": {},
   "source": [
    "![](media/Ch02/image155.png) <div style=\"text-align: right\">【p02.108】</div>\n",
    "![](media/Ch02/image158.png) <div style=\"text-align: right\">【p02.111】</div>"
   ]
  },
  {
   "cell_type": "markdown",
   "metadata": {},
   "source": [
    "## Example b4.21: \n",
    "\n",
    "It is known that the ratio of gallium to arsenide does not affect the functioning\n",
    "of gallium-arsenide wafers, which are the main components of microchips. \n",
    "\n",
    "Let X denote the ratio of gallium to arsenide and Y denote the functional wafers retrieved\n",
    "during a 1-hour period. \n",
    "\n",
    "X and Y are independent random variables with the joint\n",
    "density function\n",
    "\n",
    "$\n",
    "f(x, y) =\n",
    "\\begin{cases}\n",
    "\\frac{x (1+3y^2)}{4} , & 0 < x < 2, 0 < y < 1,\\\\\n",
    "0, &elsewhere.\n",
    "\\end{cases}\n",
    "$\n",
    "\n",
    "Show that \n",
    "\n",
    "$E(XY) = E(X) E(Y )$"
   ]
  },
  {
   "cell_type": "code",
   "execution_count": 82,
   "metadata": {},
   "outputs": [
    {
     "data": {
      "text/latex": [
       "$\\displaystyle \\frac{5}{6}$"
      ],
      "text/plain": [
       "5/6"
      ]
     },
     "execution_count": 82,
     "metadata": {},
     "output_type": "execute_result"
    }
   ],
   "source": [
    "import sympy as sp\n",
    "\n",
    "x,y= sp.symbols('x,y')\n",
    "f= x * (1 +3*y**2) / 4     # 0<𝑥<2,0<𝑦<1\n",
    "\n",
    "E_XY= sp.integrate(x * y * f, (x,0,2), (y,0,1))\n",
    "E_XY"
   ]
  },
  {
   "cell_type": "code",
   "execution_count": 85,
   "metadata": {},
   "outputs": [
    {
     "data": {
      "text/latex": [
       "$\\displaystyle \\frac{4}{3}$"
      ],
      "text/plain": [
       "4/3"
      ]
     },
     "execution_count": 85,
     "metadata": {},
     "output_type": "execute_result"
    }
   ],
   "source": [
    "E_X= sp.integrate(x*f, (x,0,2), (y,0,1))\n",
    "E_X"
   ]
  },
  {
   "cell_type": "code",
   "execution_count": 87,
   "metadata": {},
   "outputs": [
    {
     "data": {
      "text/latex": [
       "$\\displaystyle \\frac{5}{8}$"
      ],
      "text/plain": [
       "5/8"
      ]
     },
     "execution_count": 87,
     "metadata": {},
     "output_type": "execute_result"
    }
   ],
   "source": [
    "E_Y= sp.integrate(y*f, (x,0,2), (y,0,1))\n",
    "E_Y"
   ]
  },
  {
   "cell_type": "code",
   "execution_count": 86,
   "metadata": {},
   "outputs": [
    {
     "data": {
      "text/plain": [
       "True"
      ]
     },
     "execution_count": 86,
     "metadata": {},
     "output_type": "execute_result"
    }
   ],
   "source": [
    "E_XY == E_X*E_Y"
   ]
  },
  {
   "cell_type": "markdown",
   "metadata": {},
   "source": [
    "----\n",
    "砷化鎵（化學式：GaAs）是鎵和砷兩種元素所合成的化合物，\n",
    "\n",
    "Wafer:![](https://upload.wikimedia.org/wikipedia/commons/f/f7/Akbar_Mashti.JPG)\n",
    "![](https://upload.wikimedia.org/wikipedia/commons/d/d7/Wafer_2_Zoll_bis_8_Zoll_2.jpg)\n",
    "\n",
    "TSMC 台積電: 台灣的`護國神山`\n",
    "\n",
    "![](https://upload.wikimedia.org/wikipedia/zh/thumb/f/fd/TSMC.svg/1024px-TSMC.svg.png)\n",
    "\n",
    "----"
   ]
  },
  {
   "cell_type": "markdown",
   "metadata": {},
   "source": [
    "![](media/Ch02/image157.png) <div style=\"text-align: right\">【p02.110】</div>\n",
    "![](media/Ch02/image158.png) <div style=\"text-align: right\">【p02.111】</div>\n",
    "\n",
    "![](media/Ch02/image156.png) <div style=\"text-align: right\">【p02.109】</div>"
   ]
  },
  {
   "cell_type": "markdown",
   "metadata": {},
   "source": [
    "## Th 2.9\n",
    "![image.png](fg/ch02/th2.9.png)\n",
    "\n",
    "![](media/Ch02/image161.png) <div style=\"text-align: right\">【p02.112】</div>\n",
    "![](media/Ch02/image163.png) <div style=\"text-align: right\">【p02.113】</div>\n",
    "![](media/Ch02/image164.png) <div style=\"text-align: right\">【p02.114】</div>\n",
    "![](media/Ch02/image165.png) <div style=\"text-align: right\">【p02.115】</div>\n",
    "![](media/Ch02/image166.png) <div style=\"text-align: right\">【p02.116】</div>\n",
    "![](media/Ch02/image167.png) <div style=\"text-align: right\">【p02.117】</div>\n",
    "![](media/Ch02/image168.png) <div style=\"text-align: right\">【p02.118】</div>"
   ]
  },
  {
   "cell_type": "markdown",
   "metadata": {},
   "source": [
    "![](media/Ch02/image169.png) <div style=\"text-align: right\">【p02.119】</div>\n",
    "![](media/Ch02/image170.png) <div style=\"text-align: right\">【p02.120】</div>"
   ]
  },
  {
   "cell_type": "code",
   "execution_count": null,
   "metadata": {},
   "outputs": [],
   "source": []
  },
  {
   "cell_type": "markdown",
   "metadata": {},
   "source": [
    "## Chebyshev’s Theorem\n",
    "\n",
    " \n",
    "The `probability` that any random variable X \n",
    "\n",
    "will assume a value within $k$ standard deviations (σ) of the mean (μ) \n",
    "\n",
    "is `at least` \n",
    "$\\left(1 − \\frac{1}{k^2}\\right)$. \n",
    "\n",
    "That is,\n",
    "\n",
    "$\n",
    "P \\left{μ − kσ < X < μ+ kσ \\right} ≥ \\left(1 − \\frac{1}{k^2}\\right)\n",
    "$."
   ]
  },
  {
   "cell_type": "markdown",
   "metadata": {},
   "source": [
    "## Example b4.27: \n",
    "\n",
    "A random variable X has a mean μ = 8, a variance $σ^2$ = 9, \n",
    "and an unknown probability distribution. \n",
    "\n",
    "Find\n",
    "- (a) P(−4 < X < 20),\n",
    "- (b) P(|X − 8| ≥ 6)."
   ]
  },
  {
   "cell_type": "markdown",
   "metadata": {},
   "source": [
    "Solution : \n",
    "\n",
    "(a) \n",
    "P(−4 < X < 20) \n",
    "= P[8 − (4)(3) < X < 8 + (4)(3)] \n",
    "≥ 15/16 .\n",
    "\n",
    "(b) \n",
    "P(|X − 8| ≥ 6) \n",
    "= 1 − P(|X − 8| < 6) \n",
    "= 1 − P(−6 < X − 8 < 6)\n",
    "= 1− P[8 − (2)(3) < X < 8 + (2)(3)] ≤ 1/4 ."
   ]
  },
  {
   "cell_type": "markdown",
   "metadata": {},
   "source": []
  },
  {
   "cell_type": "markdown",
   "metadata": {},
   "source": [
    "## Review Exers:"
   ]
  },
  {
   "cell_type": "markdown",
   "metadata": {},
   "source": [
    "### b3.73 , s2.113\n",
    "\n",
    "Impurities in a batch of final product of a chemical\n",
    "process often reflect a serious problem. From considerable\n",
    "plant data gathered, it is known that the proportion\n",
    "Y of impurities in a batch has a density function\n",
    "given by\n",
    "\n",
    "$\n",
    "f(y) =\n",
    "\\begin{cases}\n",
    "10 (1 − y)^9, & 0 ≤ y ≤ 1,\\\\\n",
    "0, &elsewhere.\n",
    "\\end{cases}\n",
    "$\n",
    "\n",
    "- (a) Verify that the above is a valid density function.\n",
    "- (b) A batch is considered not sellable and then not acceptable if the percentage of impurities exceeds 60%. With the current quality of the process, what is the percentage of batches that are not acceptable?"
   ]
  },
  {
   "cell_type": "code",
   "execution_count": 92,
   "metadata": {},
   "outputs": [
    {
     "data": {
      "text/plain": [
       "True"
      ]
     },
     "execution_count": 92,
     "metadata": {},
     "output_type": "execute_result"
    }
   ],
   "source": [
    "import sympy as sp\n",
    "y= sp.symbols('y')\n",
    "f= 10*(1-y)**9 # 0≤𝑦≤1,\n",
    "\n",
    "#(a)\n",
    "sp.integrate(f, (y,0,1)) == 1"
   ]
  },
  {
   "cell_type": "code",
   "execution_count": 93,
   "metadata": {},
   "outputs": [
    {
     "data": {
      "text/latex": [
       "$\\displaystyle 0.000104857600010888$"
      ],
      "text/plain": [
       "0.000104857600010888"
      ]
     },
     "execution_count": 93,
     "metadata": {},
     "output_type": "execute_result"
    }
   ],
   "source": [
    "#(b)\n",
    "# P(Y>.60) = ?\n",
    "sp.integrate(f,(y,.60, 1.00))"
   ]
  },
  {
   "cell_type": "markdown",
   "metadata": {},
   "source": [
    "### b4.101 , s2.134\n",
    "\n",
    "Consider Review Exercise b3.73 on page b.108. It\n",
    "involved Y , the proportion of impurities in a batch,\n",
    "and the density function is given by\n",
    "\n",
    "$\n",
    "f(y) =\n",
    "\\begin{cases}\n",
    "10 (1 − y)^9, & 0 ≤ y ≤ 1,\\\\\n",
    "0, &elsewhere.\n",
    "\\end{cases}\n",
    "$\n",
    "\n",
    "- (c) Find the expected percentage of impurities.\n",
    "- (d) Find the expected value of the proportion of quality material (i.e., find E(1 − Y ))."
   ]
  },
  {
   "cell_type": "code",
   "execution_count": 96,
   "metadata": {},
   "outputs": [
    {
     "data": {
      "text/latex": [
       "$\\displaystyle \\frac{1}{11}$"
      ],
      "text/plain": [
       "1/11"
      ]
     },
     "execution_count": 96,
     "metadata": {},
     "output_type": "execute_result"
    }
   ],
   "source": [
    "import sympy as sp\n",
    "y= sp.symbols('y')\n",
    "f= 10*(1-y)**9 # 0≤𝑦≤1,\n",
    "\n",
    "#(c) E{Y} = ?\n",
    "μY= sp.integrate(y*f, (y,0,1))\n",
    "μY"
   ]
  },
  {
   "cell_type": "code",
   "execution_count": 97,
   "metadata": {},
   "outputs": [
    {
     "data": {
      "text/latex": [
       "$\\displaystyle \\frac{10}{11}$"
      ],
      "text/plain": [
       "10/11"
      ]
     },
     "execution_count": 97,
     "metadata": {},
     "output_type": "execute_result"
    }
   ],
   "source": [
    "#(d) E{1-Y} = ?\n",
    "μ_1mY= sp.integrate((1-y)*f, (y,0,1))\n",
    "μ_1mY"
   ]
  },
  {
   "cell_type": "code",
   "execution_count": 100,
   "metadata": {},
   "outputs": [
    {
     "data": {
      "text/latex": [
       "$\\displaystyle \\frac{\\sqrt{30}}{66}$"
      ],
      "text/plain": [
       "sqrt(30)/66"
      ]
     },
     "execution_count": 100,
     "metadata": {},
     "output_type": "execute_result"
    }
   ],
   "source": [
    "#(e) σY= ?\n",
    "\n",
    "vY= sp.integrate((y-μY)**2 *f, (y,0,1))\n",
    "σY= sp.sqrt(vY)\n",
    "σY"
   ]
  },
  {
   "cell_type": "code",
   "execution_count": 101,
   "metadata": {},
   "outputs": [
    {
     "data": {
      "text/latex": [
       "$\\displaystyle \\frac{\\sqrt{30}}{66}$"
      ],
      "text/plain": [
       "sqrt(30)/66"
      ]
     },
     "execution_count": 101,
     "metadata": {},
     "output_type": "execute_result"
    }
   ],
   "source": [
    "#(e) σY= ?\n",
    "\n",
    "E_YY= sp.integrate(y**2 *f, (y,0,1))\n",
    "vY= E_YY- μY**2\n",
    "σY= sp.sqrt(vY)\n",
    "σY"
   ]
  },
  {
   "cell_type": "code",
   "execution_count": null,
   "metadata": {},
   "outputs": [],
   "source": [
    "#(f) σ_1mY= ?"
   ]
  },
  {
   "cell_type": "code",
   "execution_count": null,
   "metadata": {},
   "outputs": [],
   "source": []
  },
  {
   "cell_type": "markdown",
   "metadata": {},
   "source": [
    "### Exer b4.98 \n",
    "\n",
    "A convenience store has two separate locations where customers can be checked out as they leave.\n",
    "\n",
    "These locations each have two cash registers and two employees who check out customers. \n",
    "\n",
    "Let X be the number of cash registers being used at a particular time for location 1 and Y the number being used at the same time for location 2. \n",
    "\n",
    "The joint probability function is given by\n",
    "\n",
    "y=|0|1|2\n",
    "---|---|---|---\n",
    "x | | |\n",
    "0 |0.12 |0.04 |0.04\n",
    "1 |0.08 |0.19 |0.05\n",
    "2 |0.06 |0.12 |0.30\n",
    "\n",
    "- (a) `marginal density` of X \n",
    "- (b) `marginal density` of Y \n",
    "- (c) `marginal density` of X given Y = 2\n",
    "- (d) E(X)\n",
    "- (e) Var(X)\n",
    "- (f) E(X | Y = 2)\n",
    "- (g) Var(X | Y = 2)."
   ]
  },
  {
   "cell_type": "code",
   "execution_count": 118,
   "metadata": {},
   "outputs": [],
   "source": [
    "import numpy as np\n",
    "import sympy as sp\n",
    "\n",
    "f_XY= np.array(\n",
    "    [[.12, .04, .04],\n",
    "     [.08, .19, .05],\n",
    "     [.06, .12, .30]]\n",
    ")"
   ]
  },
  {
   "cell_type": "code",
   "execution_count": 119,
   "metadata": {},
   "outputs": [
    {
     "data": {
      "text/plain": [
       "array([0.2 , 0.32, 0.48])"
      ]
     },
     "execution_count": 119,
     "metadata": {},
     "output_type": "execute_result"
    }
   ],
   "source": [
    "#(a) f_X\n",
    "\n",
    "f_X= f_XY.sum(axis=1)\n",
    "f_X"
   ]
  },
  {
   "cell_type": "code",
   "execution_count": 120,
   "metadata": {},
   "outputs": [
    {
     "data": {
      "text/plain": [
       "array([0.26, 0.35, 0.39])"
      ]
     },
     "execution_count": 120,
     "metadata": {},
     "output_type": "execute_result"
    }
   ],
   "source": [
    "#(b) f_Y\n",
    "f_Y= f_XY.sum(axis=0)\n",
    "f_Y"
   ]
  },
  {
   "cell_type": "code",
   "execution_count": 122,
   "metadata": {},
   "outputs": [
    {
     "data": {
      "text/plain": [
       "array([[0.46153846, 0.11428571, 0.1025641 ],\n",
       "       [0.30769231, 0.54285714, 0.12820513],\n",
       "       [0.23076923, 0.34285714, 0.76923077]])"
      ]
     },
     "execution_count": 122,
     "metadata": {},
     "output_type": "execute_result"
    }
   ],
   "source": [
    "#(c) f_X|Y=2\n",
    "f_XgY= f_XY/f_Y\n",
    "f_XgY"
   ]
  },
  {
   "cell_type": "code",
   "execution_count": 123,
   "metadata": {},
   "outputs": [
    {
     "data": {
      "text/plain": [
       "array([0.1025641 , 0.12820513, 0.76923077])"
      ]
     },
     "execution_count": 123,
     "metadata": {},
     "output_type": "execute_result"
    }
   ],
   "source": [
    "f_XgY2= f_XgY[:,2]\n",
    "f_XgY2"
   ]
  },
  {
   "cell_type": "code",
   "execution_count": 124,
   "metadata": {},
   "outputs": [
    {
     "data": {
      "text/plain": [
       "array([[0.1025641 ],\n",
       "       [0.12820513],\n",
       "       [0.76923077]])"
      ]
     },
     "execution_count": 124,
     "metadata": {},
     "output_type": "execute_result"
    }
   ],
   "source": [
    "f_XgY2.reshape(-1,1) # column vector"
   ]
  },
  {
   "cell_type": "code",
   "execution_count": 125,
   "metadata": {},
   "outputs": [
    {
     "data": {
      "text/plain": [
       "1.28"
      ]
     },
     "execution_count": 125,
     "metadata": {},
     "output_type": "execute_result"
    }
   ],
   "source": [
    "#(d) E(X)\n",
    "x= np.array([0,1,2])\n",
    "E_X= (x*f_X).sum()\n",
    "E_X"
   ]
  },
  {
   "cell_type": "code",
   "execution_count": 126,
   "metadata": {},
   "outputs": [
    {
     "data": {
      "text/plain": [
       "0.6016"
      ]
     },
     "execution_count": 126,
     "metadata": {},
     "output_type": "execute_result"
    }
   ],
   "source": [
    "#(e) Var(X)\n",
    "V_X= ((x-E_X)**2 * f_X).sum()\n",
    "V_X"
   ]
  },
  {
   "cell_type": "code",
   "execution_count": 127,
   "metadata": {},
   "outputs": [
    {
     "data": {
      "text/plain": [
       "1.6666666666666665"
      ]
     },
     "execution_count": 127,
     "metadata": {},
     "output_type": "execute_result"
    }
   ],
   "source": [
    "#(f)\n",
    "E_XgY2= (x*f_XgY2).sum()\n",
    "E_XgY2"
   ]
  },
  {
   "cell_type": "code",
   "execution_count": 128,
   "metadata": {},
   "outputs": [
    {
     "data": {
      "text/plain": [
       "0.4273504273504274"
      ]
     },
     "execution_count": 128,
     "metadata": {},
     "output_type": "execute_result"
    }
   ],
   "source": [
    "V_XgY2= ((x-E_XgY2)**2 *f_XgY2).sum()\n",
    "V_XgY2"
   ]
  },
  {
   "cell_type": "code",
   "execution_count": null,
   "metadata": {},
   "outputs": [],
   "source": []
  }
 ],
 "metadata": {
  "kernelspec": {
   "display_name": "Python 3",
   "language": "python",
   "name": "python3"
  },
  "language_info": {
   "codemirror_mode": {
    "name": "ipython",
    "version": 3
   },
   "file_extension": ".py",
   "mimetype": "text/x-python",
   "name": "python",
   "nbconvert_exporter": "python",
   "pygments_lexer": "ipython3",
   "version": "3.7.4"
  },
  "latex_envs": {
   "LaTeX_envs_menu_present": true,
   "autoclose": false,
   "autocomplete": true,
   "bibliofile": "biblio.bib",
   "cite_by": "apalike",
   "current_citInitial": 1,
   "eqLabelWithNumbers": true,
   "eqNumInitial": 1,
   "hotkeys": {
    "equation": "Ctrl-E",
    "itemize": "Ctrl-I"
   },
   "labels_anchors": false,
   "latex_user_defs": false,
   "report_style_numbering": false,
   "user_envs_cfg": false
  },
  "nbTranslate": {
   "displayLangs": [
    "zh-TW",
    "en"
   ],
   "hotkey": "alt-t",
   "langInMainMenu": true,
   "sourceLang": "en",
   "targetLang": "zh-TW",
   "useGoogleTranslate": true
  },
  "toc": {
   "base_numbering": "0",
   "nav_menu": {
    "height": "509px",
    "width": "786px"
   },
   "number_sections": true,
   "sideBar": true,
   "skip_h1_title": true,
   "title_cell": "Table of Contents",
   "title_sidebar": "Contents",
   "toc_cell": false,
   "toc_position": {
    "height": "calc(100% - 180px)",
    "left": "10px",
    "top": "150px",
    "width": "165px"
   },
   "toc_section_display": true,
   "toc_window_display": false
  },
  "varInspector": {
   "cols": {
    "lenName": 16,
    "lenType": 16,
    "lenVar": 40
   },
   "kernels_config": {
    "python": {
     "delete_cmd_postfix": "",
     "delete_cmd_prefix": "del ",
     "library": "var_list.py",
     "varRefreshCmd": "print(var_dic_list())"
    },
    "r": {
     "delete_cmd_postfix": ") ",
     "delete_cmd_prefix": "rm(",
     "library": "var_list.r",
     "varRefreshCmd": "cat(var_dic_list()) "
    }
   },
   "types_to_exclude": [
    "module",
    "function",
    "builtin_function_or_method",
    "instance",
    "_Feature"
   ],
   "window_display": false
  }
 },
 "nbformat": 4,
 "nbformat_minor": 2
}
