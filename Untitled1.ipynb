{
 "cells": [
  {
   "cell_type": "markdown",
   "metadata": {
    "lang": "en"
   },
   "source": [
    "## [1](ry2.103) \n",
    "\n",
    "A truth serum has the property that 90% of the guilty suspects are properly judged while, of course, 10% of the guilty suspects are improperly found innocent. \n",
    "\n",
    "On the other hand, innocent suspects are misjudged 1% of the time. \n",
    "\n",
    "If the suspect was selected from a group of suspects of which only 5% have ever committed a crime, and the serum indicates that he is guilty, what is the probability that he is innocent?\n",
    "\n",
    "## [2](ry2.118) \n",
    "\n",
    "A certain form of cancer is known to be found in women over 60 with probability 0.07. \n",
    "\n",
    "A blood test exists for the detection of the disease, but the test is not infallible. \n",
    "\n",
    "In fact, it is known that 10% of the time the test gives a false negative (i.e., the test incorrectly gives a negative result) and 5% of the time the test gives a false positive (i.e., incorrectly gives a positive result). \n",
    "\n",
    "If a woman over 60 is known to have taken the test and received a favorable (i.e., negative) result, what is the probability that she has the disease?\n",
    "\n",
    "## [3](ry02.126 )\n",
    "\n",
    "During bad economic times, industrial workers are dismissed and are often replaced by machines. The history of 100 workers whose loss of employment is attributable to technological advances is reviewed. \n",
    "\n",
    "For each of these individuals, it is determined if he or she was given an alternative job in a new field within the same company, found a job in the same field in a new company, found a job in a new field in a new company, or has been unemployed (losing jobs) for 1 year. \n",
    "\n",
    "In addition, whether a worker is a member of the Union or not is called the `Union/Non-union` status of each worker. Such information is also recorded. \n",
    "\n",
    "The following table summarizes the results.\n",
    "\n",
    ".. | Union | Non-union\n",
    "-- |----|----\n",
    "Same Company  (new  field) | 10  | 05\n",
    "New  Company  (same field) | 10  | 10\n",
    "New  Company  (new  field) | 20  | 10\n",
    "Unemployed (losing jobs)   | 20  | 15\n",
    "\n",
    "(a) What is the probability that a worker could lose jobs during this bad economic time?\n",
    "\n",
    "(b) If the selected worker found a job with a new company, what is the probability that the worker is a Union member?\n",
    "\n",
    "(c) If the worker is a Union member, what is the probability that the worker found a job in a new company?\n",
    "\n",
    "(d) If the worker is not a Union member, what is the probability that the worker has been unemployed (losing jobs)?\n",
    "\n",
    "(e) Do you think that becoming a Union member will help lower down the probability of losing jobs? why?"
   ]
  },
  {
   "cell_type": "markdown",
   "metadata": {
    "lang": "zh-TW"
   },
   "source": [
    "## [1]（ry2.103）\n",
    "\n",
    "真相血清具有以下特性：可以對90％的有罪嫌疑人進行正確判斷，而當然，有10％的有罪嫌疑人會被不當地視為無辜。\n",
    "\n",
    "另一方面，無辜的嫌疑人被誤判的可能性為1％。\n",
    "\n",
    "如果從只有5％的犯罪嫌疑人中選擇犯罪嫌疑人，並且血清表明他有罪，那麼他無辜的可能性是多少？\n",
    "\n",
    "## [2]（ry2.118）\n",
    "\n",
    "已知在60歲以上的女性中發現某種癌症的可能性為0.07。\n",
    "\n",
    "存在血液檢測以檢測疾病，但檢測並非萬無一失。\n",
    "\n",
    "實際上，已知測試有10％的時間給出假陰性（即測試不正確地給出陰性結果）和5％的時間有測試給出假陽性（即不正確地給出陽性結果） 。\n",
    "\n",
    "如果已知一名60歲以上的婦女接受了檢查並獲得了良好的結果（即陰性），那麼她患病的可能性是多少？\n",
    "\n",
    "## [3]（ry02.126）\n",
    "\n",
    "在經濟困難時期，工業工人被解僱，並經常被機器代替。回顧了200名因技術進步而失業的工人的歷史。\n",
    "\n",
    "對於這些人中的每一個，確定他或她是否在同一公司的新領域中找到了替代工作，是否在新公司的同一領域中找到了工作，在新公司的新領域中找到了工作。 ，或已經失業（失業）一年。\n",
    "\n",
    "另外，工人是否是工會會員被稱為每個工人的“工會/非工會”狀態。此類信息也會被記錄。\n",
    "\n",
    "下表總結了結果。\n",
    "\n",
    ".. | Union | Non-union\n",
    "-- |----|----\n",
    "Same Company  (new  field) | 40  | 10\n",
    "New  Company  (same field) | 30  | 20\n",
    "New  Company  (new  field) | 20  | 40\n",
    "Unemployed (losing jobs)   | 10  | 30\n",
    "\n",
    "（a）在這段經濟不景氣的時期，工人失業的可能性是多少？\n",
    "\n",
    "（b）如果選定的工人找到了新公司的工作，該工人是工會會員的概率是多少？\n",
    "\n",
    "（c）如果該工人是工會會員，該工人在新公司找到工作的概率是多少？\n",
    "\n",
    "（d）如果該工人不是工會會員，該工人失業（失業）的概率是多少？\n",
    "\n",
    "（e）您認為成為工會會員將有助於降低失業的可能性嗎？為什麼？"
   ]
  }
 ],
 "metadata": {
  "kernelspec": {
   "display_name": "Python 3",
   "language": "python",
   "name": "python3"
  },
  "language_info": {
   "codemirror_mode": {
    "name": "ipython",
    "version": 3
   },
   "file_extension": ".py",
   "mimetype": "text/x-python",
   "name": "python",
   "nbconvert_exporter": "python",
   "pygments_lexer": "ipython3",
   "version": "3.7.4"
  },
  "latex_envs": {
   "LaTeX_envs_menu_present": true,
   "autoclose": false,
   "autocomplete": true,
   "bibliofile": "biblio.bib",
   "cite_by": "apalike",
   "current_citInitial": 1,
   "eqLabelWithNumbers": true,
   "eqNumInitial": 1,
   "hotkeys": {
    "equation": "Ctrl-E",
    "itemize": "Ctrl-I"
   },
   "labels_anchors": false,
   "latex_user_defs": false,
   "report_style_numbering": false,
   "user_envs_cfg": false
  },
  "nbTranslate": {
   "displayLangs": [
    "zh-TW",
    "en"
   ],
   "hotkey": "alt-t",
   "langInMainMenu": true,
   "sourceLang": "en",
   "targetLang": "zh-TW",
   "useGoogleTranslate": true
  },
  "toc": {
   "base_numbering": 1,
   "nav_menu": {},
   "number_sections": true,
   "sideBar": true,
   "skip_h1_title": false,
   "title_cell": "Table of Contents",
   "title_sidebar": "Contents",
   "toc_cell": false,
   "toc_position": {},
   "toc_section_display": true,
   "toc_window_display": false
  },
  "varInspector": {
   "cols": {
    "lenName": 16,
    "lenType": 16,
    "lenVar": 40
   },
   "kernels_config": {
    "python": {
     "delete_cmd_postfix": "",
     "delete_cmd_prefix": "del ",
     "library": "var_list.py",
     "varRefreshCmd": "print(var_dic_list())"
    },
    "r": {
     "delete_cmd_postfix": ") ",
     "delete_cmd_prefix": "rm(",
     "library": "var_list.r",
     "varRefreshCmd": "cat(var_dic_list()) "
    }
   },
   "types_to_exclude": [
    "module",
    "function",
    "builtin_function_or_method",
    "instance",
    "_Feature"
   ],
   "window_display": false
  }
 },
 "nbformat": 4,
 "nbformat_minor": 2
}
