{
 "cells": [
  {
   "cell_type": "markdown",
   "metadata": {},
   "source": [
    "Table of Contents ...\n",
    "[Local](./index.ipynb),\n",
    "[Github](https://github.com/renyuanL/_ryProb2020/blob/master/index.ipynb),\n",
    "[Colab](https://colab.research.google.com/github/renyuanL/_ryProb2020/blob/master/index.ipynb).\n",
    "\n",
    "Current Chapter ...\n",
    "[Local](./probCh01_2.ipynb),\n",
    "[Github](https://github.com/renyuanL/_ryProb2020/blob/master/probCh01_2.ipynb),\n",
    "[Colab](https://colab.research.google.com/github/renyuanL/_ryProb2020/blob/master/probCh01_2.ipynb).\n",
    "\n",
    "----\n"
   ]
  },
  {
   "cell_type": "markdown",
   "metadata": {
    "solution": "hidden"
   },
   "source": [
    "# 1. Introduction to [Statistics](https://en.wikipedia.org/wiki/Statistics) and [Probability](https://en.wikipedia.org/wiki/Probability)"
   ]
  },
  {
   "cell_type": "markdown",
   "metadata": {
    "lang": "en"
   },
   "source": [
    "   * 1.6 Probability of an Event\n",
    "   * 1.7 Additive Rules\n",
    "       *             Exercises\n",
    "   * 1.8 Conditional Probability, Independence, and the Product Rule\n",
    "       *             Exercises\n",
    "   * 1.9 Bayes' Rule\n",
    "       *             Exercises\n",
    "   *             Review Exercises"
   ]
  },
  {
   "cell_type": "markdown",
   "metadata": {},
   "source": []
  },
  {
   "cell_type": "markdown",
   "metadata": {},
   "source": [
    "## 1.6 Probability of an Event"
   ]
  },
  {
   "cell_type": "markdown",
   "metadata": {},
   "source": [
    "### Def 01.08\n",
    "![](media/Ch01/image59.png) <div style=\"text-align: right\">【p01.045】</div>"
   ]
  },
  {
   "cell_type": "markdown",
   "metadata": {},
   "source": [
    "### Def 01.09\n",
    "![](media/Ch01/image62.png) <div style=\"text-align: right\">【p01.048】</div>\n",
    "\n",
    "【同等發生機會】 (Equally Likely) 這個關鍵詞 很重要！！"
   ]
  },
  {
   "cell_type": "markdown",
   "metadata": {},
   "source": []
  },
  {
   "cell_type": "markdown",
   "metadata": {},
   "source": [
    "## 1.8 Conditional Probability, Independence, and the Product Rule \n",
    "條件機率、獨立性、乘法規則。\n"
   ]
  },
  {
   "cell_type": "markdown",
   "metadata": {},
   "source": [
    "### Def 01.10\n",
    "![](media/Ch01/image88.png) <div style=\"text-align: right\">【p01.064】</div>\n",
    "\n",
    "![image.png](fg/fg_def01.10.png)\n",
    "![image.png](fg/fg_def01.10_1.png)\n"
   ]
  },
  {
   "cell_type": "markdown",
   "metadata": {},
   "source": [
    "### Def 01.11\n",
    "![](media/Ch01/image94.png) <div style=\"text-align: right\">【p01.068】</div>"
   ]
  },
  {
   "cell_type": "markdown",
   "metadata": {},
   "source": [
    "### Def 01.12\n",
    "![](media/Ch01/image106.png) <div style=\"text-align: right\">【p01.077】</div>"
   ]
  },
  {
   "cell_type": "markdown",
   "metadata": {},
   "source": [
    "----"
   ]
  },
  {
   "cell_type": "markdown",
   "metadata": {},
   "source": []
  },
  {
   "cell_type": "markdown",
   "metadata": {},
   "source": [
    "### Thm 01.07\n",
    "![](media/Ch01/image69.png) <div style=\"text-align: right\">【p01.050】</div>\n",
    "\n",
    "![](fg/fg_thm01.07.png)"
   ]
  },
  {
   "cell_type": "markdown",
   "metadata": {},
   "source": [
    "### Thm 01.08\n",
    "![](media/Ch01/image74.png) <div style=\"text-align: right\">【p01.055】</div>\n",
    "\n",
    "### [Inclusion–exclusion principle](https://en.wikipedia.org/wiki/Inclusion%E2%80%93exclusion_principle)\n",
    "\n",
    "[包容-排斥 原理](https://zh.wikipedia.org/wiki/%E6%8E%92%E5%AE%B9%E5%8E%9F%E7%90%86)\n",
    "\n",
    "\n",
    "![](https://upload.wikimedia.org/wikipedia/commons/thumb/4/42/Inclusion-exclusion.svg/220px-Inclusion-exclusion.svg.png)\n",
    "\n",
    "\n",
    "In its general form, the principle of inclusion–exclusion states that \n",
    "for finite sets A1, ..., An, one has the identity\n",
    "\n",
    "$ \n",
    "\\left|\\bigcup _{i=1}^{n}A_{i}\\right|\\\\\n",
    "=\\sum _{i=1}^{n}|A_{i}| \\\\\n",
    "-\\sum _{1\\leqslant i<j\\leqslant n}|A_{i}\\cap A_{j}|\\\\\n",
    "+\\sum _{1\\leqslant i<j<k\\leqslant n}|A_{i}\\cap A_{j}\\cap A_{k}|\\\\\n",
    "- \\cdots + \\cdots \\\\\n",
    "+(-1)^{n-1}\\left|A_{1}\\cap \\cdots \\cap A_{n}\\right|.\n",
    "$\n"
   ]
  },
  {
   "cell_type": "markdown",
   "metadata": {},
   "source": [
    "### Thm 01.09\n",
    "![](media/Ch01/image81.png) <div style=\"text-align: right\">【p01.059】</div>"
   ]
  },
  {
   "cell_type": "markdown",
   "metadata": {},
   "source": [
    "### Thm 01.10\n",
    "![](media/Ch01/image98.png) <div style=\"text-align: right\">【p01.069】</div>"
   ]
  },
  {
   "cell_type": "markdown",
   "metadata": {},
   "source": [
    "### Thm 01.11\n",
    "![](media/Ch01/image100.png) <div style=\"text-align: right\">【p01.071】</div>"
   ]
  },
  {
   "cell_type": "markdown",
   "metadata": {},
   "source": [
    "### Thm 01.12\n",
    "![](media/Ch01/image105.png) <div style=\"text-align: right\">【p01.076】</div>"
   ]
  },
  {
   "cell_type": "markdown",
   "metadata": {},
   "source": []
  },
  {
   "cell_type": "markdown",
   "metadata": {
    "heading_collapsed": true
   },
   "source": [
    "## 1.9 Bayes' Rule"
   ]
  },
  {
   "cell_type": "markdown",
   "metadata": {
    "hidden": true
   },
   "source": [
    "### Thm 01.13\n",
    "![](media/Ch01/image110.png) <div style=\"text-align: right\">【p01.079】</div>\n",
    "\n",
    "### Thm 01.14\n",
    "![](media/Ch01/image117.png) <div style=\"text-align: right\">【p01.084】</div>\n",
    "![](media/Ch01/image118.png) <div style=\"text-align: right\">【p01.085】</div>\n",
    "\n",
    "\n",
    "----"
   ]
  },
  {
   "cell_type": "markdown",
   "metadata": {
    "hidden": true
   },
   "source": []
  },
  {
   "cell_type": "markdown",
   "metadata": {
    "hidden": true
   },
   "source": []
  },
  {
   "cell_type": "markdown",
   "metadata": {},
   "source": [
    "## Cols 01.xx"
   ]
  },
  {
   "cell_type": "markdown",
   "metadata": {},
   "source": [
    "### Col 01.01\n",
    "![](media/Ch01/image71.png) <div style=\"text-align: right\">【p01.052】</div>\n",
    "\n",
    "### Col 01.02\n",
    "![](media/Ch01/image72.png) <div style=\"text-align: right\">【p01.053】</div>\n",
    "\n",
    "### Col 01.03\n",
    "![](media/Ch01/image73.png) <div style=\"text-align: right\">【p01.054】</div>\n",
    "\n",
    "----"
   ]
  },
  {
   "cell_type": "markdown",
   "metadata": {},
   "source": [
    "\n"
   ]
  },
  {
   "cell_type": "markdown",
   "metadata": {},
   "source": [
    "## Exers 01.xx\n",
    "\n",
    "\n",
    "### Exercises:\n",
    "\n",
    "\n",
    "- 數學的學習過程中，做習題是非常重要的，不可或缺的過程，課本中，所有章節或段落都有許多習題，各位同學盡量多做，最低限度，每個段落的的習題至少都做3題以上。\n",
    "- \n",
    "- 請優先練習 第1題、最後1題以及題號為中位數(首尾題號相加除以2)的題目\n",
    "- \n",
    "- 以本節為例，優先選擇 \n",
    "- \n",
    "    - 01.01, (首題) \n",
    "    - 01.16, (尾題) \n",
    "    - 01.08. (中間題)\n",
    "\n",
    "----"
   ]
  },
  {
   "cell_type": "markdown",
   "metadata": {},
   "source": [
    "### Exer01.01\n",
    "(2.1)\n",
    "\n",
    "List the elements of each of the following sample\n",
    "spaces:\n",
    "\n",
    "(a) the set of integers between 1 and 50 divisible by 8;\n",
    "\n",
    "(b) the set $ S = \\{x | x^2 + 4x − 5 = 0\\} $\n",
    "\n",
    "(c) the set of outcomes when a coin is tossed until a\n",
    "tail or three heads appear;\n",
    "\n",
    "(d) the set S = {x | x is a continent};\n",
    "\n",
    "(e) the set S = {x | 2x − 4 ≥ 0 and x < 1}."
   ]
  },
  {
   "cell_type": "markdown",
   "metadata": {},
   "source": [
    "### Exer01.16\n",
    "(2.20) \n",
    "\n",
    "Referring to Exercise 2.19 and the Venn diagram\n",
    "of Figure 2.5, list the numbers of the regions that represent\n",
    "the following events:\n",
    "\n",
    "(a) The family will experience no mechanical problems\n",
    "and will not receive a ticket for a traffic violation\n",
    "but will arrive at a campsite with no vacancies.\n",
    "\n",
    "(b) The family will experience both mechanical problems\n",
    "and trouble in locating a campsite with a vacancy\n",
    "but will not receive a ticket for a traffic violation.\n",
    "\n",
    "(c) The family will either have mechanical trouble or\n",
    "arrive at a campsite with no vacancies but will not\n",
    "receive a ticket for a traffic violation.\n",
    "\n",
    "(d) The family will not arrive at a campsite with no\n",
    "vacancies.\n",
    "\n",
    "----\n",
    "\n",
    "2.19 \n",
    "\n",
    "Suppose that a family is leaving on a summer\n",
    "vacation in their camper and that M is the event that\n",
    "they will experience mechanical problems, T is the\n",
    "event that they will receive a ticket for committing a\n",
    "traffic violation, and V is the event that they will arrive\n",
    "at a campsite with no vacancies. Referring to the\n",
    "Venn diagram of Figure 2.5, state in words the events\n",
    "represented by the following regions:\n",
    "\n",
    "(a) region 5;\n",
    "\n",
    "(b) region 3;\n",
    "\n",
    "(c) regions 1 and 2 together;\n",
    "\n",
    "(d) regions 4 and 7 together;\n",
    "\n",
    "(e) regions 3, 6, 7, and 8 together.\n",
    "\n",
    "----\n",
    "\n",
    "![image.png](fg/fgExer01.16.png)\n"
   ]
  },
  {
   "cell_type": "markdown",
   "metadata": {},
   "source": [
    "#### Exer01.08\n",
    "(2.10) \n",
    "\n",
    "An engineering firm is hired to determine if certain\n",
    "waterways in Virginia are safe for fishing. Samples\n",
    "are taken from three rivers.\n",
    "\n",
    "(a) List the elements of a sample space S, using the\n",
    "letters F for safe to fish and N for not safe to fish.\n",
    "\n",
    "(b) List the elements of S corresponding to event E\n",
    "that at least two of the rivers are safe for fishing.\n",
    "\n",
    "(c) Define an event that has as its elements the points\n",
    "{FFF,NFF,FFN,NFN}."
   ]
  },
  {
   "cell_type": "code",
   "execution_count": null,
   "metadata": {},
   "outputs": [],
   "source": []
  },
  {
   "cell_type": "markdown",
   "metadata": {},
   "source": [
    "## Exercises\n",
    "每小節的\n",
    "(首題)\n",
    "(尾題)\n",
    "(中題)\n"
   ]
  },
  {
   "cell_type": "markdown",
   "metadata": {
    "solution": "hidden"
   },
   "source": [
    "### Exercise s01.80, (b02.103)\n",
    "\n",
    "2.103 \n",
    "\n",
    "A truth serum has the property that 90% of the guilty suspects are properly judged \n",
    "while, of course, 10% of the guilty suspects are improperly found innocent. \n",
    "\n",
    "On the other hand, innocent suspects are misjudged 1% of the time. \n",
    "\n",
    "If the suspect was selected from a group of suspects of which only 5% have ever committed a crime, \n",
    "and the serum indicates that he is guilty, what is the probability that he is innocent?\n",
    "\n",
    "----\n",
    "\n",
    "真相血清具有以下特性：\n",
    "\n",
    "可以對 90％ 的犯罪者進行正確判斷其為有罪，\n",
    "然而，有 10％ 的犯罪者會被錯誤地視為無罪。\n",
    "\n",
    "另一方面，無辜的嫌疑人被誤判為有罪的可能性為1％。 \n",
    "\n",
    "如果一群人中只有 5％ 的人會犯罪，從中找到了犯罪嫌疑人，並且真相血清測試表明他有罪，那麼他被冤枉(亦即他沒犯罪)的可能性(機率)是多少？"
   ]
  },
  {
   "cell_type": "markdown",
   "metadata": {
    "solution": "hidden"
   },
   "source": [
    "[rySol: s01.80]\n",
    "\n",
    "![](fg/exS01.80.png)"
   ]
  },
  {
   "cell_type": "markdown",
   "metadata": {
    "solution": "hidden"
   },
   "source": [
    "### Exercise s01.97, (b02.126)\n",
    "\n",
    "2.126 \n",
    "\n",
    "During bad economic times, industrial workers are dismissed and are often replaced by machines. \n",
    "\n",
    "The history of 100 workers whose loss of employment is attributable to technological advances is reviewed. \n",
    "\n",
    "For each of these individuals, \n",
    "it is determined if he or she \n",
    "- was given an alternative job within the same company, \n",
    "- found a job with another company in the same field, \n",
    "- found a job in a new field, \n",
    "- has been unemployed for 1 year. \n",
    "\n",
    "In addition, the `union status` of each worker is recorded. The following table summarizes the results.\n",
    "\n",
    "... |Union |Nonunion\n",
    "--- |---   |---\n",
    "Same Company (new  Field)  | 40    |15\n",
    "New  Company (same Field)  | 13    |10\n",
    "New  Company (new  Field)  | 04    |11\n",
    "Unemployed   (for 1 year)  | 02    |05\n",
    "\n",
    "\n",
    "\n",
    "(a) If the selected worker found a job with a new company\n",
    "in the same field, what is the probability that\n",
    "the worker is a union member?\n",
    "\n",
    "(b) If the worker is a union member, what is the probability\n",
    "that the worker has been unemployed for a\n",
    "year?\n",
    "\n",
    "----\n",
    "\n",
    "(a) 如果選定的工人在同一領域找到了一家新公司的工作，那麼該工人成為工會會員的機率是多少？\n",
    "\n",
    "(b) 如果工人是工會會員，那麼該工人失業一年的機率是多少？\n",
    "\n",
    "----\n"
   ]
  },
  {
   "cell_type": "markdown",
   "metadata": {
    "solution": "hidden"
   },
   "source": [
    "[rySol]\n",
    "![](fg/exS01.97.png)"
   ]
  },
  {
   "cell_type": "markdown",
   "metadata": {
    "solution": "hidden"
   },
   "source": [
    "### Exercise s01.88, (b02.115)\n",
    "\n",
    "2.115 \n",
    "\n",
    "A certain federal agency employs three consulting firms (A, B, and C) with probabilities 0.40, 0.35, and 0.25, respectively. \n",
    "\n",
    "From past experience it is known that the probability of cost overruns for the firms are 0.05, 0.03, and 0.15, respectively. \n",
    "\n",
    "Suppose a cost overrun is experienced by the agency.\n",
    "\n",
    "(a) What is the probability that the consulting firm involved is company C? \n",
    "\n",
    "(b) What is the probability that it is company A?\n",
    "\n",
    "----\n",
    "[rySol]\n",
    "\n",
    "![](fg/exS01.88.png)"
   ]
  },
  {
   "cell_type": "markdown",
   "metadata": {},
   "source": []
  },
  {
   "cell_type": "markdown",
   "metadata": {},
   "source": [
    "![](fg/fg_conditionalProb.png)"
   ]
  },
  {
   "cell_type": "markdown",
   "metadata": {},
   "source": [
    "![](fg/fg_conditionalProb01.png)"
   ]
  },
  {
   "cell_type": "markdown",
   "metadata": {},
   "source": []
  },
  {
   "cell_type": "markdown",
   "metadata": {},
   "source": [
    "# 小考：2020/03/20 (周五) 下午2:00~3:00\n",
    "\n",
    "- 範圍： \n",
    "\n",
    "- 小書 \n",
    "    - Chapter 1\n",
    "    - Review Exercises 1.80 ~ 1.97\n",
    "\n",
    "- 大書\n",
    "    - Chapter 2\n",
    "    - Review Exercises 2.103 ~ 2.128\n",
    "\n",
    "\n",
    "- 題目以英文出題，\n",
    "- open book and notes and computer/smart phones for 個人查閱資料\n",
    "- 禁止同學間任何形式的通訊、照相，將視同作弊。\n"
   ]
  },
  {
   "cell_type": "markdown",
   "metadata": {},
   "source": [
    "# 影片：從機率公設、條件機率到貝式定理\n",
    "\n",
    "\n",
    "https://youtu.be/gpCmFDPXf-o\n",
    "\n",
    "https://youtu.be/G7Epez9Fyuo\n",
    "\n",
    "https://youtu.be/g8d_gyIEPOw\n",
    "\n",
    "https://youtu.be/B3KO3H3jjGM\n",
    "\n",
    "https://youtu.be/GGam8BtDzsg\n",
    "\n",
    "https://youtu.be/gQXBLXHGcBA"
   ]
  },
  {
   "cell_type": "code",
   "execution_count": 1,
   "metadata": {},
   "outputs": [
    {
     "data": {
      "image/jpeg": "[encoded data removed]",
      "text/html": [
       "\n",
       "        <iframe\n",
       "            width=\"400\"\n",
       "            height=\"300\"\n",
       "            src=\"https://www.youtube.com/embed/gpCmFDPXf-o\"\n",
       "            frameborder=\"0\"\n",
       "            allowfullscreen\n",
       "        ></iframe>\n",
       "        "
      ],
      "text/plain": [
       "<IPython.lib.display.YouTubeVideo at 0x235d000a8c8>"
      ]
     },
     "execution_count": 1,
     "metadata": {},
     "output_type": "execute_result"
    }
   ],
   "source": [
    "from IPython.display import YouTubeVideo    \n",
    "\n",
    "YouTubeVideo(\"gpCmFDPXf-o\")"
   ]
  },
  {
   "cell_type": "code",
   "execution_count": 2,
   "metadata": {},
   "outputs": [
    {
     "data": {
      "image/jpeg": "[encoded data removed]",
      "text/html": [
       "\n",
       "        <iframe\n",
       "            width=\"400\"\n",
       "            height=\"300\"\n",
       "            src=\"https://www.youtube.com/embed/G7Epez9Fyuo\"\n",
       "            frameborder=\"0\"\n",
       "            allowfullscreen\n",
       "        ></iframe>\n",
       "        "
      ],
      "text/plain": [
       "<IPython.lib.display.YouTubeVideo at 0x235ceb6c208>"
      ]
     },
     "execution_count": 2,
     "metadata": {},
     "output_type": "execute_result"
    }
   ],
   "source": [
    "YouTubeVideo(\"G7Epez9Fyuo\")"
   ]
  },
  {
   "cell_type": "code",
   "execution_count": 3,
   "metadata": {},
   "outputs": [
    {
     "data": {
      "image/jpeg": "[encoded data removed]",
      "text/html": [
       "\n",
       "        <iframe\n",
       "            width=\"400\"\n",
       "            height=\"300\"\n",
       "            src=\"https://www.youtube.com/embed/g8d_gyIEPOw\"\n",
       "            frameborder=\"0\"\n",
       "            allowfullscreen\n",
       "        ></iframe>\n",
       "        "
      ],
      "text/plain": [
       "<IPython.lib.display.YouTubeVideo at 0x235d0018408>"
      ]
     },
     "execution_count": 3,
     "metadata": {},
     "output_type": "execute_result"
    }
   ],
   "source": [
    "YouTubeVideo(\"g8d_gyIEPOw\")"
   ]
  },
  {
   "cell_type": "code",
   "execution_count": 4,
   "metadata": {},
   "outputs": [
    {
     "data": {
      "image/jpeg": "[encoded data removed]",
      "text/html": [
       "\n",
       "        <iframe\n",
       "            width=\"400\"\n",
       "            height=\"300\"\n",
       "            src=\"https://www.youtube.com/embed/B3KO3H3jjGM\"\n",
       "            frameborder=\"0\"\n",
       "            allowfullscreen\n",
       "        ></iframe>\n",
       "        "
      ],
      "text/plain": [
       "<IPython.lib.display.YouTubeVideo at 0x235ceb62808>"
      ]
     },
     "execution_count": 4,
     "metadata": {},
     "output_type": "execute_result"
    }
   ],
   "source": [
    "YouTubeVideo(\"B3KO3H3jjGM\")"
   ]
  },
  {
   "cell_type": "code",
   "execution_count": 5,
   "metadata": {},
   "outputs": [
    {
     "data": {
      "image/jpeg": "[encoded data removed]",
      "text/html": [
       "\n",
       "        <iframe\n",
       "            width=\"400\"\n",
       "            height=\"300\"\n",
       "            src=\"https://www.youtube.com/embed/GGam8BtDzsg\"\n",
       "            frameborder=\"0\"\n",
       "            allowfullscreen\n",
       "        ></iframe>\n",
       "        "
      ],
      "text/plain": [
       "<IPython.lib.display.YouTubeVideo at 0x235cffffb88>"
      ]
     },
     "execution_count": 5,
     "metadata": {},
     "output_type": "execute_result"
    }
   ],
   "source": [
    "YouTubeVideo(\"GGam8BtDzsg\")"
   ]
  },
  {
   "cell_type": "code",
   "execution_count": 6,
   "metadata": {},
   "outputs": [
    {
     "data": {
      "image/jpeg": "[encoded data removed]",
      "text/html": [
       "\n",
       "        <iframe\n",
       "            width=\"400\"\n",
       "            height=\"300\"\n",
       "            src=\"https://www.youtube.com/embed/gQXBLXHGcBA\"\n",
       "            frameborder=\"0\"\n",
       "            allowfullscreen\n",
       "        ></iframe>\n",
       "        "
      ],
      "text/plain": [
       "<IPython.lib.display.YouTubeVideo at 0x235d0011a88>"
      ]
     },
     "execution_count": 6,
     "metadata": {},
     "output_type": "execute_result"
    }
   ],
   "source": [
    "YouTubeVideo(\"gQXBLXHGcBA\")"
   ]
  },
  {
   "cell_type": "markdown",
   "metadata": {},
   "source": [
    "![](fg/fg_prob_cond_bayes.png)"
   ]
  },
  {
   "cell_type": "markdown",
   "metadata": {},
   "source": []
  },
  {
   "cell_type": "markdown",
   "metadata": {},
   "source": [
    "# 雨不雨、傘不傘：機率、條件機率、貝式定理\n",
    "\n",
    "![](fg/fg_rainUmbrella.png)\n",
    "\n",
    "[影片 @Youtube](https://youtu.be/j7u4uIqxOGk)"
   ]
  },
  {
   "cell_type": "code",
   "execution_count": 7,
   "metadata": {},
   "outputs": [
    {
     "data": {
      "image/jpeg": "[encoded data removed]",
      "text/html": [
       "\n",
       "        <iframe\n",
       "            width=\"400\"\n",
       "            height=\"300\"\n",
       "            src=\"https://www.youtube.com/embed/j7u4uIqxOGk\"\n",
       "            frameborder=\"0\"\n",
       "            allowfullscreen\n",
       "        ></iframe>\n",
       "        "
      ],
      "text/plain": [
       "<IPython.lib.display.YouTubeVideo at 0x235d003c788>"
      ]
     },
     "execution_count": 7,
     "metadata": {},
     "output_type": "execute_result"
    }
   ],
   "source": [
    "YouTubeVideo(\"j7u4uIqxOGk\")"
   ]
  },
  {
   "cell_type": "markdown",
   "metadata": {},
   "source": [
    "## some examples from textbook about Conditional probabilities\n",
    "\n",
    "### Example b2.34, 35, 39\n",
    "\n",
    "![](fg/exam_b.2.34_34_39.png)\n",
    "\n",
    "[video @ youtube](https://youtu.be/1Buj87t5lIc)\n",
    "\n"
   ]
  },
  {
   "cell_type": "code",
   "execution_count": 8,
   "metadata": {},
   "outputs": [
    {
     "data": {
      "image/jpeg": "[encoded data removed]",
      "text/html": [
       "\n",
       "        <iframe\n",
       "            width=\"400\"\n",
       "            height=\"300\"\n",
       "            src=\"https://www.youtube.com/embed/1Buj87t5lIc\"\n",
       "            frameborder=\"0\"\n",
       "            allowfullscreen\n",
       "        ></iframe>\n",
       "        "
      ],
      "text/plain": [
       "<IPython.lib.display.YouTubeVideo at 0x235d003cb88>"
      ]
     },
     "execution_count": 8,
     "metadata": {},
     "output_type": "execute_result"
    }
   ],
   "source": [
    "YouTubeVideo(\"1Buj87t5lIc\")\n"
   ]
  },
  {
   "cell_type": "markdown",
   "metadata": {},
   "source": [
    "### Exer b.2.79, 2.95\n",
    "\n",
    "![](fg/exer_b2.79,2.95.png)\n"
   ]
  }
 ],
 "metadata": {
  "kernelspec": {
   "display_name": "Python 3",
   "language": "python",
   "name": "python3"
  },
  "language_info": {
   "codemirror_mode": {
    "name": "ipython",
    "version": 3
   },
   "file_extension": ".py",
   "mimetype": "text/x-python",
   "name": "python",
   "nbconvert_exporter": "python",
   "pygments_lexer": "ipython3",
   "version": "3.7.4"
  },
  "latex_envs": {
   "LaTeX_envs_menu_present": true,
   "autoclose": false,
   "autocomplete": true,
   "bibliofile": "biblio.bib",
   "cite_by": "apalike",
   "current_citInitial": 1,
   "eqLabelWithNumbers": true,
   "eqNumInitial": 1,
   "hotkeys": {
    "equation": "Ctrl-E",
    "itemize": "Ctrl-I"
   },
   "labels_anchors": false,
   "latex_user_defs": false,
   "report_style_numbering": false,
   "user_envs_cfg": false
  },
  "nbTranslate": {
   "displayLangs": [
    "*"
   ],
   "hotkey": "alt-t",
   "langInMainMenu": true,
   "sourceLang": "en",
   "targetLang": "zh-tw",
   "useGoogleTranslate": true
  },
  "toc": {
   "base_numbering": 1,
   "nav_menu": {},
   "number_sections": false,
   "sideBar": true,
   "skip_h1_title": false,
   "title_cell": "Table of Contents",
   "title_sidebar": "Contents",
   "toc_cell": false,
   "toc_position": {
    "height": "calc(100% - 180px)",
    "left": "10px",
    "top": "150px",
    "width": "165px"
   },
   "toc_section_display": false,
   "toc_window_display": true
  },
  "varInspector": {
   "cols": {
    "lenName": 16,
    "lenType": 16,
    "lenVar": 40
   },
   "kernels_config": {
    "python": {
     "delete_cmd_postfix": "",
     "delete_cmd_prefix": "del ",
     "library": "var_list.py",
     "varRefreshCmd": "print(var_dic_list())"
    },
    "r": {
     "delete_cmd_postfix": ") ",
     "delete_cmd_prefix": "rm(",
     "library": "var_list.r",
     "varRefreshCmd": "cat(var_dic_list()) "
    }
   },
   "types_to_exclude": [
    "module",
    "function",
    "builtin_function_or_method",
    "instance",
    "_Feature"
   ],
   "window_display": false
  }
 },
 "nbformat": 4,
 "nbformat_minor": 2
}
