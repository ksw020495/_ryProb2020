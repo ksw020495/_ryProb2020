{
 "cells": [
  {
   "cell_type": "markdown",
   "metadata": {},
   "source": [
    "# Table of Contents ..\n",
    "[Local](./probCh00.ipynb),\n",
    "[Github](https://github.com/renyuanL/_ryProb2020/blob/master/probCh00.ipynb),\n",
    "[Colab](https://colab.research.google.com/github/renyuanL/_ryProb2020/blob/master/probCh00.ipynb).\n",
    "\n",
    "---\n",
    "# Current Chapter ...\n",
    "[Local](./probCh03_1.ipynb),\n",
    "[Github](https://github.com/renyuanL/_ryProb2020/blob/master/probCh03_1.ipynb),\n",
    "[Colab](https://colab.research.google.com/github/renyuanL/_ryProb2020/blob/master/probCh03_1.ipynb).\n",
    "\n"
   ]
  },
  {
   "cell_type": "markdown",
   "metadata": {},
   "source": [
    "----\n",
    "\n",
    "# probCh03_1 \n",
    "\n",
    "## 連續型隨機變數\n",
    "\n",
    "----"
   ]
  },
  {
   "cell_type": "markdown",
   "metadata": {},
   "source": [
    "![](media/Ch03/image64.png) <div style=\"text-align: right\">【p03.037】</div>\n",
    "![](media/Ch03/image65.png) <div style=\"text-align: right\">【p03.038】</div>\n",
    "![](media/Ch03/image66.png) <div style=\"text-align: right\">【p03.039】</div>"
   ]
  },
  {
   "cell_type": "code",
   "execution_count": 593,
   "metadata": {},
   "outputs": [
    {
     "data": {
      "image/png": "[encoded data removed]",
      "text/latex": [
       "$\\displaystyle \\left( x, \\  0.25, \\  0.25\\right)$"
      ],
      "text/plain": [
       "(x, 0.25, 0.25)"
      ]
     },
     "execution_count": 593,
     "metadata": {},
     "output_type": "execute_result"
    }
   ],
   "source": [
    "import sympy as sp\n",
    "\n",
    "x= sp.symbols('x')\n",
    "\n",
    "f= 1/4\n",
    "p= sp.integrate(f, (x,3,4))\n",
    "\n",
    "x, f, p\n"
   ]
  },
  {
   "cell_type": "markdown",
   "metadata": {},
   "source": []
  },
  {
   "cell_type": "code",
   "execution_count": 594,
   "metadata": {},
   "outputs": [],
   "source": [
    "import scipy.stats as st\n",
    "\n",
    "st.uniform?"
   ]
  },
  {
   "cell_type": "markdown",
   "metadata": {},
   "source": [
    "In the standard form, the distribution is uniform on ``[0, 1]``. \n",
    "\n",
    "Using\n",
    "the parameters ``loc`` and ``scale``, one obtains the uniform distribution\n",
    "on ``[loc, loc + scale]``."
   ]
  },
  {
   "cell_type": "code",
   "execution_count": 595,
   "metadata": {},
   "outputs": [
    {
     "data": {
      "image/png": "[encoded data removed]",
      "text/latex": [
       "$\\displaystyle 0.25$"
      ],
      "text/plain": [
       "0.25"
      ]
     },
     "execution_count": 595,
     "metadata": {},
     "output_type": "execute_result"
    }
   ],
   "source": [
    "st.uniform.cdf(4,loc=0, scale=4) -st.uniform.cdf(3,loc=0, scale=4)"
   ]
  },
  {
   "cell_type": "markdown",
   "metadata": {},
   "source": []
  },
  {
   "cell_type": "markdown",
   "metadata": {},
   "source": [
    "![](media/Ch03/image67.png) <div style=\"text-align: right\">【p03.040】</div>"
   ]
  },
  {
   "cell_type": "markdown",
   "metadata": {},
   "source": [
    "見識一下 sympy 的強大！\n",
    "用它來證明定理 3.6...."
   ]
  },
  {
   "cell_type": "code",
   "execution_count": 596,
   "metadata": {},
   "outputs": [
    {
     "data": {
      "image/png": "[encoded data removed]",
      "text/latex": [
       "$\\displaystyle \\frac{A}{2} + \\frac{B}{2}$"
      ],
      "text/plain": [
       "A   B\n",
       "─ + ─\n",
       "2   2"
      ]
     },
     "execution_count": 596,
     "metadata": {},
     "output_type": "execute_result"
    }
   ],
   "source": [
    "x,A,B, C= sp.symbols('x A B C')\n",
    "\n",
    "C= 1/(B-A)\n",
    "\n",
    "f= C\n",
    "\n",
    "μ= sp.integrate(x * f, (x,A,B))\n",
    "μ= sp.simplify(μ)\n",
    "μ"
   ]
  },
  {
   "cell_type": "code",
   "execution_count": 597,
   "metadata": {},
   "outputs": [
    {
     "data": {
      "image/png": "[encoded data removed]",
      "text/latex": [
       "$\\displaystyle \\frac{A^{2}}{12} - \\frac{A B}{6} + \\frac{B^{2}}{12}$"
      ],
      "text/plain": [
       " 2          2\n",
       "A    A⋅B   B \n",
       "── - ─── + ──\n",
       "12    6    12"
      ]
     },
     "execution_count": 597,
     "metadata": {},
     "output_type": "execute_result"
    }
   ],
   "source": [
    "σ2= sp.integrate((x-μ)**2 * f, (x,A,B))\n",
    "σ2= sp.simplify(σ2)\n",
    "σ2"
   ]
  },
  {
   "cell_type": "code",
   "execution_count": 598,
   "metadata": {},
   "outputs": [
    {
     "data": {
      "image/png": "[encoded data removed]",
      "text/latex": [
       "$\\displaystyle \\frac{A^{2}}{12} - \\frac{A B}{6} + \\frac{B^{2}}{12}$"
      ],
      "text/plain": [
       " 2          2\n",
       "A    A⋅B   B \n",
       "── - ─── + ──\n",
       "12    6    12"
      ]
     },
     "execution_count": 598,
     "metadata": {},
     "output_type": "execute_result"
    }
   ],
   "source": [
    "右= (B-A)**2/12\n",
    "右= sp.expand(右)\n",
    "右"
   ]
  },
  {
   "cell_type": "code",
   "execution_count": 599,
   "metadata": {},
   "outputs": [
    {
     "data": {
      "text/plain": [
       "True"
      ]
     },
     "execution_count": 599,
     "metadata": {},
     "output_type": "execute_result"
    }
   ],
   "source": [
    "σ2 == 右"
   ]
  },
  {
   "cell_type": "markdown",
   "metadata": {},
   "source": []
  },
  {
   "cell_type": "markdown",
   "metadata": {},
   "source": [
    "![](media/Ch03/image68.png) <div style=\"text-align: right\">【p03.041】</div>"
   ]
  },
  {
   "cell_type": "markdown",
   "metadata": {},
   "source": [
    "![](media/Ch03/image69.png) <div style=\"text-align: right\">【p03.042】</div>"
   ]
  },
  {
   "cell_type": "code",
   "execution_count": 600,
   "metadata": {},
   "outputs": [
    {
     "data": {
      "image/png": "[encoded data removed]",
      "text/latex": [
       "$\\displaystyle \\left( e^{- x^{2}}, \\  \\sqrt{\\pi}\\right)$"
      ],
      "text/plain": [
       "⎛   2    ⎞\n",
       "⎜ -x     ⎟\n",
       "⎝ℯ   , √π⎠"
      ]
     },
     "execution_count": 600,
     "metadata": {},
     "output_type": "execute_result"
    }
   ],
   "source": [
    "f= sp.exp(-x**2)\n",
    "F= sp.integrate( f,(x,-sp.oo, sp.oo))\n",
    "f, F"
   ]
  },
  {
   "cell_type": "code",
   "execution_count": 601,
   "metadata": {},
   "outputs": [
    {
     "data": {
      "image/png": "[encoded data removed]",
      "text/latex": [
       "$\\displaystyle \\left( \\frac{e^{- x^{2}}}{\\sqrt{\\pi}}, \\  1\\right)$"
      ],
      "text/plain": [
       "⎛   2   ⎞\n",
       "⎜ -x    ⎟\n",
       "⎜ℯ      ⎟\n",
       "⎜────, 1⎟\n",
       "⎝ √π    ⎠"
      ]
     },
     "execution_count": 601,
     "metadata": {},
     "output_type": "execute_result"
    }
   ],
   "source": [
    "f= f / F\n",
    "F= sp.integrate(f, (x,-sp.oo, sp.oo))\n",
    "f, F"
   ]
  },
  {
   "cell_type": "code",
   "execution_count": 602,
   "metadata": {},
   "outputs": [
    {
     "data": {
      "image/png": "[encoded data removed]",
      "text/latex": [
       "$\\displaystyle \\left( e^{- 0.5 x^{2}}, \\  1.41421356237309 \\sqrt{\\pi}\\right)$"
      ],
      "text/plain": [
       "⎛       2                     ⎞\n",
       "⎜ -0.5⋅x                      ⎟\n",
       "⎝ℯ       , 1.41421356237309⋅√π⎠"
      ]
     },
     "execution_count": 602,
     "metadata": {},
     "output_type": "execute_result"
    }
   ],
   "source": [
    "f= sp.exp(-1/2 * x**2)\n",
    "F= sp.integrate(f, (x,-sp.oo, sp.oo))\n",
    "f, F"
   ]
  },
  {
   "cell_type": "code",
   "execution_count": 603,
   "metadata": {},
   "outputs": [
    {
     "data": {
      "image/png": "[encoded data removed]",
      "text/latex": [
       "$\\displaystyle \\left( e^{- \\frac{x^{2}}{2}}, \\  \\sqrt{2} \\sqrt{\\pi}\\right)$"
      ],
      "text/plain": [
       "⎛   2        ⎞\n",
       "⎜ -x         ⎟\n",
       "⎜ ────       ⎟\n",
       "⎜  2         ⎟\n",
       "⎝ℯ    , √2⋅√π⎠"
      ]
     },
     "execution_count": 603,
     "metadata": {},
     "output_type": "execute_result"
    }
   ],
   "source": [
    "# 把 數字 1 改成 sp.S(1)， 最終就把 1.41421356237309 以 sqrt(2) 呈現 !!!\n",
    "f= sp.exp(-sp.S(1)/2 * x**2)\n",
    "F= sp.integrate(f, (x,-sp.oo, sp.oo))\n",
    "f, F"
   ]
  },
  {
   "cell_type": "code",
   "execution_count": 604,
   "metadata": {},
   "outputs": [
    {
     "data": {
      "image/png": "[encoded data removed]",
      "text/latex": [
       "$\\displaystyle \\left( \\frac{\\sqrt{2} e^{- \\frac{x^{2}}{2}}}{2 \\sqrt{\\pi}}, \\  1\\right)$"
      ],
      "text/plain": [
       "⎛      2    ⎞\n",
       "⎜    -x     ⎟\n",
       "⎜    ────   ⎟\n",
       "⎜     2     ⎟\n",
       "⎜√2⋅ℯ       ⎟\n",
       "⎜────────, 1⎟\n",
       "⎝  2⋅√π     ⎠"
      ]
     },
     "execution_count": 604,
     "metadata": {},
     "output_type": "execute_result"
    }
   ],
   "source": [
    "f= f / F\n",
    "F= sp.integrate(f, (x,-sp.oo, sp.oo))\n",
    "f, F"
   ]
  },
  {
   "cell_type": "code",
   "execution_count": 605,
   "metadata": {},
   "outputs": [
    {
     "data": {
      "image/png": "[encoded data removed]",
      "text/latex": [
       "$\\displaystyle \\left( \\frac{\\sqrt{2} e^{- \\frac{x^{2}}{2}}}{2 \\sqrt{\\pi}}, \\  \\int\\limits_{-\\infty}^{z} \\frac{\\sqrt{2} e^{- \\frac{x^{2}}{2}}}{2 \\sqrt{\\pi}}\\, dx\\right)$"
      ],
      "text/plain": [
       "⎛          z             ⎞\n",
       "⎜          ⌠             ⎟\n",
       "⎜      2   ⎮        2    ⎟\n",
       "⎜    -x    ⎮      -x     ⎟\n",
       "⎜    ────  ⎮      ────   ⎟\n",
       "⎜     2    ⎮       2     ⎟\n",
       "⎜√2⋅ℯ      ⎮  √2⋅ℯ       ⎟\n",
       "⎜────────, ⎮  ──────── dx⎟\n",
       "⎜  2⋅√π    ⎮    2⋅√π     ⎟\n",
       "⎜          ⌡             ⎟\n",
       "⎝          -∞            ⎠"
      ]
     },
     "execution_count": 605,
     "metadata": {},
     "output_type": "execute_result"
    }
   ],
   "source": [
    "fx= f\n",
    "#Fz= sp.integrate(fx, (x,-sp.oo, z))\n",
    "Fz= sp.Integral(fx, (x,-sp.oo, z))\n",
    "fx, Fz"
   ]
  },
  {
   "cell_type": "code",
   "execution_count": 606,
   "metadata": {},
   "outputs": [
    {
     "data": {
      "image/png": "[encoded data removed]",
      "text/latex": [
       "$\\displaystyle \\left( \\frac{\\sqrt{2} e^{- \\frac{x^{2}}{2}}}{2 \\sqrt{\\pi}}, \\  \\frac{\\sqrt{2}}{2 \\sqrt{\\pi}}, \\  0.398942280401433\\right)$"
      ],
      "text/plain": [
       "⎛      2                          ⎞\n",
       "⎜    -x                           ⎟\n",
       "⎜    ────                         ⎟\n",
       "⎜     2                           ⎟\n",
       "⎜√2⋅ℯ       √2                    ⎟\n",
       "⎜────────, ────, 0.398942280401433⎟\n",
       "⎝  2⋅√π    2⋅√π                   ⎠"
      ]
     },
     "execution_count": 606,
     "metadata": {},
     "output_type": "execute_result"
    }
   ],
   "source": [
    "fx, fx.subs(x, 0), fx.subs(x, 0).evalf()"
   ]
  },
  {
   "cell_type": "code",
   "execution_count": 607,
   "metadata": {},
   "outputs": [
    {
     "data": {
      "image/png": "[encoded data removed]",
      "text/latex": [
       "$\\displaystyle \\left( \\int\\limits_{-\\infty}^{z} \\frac{\\sqrt{2} e^{- \\frac{x^{2}}{2}}}{2 \\sqrt{\\pi}}\\, dx, \\  \\frac{\\operatorname{erf}{\\left(\\frac{\\sqrt{2} z}{2} \\right)}}{2} + \\frac{1}{2}, \\  \\int\\limits_{-\\infty}^{0} \\frac{\\sqrt{2} e^{- \\frac{x^{2}}{2}}}{2 \\sqrt{\\pi}}\\, dx, \\  0.5\\right)$"
      ],
      "text/plain": [
       "⎛z                              0                  ⎞\n",
       "⎜⌠                              ⌠                  ⎟\n",
       "⎜⎮        2                     ⎮        2         ⎟\n",
       "⎜⎮      -x                      ⎮      -x          ⎟\n",
       "⎜⎮      ────        ⎛√2⋅z⎞      ⎮      ────        ⎟\n",
       "⎜⎮       2       erf⎜────⎟      ⎮       2          ⎟\n",
       "⎜⎮  √2⋅ℯ            ⎝ 2  ⎠   1  ⎮  √2⋅ℯ            ⎟\n",
       "⎜⎮  ──────── dx, ───────── + ─, ⎮  ──────── dx, 0.5⎟\n",
       "⎜⎮    2⋅√π           2       2  ⎮    2⋅√π          ⎟\n",
       "⎜⌡                              ⌡                  ⎟\n",
       "⎝-∞                             -∞                 ⎠"
      ]
     },
     "execution_count": 607,
     "metadata": {},
     "output_type": "execute_result"
    }
   ],
   "source": [
    "Fz, Fz.doit(), Fz.subs(z, 0), Fz.subs(z, 0).evalf()"
   ]
  },
  {
   "cell_type": "code",
   "execution_count": 608,
   "metadata": {},
   "outputs": [
    {
     "data": {
      "image/png": "[encoded data removed]",
      "text/latex": [
       "$\\displaystyle \\left( 0.3989422804014327, \\  0.5\\right)$"
      ],
      "text/plain": [
       "(0.3989422804014327, 0.5)"
      ]
     },
     "execution_count": 608,
     "metadata": {},
     "output_type": "execute_result"
    }
   ],
   "source": [
    "# using scipy.stats\n",
    "import scipy.stats as st\n",
    "st.norm.pdf(0), st.norm.cdf(0)"
   ]
  },
  {
   "cell_type": "code",
   "execution_count": 609,
   "metadata": {},
   "outputs": [
    {
     "data": {
      "image/png": "[encoded data removed]",
      "text/latex": [
       "$\\displaystyle \\int\\limits_{-\\infty}^{z} \\frac{\\sqrt{2} e^{- \\frac{x^{2}}{2}}}{2 \\sqrt{\\pi}}\\, dx$"
      ],
      "text/plain": [
       "z             \n",
       "⌠             \n",
       "⎮        2    \n",
       "⎮      -x     \n",
       "⎮      ────   \n",
       "⎮       2     \n",
       "⎮  √2⋅ℯ       \n",
       "⎮  ──────── dx\n",
       "⎮    2⋅√π     \n",
       "⌡             \n",
       "-∞            "
      ]
     },
     "execution_count": 609,
     "metadata": {},
     "output_type": "execute_result"
    }
   ],
   "source": [
    "Fz= sp.Integral(fx,(x,-sp.oo,z))\n",
    "Fz"
   ]
  },
  {
   "cell_type": "code",
   "execution_count": null,
   "metadata": {},
   "outputs": [],
   "source": []
  },
  {
   "cell_type": "code",
   "execution_count": 610,
   "metadata": {},
   "outputs": [
    {
     "data": {
      "image/png": "[encoded data removed]",
      "text/latex": [
       "$\\displaystyle \\left( 1.4142135623730951, \\  \\sqrt{2}, \\  \\sqrt{2}, \\  \\sqrt{2}\\right)$"
      ],
      "text/plain": [
       "(1.4142135623730951, √2, √2, √2)"
      ]
     },
     "execution_count": 610,
     "metadata": {},
     "output_type": "execute_result"
    }
   ],
   "source": [
    "2**.5, 2**(sp.S(1)/2), sp.sqrt(2), 2**sp.Rational(1,2)"
   ]
  },
  {
   "cell_type": "code",
   "execution_count": 611,
   "metadata": {},
   "outputs": [
    {
     "data": {
      "text/plain": [
       "True"
      ]
     },
     "execution_count": 611,
     "metadata": {},
     "output_type": "execute_result"
    }
   ],
   "source": [
    "2**(sp.S(1)/2)==sp.sqrt(2)==2**sp.Rational(1,2)"
   ]
  },
  {
   "cell_type": "code",
   "execution_count": 612,
   "metadata": {},
   "outputs": [],
   "source": [
    "sp.S?"
   ]
  },
  {
   "cell_type": "code",
   "execution_count": 613,
   "metadata": {},
   "outputs": [
    {
     "name": "stdout",
     "output_type": "stream",
     "text": [
      "In file: C:\\Anaconda3-2019.10\\lib\\site-packages\\sympy\\functions\\elementary\\miscellaneous.py\n",
      "def sqrt(arg, evaluate=None):\n",
      "    \"\"\"The square root function\n",
      "\n",
      "    sqrt(x) -> Returns the principal square root of x.\n",
      "\n",
      "    The parameter evaluate determines if the expression should be evaluated.\n",
      "    If None, its value is taken from global_evaluate\n",
      "\n",
      "    Examples\n",
      "    ========\n",
      "\n",
      "    >>> from sympy import sqrt, Symbol\n",
      "    >>> x = Symbol('x')\n",
      "\n",
      "    >>> sqrt(x)\n",
      "    sqrt(x)\n",
      "\n",
      "    >>> sqrt(x)**2\n",
      "    x\n",
      "\n",
      "    Note that sqrt(x**2) does not simplify to x.\n",
      "\n",
      "    >>> sqrt(x**2)\n",
      "    sqrt(x**2)\n",
      "\n",
      "    This is because the two are not equal to each other in general.\n",
      "    For example, consider x == -1:\n",
      "\n",
      "    >>> from sympy import Eq\n",
      "    >>> Eq(sqrt(x**2), x).subs(x, -1)\n",
      "    False\n",
      "\n",
      "    This is because sqrt computes the principal square root, so the square may\n",
      "    put the argument in a different branch.  This identity does hold if x is\n",
      "    positive:\n",
      "\n",
      "    >>> y = Symbol('y', positive=True)\n",
      "    >>> sqrt(y**2)\n",
      "    y\n",
      "\n",
      "    You can force this simplification by using the powdenest() function with\n",
      "    the force option set to True:\n",
      "\n",
      "    >>> from sympy import powdenest\n",
      "    >>> sqrt(x**2)\n",
      "    sqrt(x**2)\n",
      "    >>> powdenest(sqrt(x**2), force=True)\n",
      "    x\n",
      "\n",
      "    To get both branches of the square root you can use the rootof function:\n",
      "\n",
      "    >>> from sympy import rootof\n",
      "\n",
      "    >>> [rootof(x**2-3,i) for i in (0,1)]\n",
      "    [-sqrt(3), sqrt(3)]\n",
      "\n",
      "    See Also\n",
      "    ========\n",
      "\n",
      "    sympy.polys.rootoftools.rootof, root, real_root\n",
      "\n",
      "    References\n",
      "    ==========\n",
      "\n",
      "    .. [1] https://en.wikipedia.org/wiki/Square_root\n",
      "    .. [2] https://en.wikipedia.org/wiki/Principal_value\n",
      "    \"\"\"\n",
      "    # arg = sympify(arg) is handled by Pow\n",
      "    return Pow(arg, S.Half, evaluate=evaluate)\n",
      "\n"
     ]
    }
   ],
   "source": [
    "sp.source(sp.sqrt)\n",
    "sp.sqrt??"
   ]
  },
  {
   "cell_type": "code",
   "execution_count": null,
   "metadata": {},
   "outputs": [],
   "source": []
  },
  {
   "cell_type": "code",
   "execution_count": null,
   "metadata": {},
   "outputs": [],
   "source": []
  },
  {
   "cell_type": "code",
   "execution_count": 614,
   "metadata": {},
   "outputs": [
    {
     "data": {
      "image/png": "[encoded data removed]",
      "text/latex": [
       "$\\displaystyle \\left( \\frac{1}{\\left(x + 1\\right)^{2}}, \\  \\frac{1}{x^{2} + 2 x + 1}, \\  1 - 2 x + 3 x^{2} - 4 x^{3} + 5 x^{4} - 6 x^{5} + 7 x^{6} - 8 x^{7} + 9 x^{8} - 10 x^{9} + O\\left(x^{10}\\right)\\right)$"
      ],
      "text/plain": [
       "⎛   1           1                     2      3      4      5      6      7    \n",
       "⎜────────, ────────────, 1 - 2⋅x + 3⋅x  - 4⋅x  + 5⋅x  - 6⋅x  + 7⋅x  - 8⋅x  + 9\n",
       "⎜       2   2                                                                 \n",
       "⎝(x + 1)   x  + 2⋅x + 1                                                       \n",
       "\n",
       "  8       9    ⎛ 10⎞⎞\n",
       "⋅x  - 10⋅x  + O⎝x  ⎠⎟\n",
       "                    ⎟\n",
       "                    ⎠"
      ]
     },
     "execution_count": 614,
     "metadata": {},
     "output_type": "execute_result"
    }
   ],
   "source": [
    "f= (1+x)**(-2)\n",
    "f, f.expand(), f.series(n=10)"
   ]
  },
  {
   "cell_type": "code",
   "execution_count": null,
   "metadata": {},
   "outputs": [],
   "source": []
  },
  {
   "cell_type": "markdown",
   "metadata": {},
   "source": [
    "### Calculus I and Calculus II in Python - Sympy Overview\n",
    "\n",
    "https://youtu.be/t6TN19ShRFw\n"
   ]
  },
  {
   "cell_type": "code",
   "execution_count": 615,
   "metadata": {},
   "outputs": [
    {
     "data": {
      "image/png": "[encoded data removed]",
      "text/latex": [
       "$\\displaystyle \\left( \\left(x + y\\right)^{2}, \\  x^{2} + 2 x y + y^{2}, \\  \\left(x + y\\right)^{2}\\right)$"
      ],
      "text/plain": [
       "⎛       2   2            2         2⎞\n",
       "⎝(x + y) , x  + 2⋅x⋅y + y , (x + y) ⎠"
      ]
     },
     "execution_count": 615,
     "metadata": {},
     "output_type": "execute_result"
    }
   ],
   "source": [
    "sp.init_printing(pretty_print=True)\n",
    "x,y,z,f,g,h= sp.symbols('x y z f g h')\n",
    "#sp.diff(x**4 * y**3, x,2)\n",
    "f= (x+y)**2\n",
    "g= f.expand()\n",
    "h= f.simplify()\n",
    "f,g,h\n"
   ]
  },
  {
   "cell_type": "code",
   "execution_count": 616,
   "metadata": {},
   "outputs": [],
   "source": [
    "sp.expand?"
   ]
  },
  {
   "cell_type": "code",
   "execution_count": 617,
   "metadata": {},
   "outputs": [
    {
     "data": {
      "image/png": "[encoded data removed]",
      "text/latex": [
       "$\\displaystyle - \\sin{\\left(x \\right)} \\sin{\\left(y \\right)} + \\cos{\\left(x \\right)} \\cos{\\left(y \\right)}$"
      ],
      "text/plain": [
       "-sin(x)⋅sin(y) + cos(x)⋅cos(y)"
      ]
     },
     "execution_count": 617,
     "metadata": {},
     "output_type": "execute_result"
    }
   ],
   "source": [
    "f= sp.cos(x + y).expand(trig=True)\n",
    "f"
   ]
  },
  {
   "cell_type": "code",
   "execution_count": 618,
   "metadata": {},
   "outputs": [
    {
     "data": {
      "image/png": "[encoded data removed]",
      "text/latex": [
       "$\\displaystyle \\sqrt{2} \\sqrt{\\pi}$"
      ],
      "text/plain": [
       "√2⋅√π"
      ]
     },
     "execution_count": 618,
     "metadata": {},
     "output_type": "execute_result"
    }
   ],
   "source": [
    "sp.sqrt(2*sp.pi)"
   ]
  },
  {
   "cell_type": "code",
   "execution_count": null,
   "metadata": {},
   "outputs": [],
   "source": []
  },
  {
   "cell_type": "code",
   "execution_count": null,
   "metadata": {},
   "outputs": [],
   "source": []
  },
  {
   "cell_type": "code",
   "execution_count": null,
   "metadata": {},
   "outputs": [],
   "source": []
  },
  {
   "cell_type": "code",
   "execution_count": null,
   "metadata": {},
   "outputs": [],
   "source": []
  },
  {
   "cell_type": "markdown",
   "metadata": {},
   "source": [
    "## sympy.stats\n",
    "\n",
    "https://docs.sympy.org/latest/modules/stats.html\n"
   ]
  },
  {
   "cell_type": "code",
   "execution_count": 619,
   "metadata": {},
   "outputs": [],
   "source": [
    "from sympy.stats import Normal, density, E, std, cdf, skewness, quantile\n",
    "from sympy       import Symbol, simplify, pprint, factor, together, factor_terms"
   ]
  },
  {
   "cell_type": "code",
   "execution_count": 620,
   "metadata": {},
   "outputs": [
    {
     "data": {
      "image/png": "[encoded data removed]",
      "text/latex": [
       "$\\displaystyle \\left( \\sigma, \\  x, \\  y, \\  p, \\  x\\right)$"
      ],
      "text/plain": [
       "(σ, x, y, p, x)"
      ]
     },
     "execution_count": 620,
     "metadata": {},
     "output_type": "execute_result"
    }
   ],
   "source": [
    "mu=    Symbol(\"mu\")\n",
    "sigma= Symbol(\"sigma\", positive=True)\n",
    "\n",
    "z=     Symbol(\"z\")\n",
    "y=     Symbol(\"y\")\n",
    "p=     Symbol(\"p\")\n",
    "\n",
    "X=     Normal(\"x\", mu, sigma)\n",
    "sigma,x,y,p,X"
   ]
  },
  {
   "cell_type": "code",
   "execution_count": 621,
   "metadata": {},
   "outputs": [
    {
     "data": {
      "image/png": "[encoded data removed]",
      "text/latex": [
       "$\\displaystyle \\frac{\\sqrt{2} e^{- \\frac{\\left(- \\mu + z\\right)^{2}}{2 \\sigma^{2}}}}{2 \\sqrt{\\pi} \\sigma}$"
      ],
      "text/plain": [
       "             2 \n",
       "    -(-μ + z)  \n",
       "    ───────────\n",
       "           2   \n",
       "        2⋅σ    \n",
       "√2⋅ℯ           \n",
       "───────────────\n",
       "     2⋅√π⋅σ    "
      ]
     },
     "execution_count": 621,
     "metadata": {},
     "output_type": "execute_result"
    }
   ],
   "source": [
    "f= density(X)(z)\n",
    "f\n",
    "\n"
   ]
  },
  {
   "cell_type": "code",
   "execution_count": 622,
   "metadata": {},
   "outputs": [
    {
     "data": {
      "image/png": "[encoded data removed]",
      "text/latex": [
       "$\\displaystyle \\left( \\left(p + q\\right)^{10}, \\  p^{10} + 10 p^{9} q + 45 p^{8} q^{2} + 120 p^{7} q^{3} + 210 p^{6} q^{4} + 252 p^{5} q^{5} + 210 p^{4} q^{6} + 120 p^{3} q^{7} + 45 p^{2} q^{8} + 10 p q^{9} + q^{10}\\right)$"
      ],
      "text/plain": [
       "⎛       10   10       9         8  2        7  3        6  4        5  5      \n",
       "⎝(p + q)  , p   + 10⋅p ⋅q + 45⋅p ⋅q  + 120⋅p ⋅q  + 210⋅p ⋅q  + 252⋅p ⋅q  + 210\n",
       "\n",
       "  4  6        3  7       2  8         9    10⎞\n",
       "⋅p ⋅q  + 120⋅p ⋅q  + 45⋅p ⋅q  + 10⋅p⋅q  + q  ⎠"
      ]
     },
     "execution_count": 622,
     "metadata": {},
     "output_type": "execute_result"
    }
   ],
   "source": [
    "import sympy\n",
    "\n",
    "p,q,n,k,r= sympy.symbols('p q n k r')\n",
    "\n",
    "f= (p+q)**10\n",
    "f, f.expand()"
   ]
  },
  {
   "cell_type": "code",
   "execution_count": 623,
   "metadata": {},
   "outputs": [
    {
     "data": {
      "image/png": "[encoded data removed]",
      "text/latex": [
       "$\\displaystyle \\left( \\frac{1}{\\left(1 - q\\right)^{5}}, \\  \\frac{1}{- q^{5} + 5 q^{4} - 10 q^{3} + 10 q^{2} - 5 q + 1}\\right)$"
      ],
      "text/plain": [
       "⎛   1                        1                  ⎞\n",
       "⎜────────, ─────────────────────────────────────⎟\n",
       "⎜       5     5      4       3       2          ⎟\n",
       "⎝(1 - q)   - q  + 5⋅q  - 10⋅q  + 10⋅q  - 5⋅q + 1⎠"
      ]
     },
     "execution_count": 623,
     "metadata": {},
     "output_type": "execute_result"
    }
   ],
   "source": [
    "f= ((1-q))**(-5)\n",
    "f, f.expand()"
   ]
  },
  {
   "cell_type": "code",
   "execution_count": 624,
   "metadata": {},
   "outputs": [],
   "source": [
    "sympy.summation?"
   ]
  },
  {
   "cell_type": "code",
   "execution_count": 625,
   "metadata": {},
   "outputs": [
    {
     "data": {
      "text/latex": [
       "$\\displaystyle \\left( p^{k} \\left(1 - p\\right)^{- k + n} {\\binom{n}{- k + n}}, \\  \\begin{cases} 1 & \\text{for}\\: \\left|{\\frac{p}{p - 1}}\\right| \\leq 1 \\\\\\left(1 - p\\right)^{n} \\sum_{k=0}^{n} p^{k} \\left(1 - p\\right)^{- k} {\\binom{n}{k}} & \\text{otherwise} \\end{cases}\\right)$"
      ],
      "text/plain": [
       "⎛                           ⎧                                     │  p  │    ⎞\n",
       "⎜                           ⎪               1                 for │─────│ ≤ 1⎟\n",
       "⎜                           ⎪                                     │p - 1│    ⎟\n",
       "⎜                           ⎪                                                ⎟\n",
       "⎜                           ⎪           n                                    ⎟\n",
       "⎜                           ⎪          ____                                  ⎟\n",
       "⎜ k        -k + n ⎛  n   ⎞  ⎪          ╲                                     ⎟\n",
       "⎜p ⋅(1 - p)      ⋅⎜      ⎟, ⎨           ╲                                    ⎟\n",
       "⎜                 ⎝-k + n⎠  ⎪       n    ╲   k        -k ⎛n⎞                 ⎟\n",
       "⎜                           ⎪(1 - p) ⋅   ╱  p ⋅(1 - p)  ⋅⎜ ⎟     otherwise   ⎟\n",
       "⎜                           ⎪           ╱                ⎝k⎠                 ⎟\n",
       "⎜                           ⎪          ╱                                     ⎟\n",
       "⎜                           ⎪          ‾‾‾‾                                  ⎟\n",
       "⎜                           ⎪         k = 0                                  ⎟\n",
       "⎝                           ⎩                                                ⎠"
      ]
     },
     "execution_count": 625,
     "metadata": {},
     "output_type": "execute_result"
    }
   ],
   "source": [
    "from sympy import summation, oo, symbols, log\n",
    "i, j, k, r, n, m = symbols('i, j, k, r, n, m', integer=True, positive=True)\n",
    "\n",
    "q= 1-p\n",
    "r= n-k\n",
    "\n",
    "#f= p**k * q**(n-k) * sympy.factorial(n) / sympy.factorial(k) / sympy.factorial(n-k)\n",
    "\n",
    "f= p**k * q**r * sympy.binomial(n,r)\n",
    "F= sympy.summation(f,(k,0,n))\n",
    "f, F.simplify()"
   ]
  },
  {
   "cell_type": "code",
   "execution_count": 626,
   "metadata": {},
   "outputs": [
    {
     "data": {
      "image/png": "[encoded data removed]",
      "text/latex": [
       "$\\displaystyle \\frac{n^{5}}{120} - \\frac{n^{4}}{12} + \\frac{7 n^{3}}{24} - \\frac{5 n^{2}}{12} + \\frac{n}{5}$"
      ],
      "text/plain": [
       "  5    4      3      2    \n",
       " n    n    7⋅n    5⋅n    n\n",
       "─── - ── + ──── - ──── + ─\n",
       "120   12    24     12    5"
      ]
     },
     "execution_count": 626,
     "metadata": {},
     "output_type": "execute_result"
    }
   ],
   "source": [
    "sympy.binomial(n,5).expand(func=True)"
   ]
  },
  {
   "cell_type": "code",
   "execution_count": 627,
   "metadata": {},
   "outputs": [],
   "source": [
    "# with bug ...\n",
    "_='''\n",
    "f= p**k * q**r * sympy.binomial(r+k-1, r)\n",
    "F= sympy.summation(f,(r,0,10))\n",
    "f\n",
    "'''"
   ]
  },
  {
   "cell_type": "code",
   "execution_count": 628,
   "metadata": {},
   "outputs": [],
   "source": [
    "sympy.binomial?"
   ]
  },
  {
   "cell_type": "markdown",
   "metadata": {},
   "source": []
  },
  {
   "cell_type": "markdown",
   "metadata": {},
   "source": [
    "![](media/Ch03/image70.png) <div style=\"text-align: right\">【p03.043】</div>"
   ]
  },
  {
   "cell_type": "markdown",
   "metadata": {},
   "source": [
    "![](media/Ch03/image71.png) <div style=\"text-align: right\">【p03.044】</div>"
   ]
  },
  {
   "cell_type": "markdown",
   "metadata": {},
   "source": [
    "![](media/Ch03/image72.png) <div style=\"text-align: right\">【p03.045】</div>"
   ]
  },
  {
   "cell_type": "markdown",
   "metadata": {},
   "source": [
    "![](media/Ch03/image77.png) <div style=\"text-align: right\">【p03.046】</div>"
   ]
  },
  {
   "cell_type": "markdown",
   "metadata": {},
   "source": [
    "![](media/Ch03/image79.png) <div style=\"text-align: right\">【p03.047】</div>"
   ]
  },
  {
   "cell_type": "markdown",
   "metadata": {},
   "source": [
    "![](media/Ch03/image80.png) <div style=\"text-align: right\">【p03.048】</div>"
   ]
  },
  {
   "cell_type": "markdown",
   "metadata": {},
   "source": [
    "![](media/Ch03/image81.png) <div style=\"text-align: right\">【p03.049】</div>"
   ]
  },
  {
   "cell_type": "markdown",
   "metadata": {},
   "source": [
    "![](media/Ch03/image82.png) <div style=\"text-align: right\">【p03.050】</div>"
   ]
  },
  {
   "cell_type": "markdown",
   "metadata": {},
   "source": [
    "![](media/Ch03/image83.png) <div style=\"text-align: right\">【p03.051】</div>\n",
    "![](media/Ch03/image84.png) <div style=\"text-align: right\">【p03.052】</div>"
   ]
  },
  {
   "cell_type": "markdown",
   "metadata": {},
   "source": [
    "![](media/Ch03/image85.png) <div style=\"text-align: right\">【p03.053】</div>"
   ]
  },
  {
   "cell_type": "markdown",
   "metadata": {},
   "source": [
    "![](media/Ch03/image86.png) <div style=\"text-align: right\">【p03.054】</div>"
   ]
  },
  {
   "cell_type": "code",
   "execution_count": 629,
   "metadata": {},
   "outputs": [
    {
     "data": {
      "image/png": "[encoded data removed]",
      "text/latex": [
       "$\\displaystyle 0.520091216596443$"
      ],
      "text/plain": [
       "0.520091216596443"
      ]
     },
     "execution_count": 629,
     "metadata": {},
     "output_type": "execute_result"
    }
   ],
   "source": [
    "import numpy as np\n",
    "import scipy.stats as st\n",
    "\n",
    "#(a)\n",
    "st.norm.isf(.3015)"
   ]
  },
  {
   "cell_type": "markdown",
   "metadata": {},
   "source": [
    ".4197 = cdf(-.18) - cdf(k)\n",
    "\n",
    "cdf(k)= cdf(-.18)- .4197"
   ]
  },
  {
   "cell_type": "code",
   "execution_count": 630,
   "metadata": {},
   "outputs": [
    {
     "data": {
      "image/png": "[encoded data removed]",
      "text/latex": [
       "$\\displaystyle 0.008876284099099241$"
      ],
      "text/plain": [
       "0.008876284099099241"
      ]
     },
     "execution_count": 630,
     "metadata": {},
     "output_type": "execute_result"
    }
   ],
   "source": [
    "st.norm.cdf(-.18)-.4197"
   ]
  },
  {
   "cell_type": "code",
   "execution_count": 631,
   "metadata": {},
   "outputs": [
    {
     "data": {
      "image/png": "[encoded data removed]",
      "text/latex": [
       "$\\displaystyle -2.370738875989238$"
      ],
      "text/plain": [
       "-2.370738875989238"
      ]
     },
     "execution_count": 631,
     "metadata": {},
     "output_type": "execute_result"
    }
   ],
   "source": [
    "k= st.norm.ppf(0.008876284099099241)\n",
    "k"
   ]
  },
  {
   "cell_type": "markdown",
   "metadata": {},
   "source": [
    "\n",
    "## 記住這4個 methods\n",
    "\n",
    "- 左尾曲線下面積= ```norm.cdf(z)``` = P(Z <=z)\n",
    "- 右尾曲線下面積= ```norm.sf(z)```  = P(Z > z) = 1 - norm.cdf(z)\n",
    "\n",
    "- norm.cdf(z) 之反函數 =  ```norm.ppf()```\n",
    "- norm.sf(z)  之反函數 =  ```norm.isf()```\n"
   ]
  },
  {
   "cell_type": "markdown",
   "metadata": {},
   "source": []
  },
  {
   "cell_type": "markdown",
   "metadata": {},
   "source": [
    "![](media/Ch03/image87.png) <div style=\"text-align: right\">【p03.055】</div>"
   ]
  },
  {
   "cell_type": "markdown",
   "metadata": {},
   "source": [
    "![](media/Ch03/image88.png) <div style=\"text-align: right\">【p03.056】</div>"
   ]
  },
  {
   "cell_type": "markdown",
   "metadata": {},
   "source": [
    "![](media/Ch03/image89.png) <div style=\"text-align: right\">【p03.057】</div>"
   ]
  },
  {
   "cell_type": "markdown",
   "metadata": {},
   "source": [
    "![](media/Ch03/image90.png) <div style=\"text-align: right\">【p03.058】</div>"
   ]
  },
  {
   "cell_type": "code",
   "execution_count": 632,
   "metadata": {},
   "outputs": [
    {
     "data": {
      "image/png": "[encoded data removed]",
      "text/latex": [
       "$\\displaystyle \\left( 0.5763927910523049, \\  0.5763927910523049\\right)$"
      ],
      "text/plain": [
       "(0.5763927910523049, 0.5763927910523049)"
      ]
     },
     "execution_count": 632,
     "metadata": {},
     "output_type": "execute_result"
    }
   ],
   "source": [
    "ans1= st.norm.cdf((62-50)/10) - st.norm.cdf((45-50)/10)\n",
    "ans2= st.norm.cdf(62, 50, 10) - st.norm.cdf(45, 50, 10)\n",
    "\n",
    "ans1, ans2"
   ]
  },
  {
   "cell_type": "code",
   "execution_count": 633,
   "metadata": {},
   "outputs": [],
   "source": [
    "st.norm?"
   ]
  },
  {
   "cell_type": "markdown",
   "metadata": {},
   "source": [
    "Notes\n",
    "-----\n",
    "The probability density function for `norm` is:\n",
    "\n",
    "$\n",
    "    f(x) = \\frac{\\exp(-x^2/2)}{\\sqrt{2\\pi}}\n",
    "$\n",
    "\n",
    "for a real number `x`\n"
   ]
  },
  {
   "cell_type": "markdown",
   "metadata": {},
   "source": [
    "![](media/Ch03/image91.png) <div style=\"text-align: right\">【p03.059】</div>\n",
    "![](media/Ch03/image92.png) <div style=\"text-align: right\">【p03.060】</div>\n",
    "\n",
    "![](media/Ch03/image93.png) <div style=\"text-align: right\">【p03.061】</div>\n",
    "![](media/Ch03/image94.png) <div style=\"text-align: right\">【p03.062】</div>\n",
    "![](media/Ch03/image95.png) <div style=\"text-align: right\">【p03.063】</div>\n",
    "![](media/Ch03/image96.png) <div style=\"text-align: right\">【p03.064】</div>\n",
    "![](media/Ch03/image97.png) <div style=\"text-align: right\">【p03.065】</div>\n",
    "\n",
    "![](media/Ch03/image98.png) <div style=\"text-align: right\">【p03.066】</div>\n",
    "![](media/Ch03/image99.png) <div style=\"text-align: right\">【p03.067】</div>\n",
    "![](media/Ch03/image100.png) <div style=\"text-align: right\">【p03.068】</div>\n",
    "![](media/Ch03/image101.png) <div style=\"text-align: right\">【p03.069】</div>\n",
    "![](media/Ch03/image102.png) <div style=\"text-align: right\">【p03.070】</div>\n",
    "\n",
    "![](media/Ch03/image103.png) <div style=\"text-align: right\">【p03.071】</div>\n",
    "![](media/Ch03/image104.png) <div style=\"text-align: right\">【p03.072】</div>\n",
    "![](media/Ch03/image105.png) <div style=\"text-align: right\">【p03.073】</div>\n",
    "![](media/Ch03/image106.png) <div style=\"text-align: right\">【p03.074】</div>\n",
    "![](media/Ch03/image107.png) <div style=\"text-align: right\">【p03.075】</div>\n",
    "\n",
    "![](media/Ch03/image108.png) <div style=\"text-align: right\">【p03.076】</div>\n",
    "![](media/Ch03/image109.png) <div style=\"text-align: right\">【p03.077】</div>\n",
    "![](media/Ch03/image112.png) <div style=\"text-align: right\">【p03.078】</div>\n",
    "![](media/Ch03/image113.png) <div style=\"text-align: right\">【p03.079】</div>\n",
    "![](media/Ch03/image114.png) <div style=\"text-align: right\">【p03.080】</div>\n",
    "\n",
    "![](media/Ch03/image115.png) <div style=\"text-align: right\">【p03.081】</div>\n",
    "![](media/Ch03/image116.png) <div style=\"text-align: right\">【p03.082】</div>\n",
    "![](media/Ch03/image117.png) <div style=\"text-align: right\">【p03.083】</div>\n",
    "![](media/Ch03/image118.png) <div style=\"text-align: right\">【p03.084】</div>\n",
    "![](media/Ch03/image119.png) <div style=\"text-align: right\">【p03.085】</div>\n",
    "\n",
    "![](media/Ch03/image120.png) <div style=\"text-align: right\">【p03.086】</div>\n",
    "![](media/Ch03/image121.png) <div style=\"text-align: right\">【p03.087】</div>\n",
    "![](media/Ch03/image122.png) <div style=\"text-align: right\">【p03.088】</div>\n",
    "![](media/Ch03/image123.png) <div style=\"text-align: right\">【p03.089】</div>"
   ]
  },
  {
   "cell_type": "markdown",
   "metadata": {},
   "source": [
    "## Gamma Distribution"
   ]
  },
  {
   "cell_type": "markdown",
   "metadata": {},
   "source": [
    "![](media/Ch03/image128.png) <div style=\"text-align: right\">【p03.090】</div>"
   ]
  },
  {
   "cell_type": "markdown",
   "metadata": {},
   "source": [
    "![](media/Ch03/image129.png) <div style=\"text-align: right\">【p03.091】</div>"
   ]
  },
  {
   "cell_type": "markdown",
   "metadata": {},
   "source": [
    "![](media/Ch03/image130.png) <div style=\"text-align: right\">【p03.092】</div>"
   ]
  },
  {
   "cell_type": "code",
   "execution_count": 634,
   "metadata": {},
   "outputs": [
    {
     "data": {
      "image/png": "[encoded data removed]",
      "text/latex": [
       "$\\displaystyle \\left( x^{\\alpha - 1} e^{- \\frac{x}{\\beta}}, \\  \\int\\limits_{0}^{\\infty} x^{\\alpha - 1} e^{- \\frac{x}{\\beta}}\\, dx\\right)$"
      ],
      "text/plain": [
       "⎛             ∞               ⎞\n",
       "⎜             ⌠               ⎟\n",
       "⎜        -x   ⎮         -x    ⎟\n",
       "⎜        ───  ⎮         ───   ⎟\n",
       "⎜ α - 1   β   ⎮  α - 1   β    ⎟\n",
       "⎜x     ⋅ℯ   , ⎮ x     ⋅ℯ    dx⎟\n",
       "⎜             ⌡               ⎟\n",
       "⎝             0               ⎠"
      ]
     },
     "execution_count": 634,
     "metadata": {},
     "output_type": "execute_result"
    }
   ],
   "source": [
    "import sympy as sy\n",
    "\n",
    "x=           sy.symbols('x')\n",
    "alpha, beta= sy.symbols('alpha, beta', positive= True)\n",
    "f= x**(alpha-1) * sy.exp(-x/beta)\n",
    "F= sy.Integral(f,(x,0,sy.oo))\n",
    "f, F"
   ]
  },
  {
   "cell_type": "code",
   "execution_count": 635,
   "metadata": {},
   "outputs": [
    {
     "data": {
      "image/png": "[encoded data removed]",
      "text/latex": [
       "$\\displaystyle \\beta^{\\alpha} \\Gamma\\left(\\alpha\\right)$"
      ],
      "text/plain": [
       " α     \n",
       "β ⋅Γ(α)"
      ]
     },
     "execution_count": 635,
     "metadata": {},
     "output_type": "execute_result"
    }
   ],
   "source": [
    "F.doit().simplify()"
   ]
  },
  {
   "cell_type": "code",
   "execution_count": 636,
   "metadata": {},
   "outputs": [],
   "source": [
    "sy.gamma?"
   ]
  },
  {
   "cell_type": "markdown",
   "metadata": {},
   "source": [
    "$\n",
    "    \\Gamma(x) := \\int^{\\infty}_{0} t^{x-1} e^{-t} \\mathrm{d}t.\n",
    "$"
   ]
  },
  {
   "cell_type": "code",
   "execution_count": 637,
   "metadata": {},
   "outputs": [
    {
     "data": {
      "text/plain": [
       "True"
      ]
     },
     "execution_count": 637,
     "metadata": {},
     "output_type": "execute_result"
    }
   ],
   "source": [
    "sy.gamma(10) == sy.factorial(9)"
   ]
  },
  {
   "cell_type": "code",
   "execution_count": 638,
   "metadata": {},
   "outputs": [
    {
     "data": {
      "image/png": "[encoded data removed]",
      "text/latex": [
       "$\\displaystyle \\left( 0.9048374180359595, \\  0.9\\right)$"
      ],
      "text/plain": [
       "(0.9048374180359595, 0.9)"
      ]
     },
     "execution_count": 638,
     "metadata": {},
     "output_type": "execute_result"
    }
   ],
   "source": [
    "b= 10\n",
    "np.exp(-1/b), 1-1/b"
   ]
  },
  {
   "cell_type": "markdown",
   "metadata": {},
   "source": [
    "# Gamma (Erlang) vs Negative Binomial"
   ]
  },
  {
   "cell_type": "markdown",
   "metadata": {},
   "source": [
    "https://en.wikipedia.org/wiki/Relationships_among_probability_distributions\n"
   ]
  },
  {
   "cell_type": "markdown",
   "metadata": {},
   "source": [
    "Examples:[3][4]\n",
    "\n",
    "- If X1 and X2 are Poisson random variables with means μ1 and μ2 respectively, then X1 + X2 is a Poisson random variable with mean μ1 + μ2.\n",
    "- The sum of gamma (ni, β) random variables has a gamma (Σni, β) distribution.\n",
    "- If X1 is a Cauchy (μ1, σ1) random variable and X2 is a Cauchy (μ2, σ2), then X1 + X2 is a Cauchy (μ1 + μ2, σ1 + σ2) random variable.\n",
    "- If X1 and X2 are chi-squared random variables with ν1 and ν2 degrees of freedom respectively, then X1 + X2 is a chi-squared random variable with ν1 + ν2 degrees of freedom.\n",
    "- If X1 is a normal (μ1, σ2\n",
    "- 1) random variable and X2 is a normal (μ2, σ2\n",
    "- 2) random variable, then X1 + X2 is a normal (μ1 + μ2, σ2\n",
    "- 1 + σ2\n",
    "- 2) random variable.\n",
    "- The sum of N chi-squared (1) random variables has a chi-squared distribution with N degrees of freedom.\n",
    "- Other distributions are not closed under convolution, but their sum has a known distribution:\n",
    "- \n",
    "- The sum of n Bernoulli (p) random variables is a binomial (n, p) random variable.\n",
    "- The sum of n geometric random variable with probability of success p is a negative binomial random variable with parameters n and p.\n",
    "- The sum of n exponential (β) random variables is a gamma (n, β) random variable.\n",
    "- If the exponential random variables have a common rate parameter, their sum has an Erlang distribution, a special case of the gamma distribution.\n",
    "- The sum of the squares of N standard normal random variables has a chi-squared distribution with N degrees of freedom."
   ]
  },
  {
   "cell_type": "markdown",
   "metadata": {},
   "source": [
    "[Univariate Distribution Relationships](http://www.math.wm.edu/~leemis/2008amstat.pdf)\n",
    "\n",
    "![](https://upload.wikimedia.org/wikipedia/commons/6/69/Relationships_among_some_of_univariate_probability_distributions.jpg)\n"
   ]
  },
  {
   "cell_type": "code",
   "execution_count": 639,
   "metadata": {},
   "outputs": [
    {
     "data": {
      "image/png": "[encoded data removed]",
      "text/latex": [
       "$\\displaystyle \\left( \\frac{1}{x^{2} + 1}, \\  \\int\\limits_{-\\infty}^{\\infty} \\frac{1}{x^{2} + 1}\\, dx, \\  \\pi\\right)$"
      ],
      "text/plain": [
       "⎛        ∞              ⎞\n",
       "⎜        ⌠              ⎟\n",
       "⎜  1     ⎮    1         ⎟\n",
       "⎜──────, ⎮  ────── dx, π⎟\n",
       "⎜ 2      ⎮   2          ⎟\n",
       "⎜x  + 1  ⎮  x  + 1      ⎟\n",
       "⎜        ⌡              ⎟\n",
       "⎝        -∞             ⎠"
      ]
     },
     "execution_count": 639,
     "metadata": {},
     "output_type": "execute_result"
    }
   ],
   "source": [
    "# Cauchy\n",
    "f= sp.S(1)/(1+x**2) *1\n",
    "F= sp.Integral(f,(x,-sp.oo, sp.oo))\n",
    "f, F, F.doit()"
   ]
  },
  {
   "cell_type": "code",
   "execution_count": 640,
   "metadata": {},
   "outputs": [
    {
     "data": {
      "image/png": "[encoded data removed]",
      "text/latex": [
       "$\\displaystyle \\left( \\tan{\\left(z \\right)}, \\  \\frac{d}{d z} \\tan{\\left(z \\right)}, \\  \\tan^{2}{\\left(z \\right)} + 1\\right)$"
      ],
      "text/plain": [
       "⎛        d              2       ⎞\n",
       "⎜tan(z), ──(tan(z)), tan (z) + 1⎟\n",
       "⎝        dz                     ⎠"
      ]
     },
     "execution_count": 640,
     "metadata": {},
     "output_type": "execute_result"
    }
   ],
   "source": [
    "Fz= sp.tan(z)\n",
    "fz= sp.Derivative(Fz,z)\n",
    "Fz, fz, fz.doit()"
   ]
  },
  {
   "cell_type": "code",
   "execution_count": null,
   "metadata": {},
   "outputs": [],
   "source": []
  },
  {
   "cell_type": "code",
   "execution_count": 641,
   "metadata": {},
   "outputs": [
    {
     "data": {
      "image/png": "[encoded data removed]",
      "text/latex": [
       "$\\displaystyle \\left( \\tan{\\left(x \\right)}, \\  \\frac{d}{d x} \\tan{\\left(x \\right)}, \\  \\tan^{2}{\\left(x \\right)} + 1, \\  \\int\\limits_{0}^{x} \\tan{\\left(x \\right)}\\, dx, \\  - \\log{\\left(\\cos{\\left(x \\right)} \\right)}\\right)$"
      ],
      "text/plain": [
       "⎛                                 x                        ⎞\n",
       "⎜        d              2         ⌠                        ⎟\n",
       "⎜tan(x), ──(tan(x)), tan (x) + 1, ⎮ tan(x) dx, -log(cos(x))⎟\n",
       "⎜        dx                       ⌡                        ⎟\n",
       "⎝                                 0                        ⎠"
      ]
     },
     "execution_count": 641,
     "metadata": {},
     "output_type": "execute_result"
    }
   ],
   "source": [
    "fx=  sp.tan(x)\n",
    "\n",
    "dfx= sp.Derivative(fx,x)\n",
    "Fx=  sp.Integral(fx,(x,0,x))\n",
    "\n",
    "fx,  \\\n",
    "dfx, dfx.doit(), \\\n",
    "Fx,  Fx.doit()"
   ]
  },
  {
   "cell_type": "code",
   "execution_count": 642,
   "metadata": {},
   "outputs": [
    {
     "data": {
      "image/png": "[encoded data removed]",
      "text/latex": [
       "$\\displaystyle \\left( \\operatorname{atan}{\\left(x \\right)}, \\  \\frac{d}{d x} \\operatorname{atan}{\\left(x \\right)}, \\  \\frac{1}{x^{2} + 1}, \\  \\int\\limits_{0}^{z} \\operatorname{atan}{\\left(x \\right)}\\, dx, \\  z \\operatorname{atan}{\\left(z \\right)} - \\frac{\\log{\\left(z^{2} + 1 \\right)}}{2}\\right)$"
      ],
      "text/plain": [
       "⎛                              z                            ⎛ 2    ⎞⎞\n",
       "⎜         d              1     ⌠                         log⎝z  + 1⎠⎟\n",
       "⎜atan(x), ──(atan(x)), ──────, ⎮ atan(x) dx, z⋅atan(z) - ───────────⎟\n",
       "⎜         dx            2      ⌡                              2     ⎟\n",
       "⎝                      x  + 1  0                                    ⎠"
      ]
     },
     "execution_count": 642,
     "metadata": {},
     "output_type": "execute_result"
    }
   ],
   "source": [
    "fx=  sp.atan(x)\n",
    "\n",
    "dfx= sp.Derivative(fx,x)\n",
    "Fx=  sp.Integral(fx,(x,0,z))\n",
    "\n",
    "fx,  \\\n",
    "dfx, dfx.doit(), \\\n",
    "Fx,  Fx.doit()"
   ]
  },
  {
   "cell_type": "code",
   "execution_count": null,
   "metadata": {},
   "outputs": [],
   "source": []
  },
  {
   "cell_type": "code",
   "execution_count": 643,
   "metadata": {},
   "outputs": [],
   "source": [
    "st.cauchy?"
   ]
  },
  {
   "cell_type": "code",
   "execution_count": 644,
   "metadata": {},
   "outputs": [
    {
     "data": {
      "image/png": "[encoded data removed]",
      "text/latex": [
       "$\\displaystyle \\left( e^{- \\frac{x^{2}}{2}}, \\  \\int\\limits_{-\\infty}^{\\infty} e^{- \\frac{x^{2}}{2}}\\, dx, \\  \\sqrt{2} \\sqrt{\\pi}\\right)$"
      ],
      "text/plain": [
       "⎛       ∞                 ⎞\n",
       "⎜       ⌠                 ⎟\n",
       "⎜   2   ⎮     2           ⎟\n",
       "⎜ -x    ⎮   -x            ⎟\n",
       "⎜ ────  ⎮   ────          ⎟\n",
       "⎜  2    ⎮    2            ⎟\n",
       "⎜ℯ    , ⎮  ℯ     dx, √2⋅√π⎟\n",
       "⎜       ⌡                 ⎟\n",
       "⎝       -∞                ⎠"
      ]
     },
     "execution_count": 644,
     "metadata": {},
     "output_type": "execute_result"
    }
   ],
   "source": [
    "# Bell-curve's Area\n",
    "\n",
    "f= sp.exp(-sp.S(1)/2*x**2)\n",
    "F= sp.Integral(f,(x,-sp.oo, sp.oo))\n",
    "f, F, F.doit()"
   ]
  },
  {
   "cell_type": "code",
   "execution_count": 645,
   "metadata": {},
   "outputs": [
    {
     "data": {
      "image/png": "[encoded data removed]",
      "text/latex": [
       "$\\displaystyle \\left( \\frac{\\sqrt{2} e^{- \\frac{x^{2}}{2}}}{2 \\sqrt{\\pi}}, \\  \\int\\limits_{-\\infty}^{\\infty} \\frac{\\sqrt{2} e^{- \\frac{x^{2}}{2}}}{2 \\sqrt{\\pi}}\\, dx, \\  1\\right)$"
      ],
      "text/plain": [
       "⎛          ∞                ⎞\n",
       "⎜          ⌠                ⎟\n",
       "⎜      2   ⎮        2       ⎟\n",
       "⎜    -x    ⎮      -x        ⎟\n",
       "⎜    ────  ⎮      ────      ⎟\n",
       "⎜     2    ⎮       2        ⎟\n",
       "⎜√2⋅ℯ      ⎮  √2⋅ℯ          ⎟\n",
       "⎜────────, ⎮  ──────── dx, 1⎟\n",
       "⎜  2⋅√π    ⎮    2⋅√π        ⎟\n",
       "⎜          ⌡                ⎟\n",
       "⎝          -∞               ⎠"
      ]
     },
     "execution_count": 645,
     "metadata": {},
     "output_type": "execute_result"
    }
   ],
   "source": [
    "# Normal (standard)\n",
    "f= sp.exp(-sp.S(1)/2*x**2)/sp.sqrt(2*sp.pi)\n",
    "F= sp.Integral(f,(x,-sp.oo, sp.oo))\n",
    "f, F, F.doit()"
   ]
  },
  {
   "cell_type": "code",
   "execution_count": null,
   "metadata": {},
   "outputs": [],
   "source": []
  },
  {
   "cell_type": "code",
   "execution_count": null,
   "metadata": {},
   "outputs": [],
   "source": []
  },
  {
   "cell_type": "markdown",
   "metadata": {},
   "source": []
  },
  {
   "cell_type": "markdown",
   "metadata": {},
   "source": []
  },
  {
   "cell_type": "code",
   "execution_count": 646,
   "metadata": {},
   "outputs": [
    {
     "data": {
      "image/png": "[encoded data removed]",
      "text/latex": [
       "$\\displaystyle 1 + 6 q + 21 q^{2} + 56 q^{3} + 126 q^{4} + 252 q^{5} + 462 q^{6} + 792 q^{7} + 1287 q^{8} + 2002 q^{9} + O\\left(q^{10}\\right)$"
      ],
      "text/plain": [
       "              2       3        4        5        6        7         8         \n",
       "1 + 6⋅q + 21⋅q  + 56⋅q  + 126⋅q  + 252⋅q  + 462⋅q  + 792⋅q  + 1287⋅q  + 2002⋅q\n",
       "\n",
       "9    ⎛ 10⎞\n",
       "  + O⎝q  ⎠"
      ]
     },
     "execution_count": 646,
     "metadata": {},
     "output_type": "execute_result"
    }
   ],
   "source": [
    "# Series Expansion\n",
    "\n",
    "p, q, k, r= sy.symbols('p, q, k, r')\n",
    "\n",
    "n= k+r\n",
    "\n",
    "p= 1-q\n",
    "\n",
    "f= (1-q)**-6\n",
    "\n",
    "f.series(n=10)"
   ]
  },
  {
   "cell_type": "code",
   "execution_count": 647,
   "metadata": {},
   "outputs": [
    {
     "data": {
      "image/png": "[encoded data removed]",
      "text/latex": [
       "$\\displaystyle \\left( \\frac{1}{\\left(1 - q\\right)^{6}}, \\  \\frac{1}{q^{6} - 6 q^{5} + 15 q^{4} - 20 q^{3} + 15 q^{2} - 6 q + 1}, \\  1 + 6 q + 21 q^{2} + 56 q^{3} + 126 q^{4} + 252 q^{5} + O\\left(q^{6}\\right), \\  \\frac{1}{\\left(q - 1\\right)^{6}}\\right)$"
      ],
      "text/plain": [
       "⎛   1                           1                                     2       \n",
       "⎜────────, ───────────────────────────────────────────, 1 + 6⋅q + 21⋅q  + 56⋅q\n",
       "⎜       6   6      5       4       3       2                                  \n",
       "⎝(1 - q)   q  - 6⋅q  + 15⋅q  - 20⋅q  + 15⋅q  - 6⋅q + 1                        \n",
       "\n",
       "3        4        5    ⎛ 6⎞     1    ⎞\n",
       "  + 126⋅q  + 252⋅q  + O⎝q ⎠, ────────⎟\n",
       "                                    6⎟\n",
       "                             (q - 1) ⎠"
      ]
     },
     "execution_count": 647,
     "metadata": {},
     "output_type": "execute_result"
    }
   ],
   "source": [
    "f, f.expand(), f.series(), f.factor()"
   ]
  },
  {
   "cell_type": "code",
   "execution_count": 648,
   "metadata": {},
   "outputs": [
    {
     "data": {
      "image/png": "[encoded data removed]",
      "text/latex": [
       "$\\displaystyle 1 + 6 q + 21 q^{2} + 56 q^{3} + 126 q^{4} + 252 q^{5} + O\\left(q^{6}\\right)$"
      ],
      "text/plain": [
       "              2       3        4        5    ⎛ 6⎞\n",
       "1 + 6⋅q + 21⋅q  + 56⋅q  + 126⋅q  + 252⋅q  + O⎝q ⎠"
      ]
     },
     "execution_count": 648,
     "metadata": {},
     "output_type": "execute_result"
    }
   ],
   "source": [
    "f.expand().simplify().series()"
   ]
  },
  {
   "cell_type": "code",
   "execution_count": 649,
   "metadata": {},
   "outputs": [
    {
     "data": {
      "image/png": "[encoded data removed]",
      "text/latex": [
       "$\\displaystyle \\left( x^{4} e^{- \\frac{x}{2}}, \\  \\int\\limits_{0}^{z} x^{4} e^{- \\frac{x}{2}}\\, dx, \\  \\left(- 2 z^{4} - 16 z^{3} - 96 z^{2} - 384 z - 768\\right) e^{- \\frac{z}{2}} + 768\\right)$"
      ],
      "text/plain": [
       "⎛         z                                                              ⎞\n",
       "⎜         ⌠                                                              ⎟\n",
       "⎜    -x   ⎮     -x                                              -z       ⎟\n",
       "⎜    ───  ⎮     ───                                             ───      ⎟\n",
       "⎜ 4   2   ⎮  4   2      ⎛     4       3       2              ⎞   2       ⎟\n",
       "⎜x ⋅ℯ   , ⎮ x ⋅ℯ    dx, ⎝- 2⋅z  - 16⋅z  - 96⋅z  - 384⋅z - 768⎠⋅ℯ    + 768⎟\n",
       "⎜         ⌡                                                              ⎟\n",
       "⎝         0                                                              ⎠"
      ]
     },
     "execution_count": 649,
     "metadata": {},
     "output_type": "execute_result"
    }
   ],
   "source": [
    "f= x**4 * sy.exp(-x/2)\n",
    "F= sy.Integral(f,(x,0,z))\n",
    "f, F, F.doit()"
   ]
  },
  {
   "cell_type": "code",
   "execution_count": 650,
   "metadata": {},
   "outputs": [
    {
     "data": {
      "image/png": "[encoded data removed]",
      "text/latex": [
       "$\\displaystyle \\sqrt{2} \\sqrt{\\pi}$"
      ],
      "text/plain": [
       "√2⋅√π"
      ]
     },
     "execution_count": 650,
     "metadata": {},
     "output_type": "execute_result"
    }
   ],
   "source": [
    "sy.sqrt(sy.S(2) * sy.pi)"
   ]
  },
  {
   "cell_type": "markdown",
   "metadata": {},
   "source": []
  },
  {
   "cell_type": "markdown",
   "metadata": {},
   "source": [
    "## Exponential"
   ]
  },
  {
   "cell_type": "markdown",
   "metadata": {},
   "source": [
    "![](media/Ch03/image131.png) <div style=\"text-align: right\">【p03.093】</div>"
   ]
  },
  {
   "cell_type": "markdown",
   "metadata": {},
   "source": [
    "$\n",
    "e^t = 1 + t^2 + t^3 + t^4 + ....\n",
    "$\n",
    "\n",
    "$\n",
    "\\frac{1}{1-t} = 1 + t^2 + t^3 + t^4 + ....\n",
    "$\n"
   ]
  },
  {
   "cell_type": "markdown",
   "metadata": {},
   "source": [
    "Exponential vs Geom\n",
    "====\n"
   ]
  },
  {
   "cell_type": "markdown",
   "metadata": {},
   "source": []
  },
  {
   "cell_type": "markdown",
   "metadata": {},
   "source": [
    "![](media/Ch03/image132.png) <div style=\"text-align: right\">【p03.094】</div>"
   ]
  },
  {
   "cell_type": "markdown",
   "metadata": {},
   "source": [
    "![](media/Ch03/image133.png) <div style=\"text-align: right\">【p03.095】</div>\n",
    "\n",
    "![](media/Ch03/image140.png) <div style=\"text-align: right\">【p03.096】</div>\n",
    "![](media/Ch03/image142.png) <div style=\"text-align: right\">【p03.097】</div>\n",
    "![](media/Ch03/image143.png) <div style=\"text-align: right\">【p03.098】</div>\n",
    "![](media/Ch03/image144.png) <div style=\"text-align: right\">【p03.099】</div>\n",
    "![](media/Ch03/image145.png) <div style=\"text-align: right\">【p03.100】</div>\n",
    "\n",
    "![](media/Ch03/image146.png) <div style=\"text-align: right\">【p03.101】</div>\n",
    "![](media/Ch03/image147.png) <div style=\"text-align: right\">【p03.102】</div>\n",
    "![](media/Ch03/image148.png) <div style=\"text-align: right\">【p03.103】</div>\n",
    "![](media/Ch03/image149.png) <div style=\"text-align: right\">【p03.104】</div>\n",
    "![](media/Ch03/image150.png) <div style=\"text-align: right\">【p03.105】</div>\n",
    "\n",
    "![](media/Ch03/image153.png) <div style=\"text-align: right\">【p03.106】</div>\n",
    "![](media/Ch03/image154.png) <div style=\"text-align: right\">【p03.107】</div>"
   ]
  },
  {
   "cell_type": "markdown",
   "metadata": {},
   "source": []
  },
  {
   "cell_type": "markdown",
   "metadata": {},
   "source": []
  },
  {
   "cell_type": "markdown",
   "metadata": {},
   "source": []
  },
  {
   "cell_type": "markdown",
   "metadata": {},
   "source": [
    "# probCh03_1 \n",
    "\n",
    "![](media_en/ch03/image12.png) <div style=\"text-align: right\">【q03.006】</div>\n",
    "![](media_en/ch03/image13.png) <div style=\"text-align: right\">【q03.007】</div>\n",
    "![](media_en/ch03/image14.png) <div style=\"text-align: right\">【q03.008】</div>\n",
    "![](media_en/ch03/image15.png) <div style=\"text-align: right\">【q03.009】</div>\n",
    "![](media_en/ch03/image16.png) <div style=\"text-align: right\">【q03.010】</div>\n",
    "\n",
    "![](media_en/ch03/image17.png) <div style=\"text-align: right\">【q03.011】</div>\n",
    "![](media_en/ch03/image18.png) <div style=\"text-align: right\">【q03.012】</div>\n",
    "![](media_en/ch03/image19.png) <div style=\"text-align: right\">【q03.013】</div>\n",
    "![](media_en/ch03/image20.png) <div style=\"text-align: right\">【q03.014】</div>\n",
    "![](media_en/ch03/image21.png) <div style=\"text-align: right\">【q03.015】</div>\n",
    "\n",
    "![](media_en/ch03/image22.png) <div style=\"text-align: right\">【q03.016】</div>\n",
    "![](media_en/ch03/image23.png) <div style=\"text-align: right\">【q03.017】</div>\n",
    "![](media_en/ch03/image24.png) <div style=\"text-align: right\">【q03.018】</div>\n",
    "![](media_en/ch03/image25.png) <div style=\"text-align: right\">【q03.019】</div>\n",
    "![](media_en/ch03/image26.png) <div style=\"text-align: right\">【q03.020】</div>\n",
    "\n",
    "![](media_en/ch03/image27.png) <div style=\"text-align: right\">【q03.021】</div>\n",
    "![](media_en/ch03/image28.png) <div style=\"text-align: right\">【q03.022】</div>\n",
    "![](media_en/ch03/image29.png) <div style=\"text-align: right\">【q03.023】</div>\n",
    "![](media_en/ch03/image30.png) <div style=\"text-align: right\">【q03.024】</div>\n",
    "![](media_en/ch03/image31.png) <div style=\"text-align: right\">【q03.025】</div>\n",
    "\n",
    "![](media_en/ch03/image32.png) <div style=\"text-align: right\">【q03.026】</div>\n",
    "![](media_en/ch03/image33.png) <div style=\"text-align: right\">【q03.027】</div>\n",
    "![](media_en/ch03/image34.png) <div style=\"text-align: right\">【q03.028】</div>\n",
    "![](media_en/ch03/image35.png) <div style=\"text-align: right\">【q03.029】</div>\n",
    "![](media_en/ch03/image36.png) <div style=\"text-align: right\">【q03.030】</div>\n",
    "\n",
    "![](media_en/ch03/image37.png) <div style=\"text-align: right\">【q03.031】</div>\n",
    "![](media_en/ch03/image39.png) <div style=\"text-align: right\">【q03.032】</div>\n",
    "![](media_en/ch03/image40.png) <div style=\"text-align: right\">【q03.033】</div>\n",
    "![](media_en/ch03/image41.png) <div style=\"text-align: right\">【q03.034】</div>\n",
    "![](media_en/ch03/image42.png) <div style=\"text-align: right\">【q03.035】</div>\n",
    "\n",
    "![](media_en/ch03/image43.png) <div style=\"text-align: right\">【q03.036】</div>\n",
    "![](media_en/ch03/image44.png) <div style=\"text-align: right\">【q03.037】</div>\n",
    "![](media_en/ch03/image45.png) <div style=\"text-align: right\">【q03.038】</div>\n",
    "![](media_en/ch03/image46.png) <div style=\"text-align: right\">【q03.039】</div>\n",
    "![](media_en/ch03/image47.png) <div style=\"text-align: right\">【q03.040】</div>\n",
    "\n",
    "![](media_en/ch03/image48.png) <div style=\"text-align: right\">【q03.041】</div>\n",
    "![](media_en/ch03/image49.png) <div style=\"text-align: right\">【q03.042】</div>"
   ]
  }
 ],
 "metadata": {
  "kernelspec": {
   "display_name": "Python 3",
   "language": "python",
   "name": "python3"
  },
  "language_info": {
   "codemirror_mode": {
    "name": "ipython",
    "version": 3
   },
   "file_extension": ".py",
   "mimetype": "text/x-python",
   "name": "python",
   "nbconvert_exporter": "python",
   "pygments_lexer": "ipython3",
   "version": "3.7.4"
  },
  "latex_envs": {
   "LaTeX_envs_menu_present": true,
   "autoclose": false,
   "autocomplete": true,
   "bibliofile": "biblio.bib",
   "cite_by": "apalike",
   "current_citInitial": 1,
   "eqLabelWithNumbers": true,
   "eqNumInitial": 1,
   "hotkeys": {
    "equation": "Ctrl-E",
    "itemize": "Ctrl-I"
   },
   "labels_anchors": false,
   "latex_user_defs": false,
   "report_style_numbering": false,
   "user_envs_cfg": false
  },
  "nbTranslate": {
   "displayLangs": [
    "zh-TW",
    "en"
   ],
   "hotkey": "alt-t",
   "langInMainMenu": true,
   "sourceLang": "en",
   "targetLang": "zh-TW",
   "useGoogleTranslate": true
  },
  "toc": {
   "base_numbering": 1,
   "nav_menu": {},
   "number_sections": false,
   "sideBar": true,
   "skip_h1_title": false,
   "title_cell": "Table of Contents",
   "title_sidebar": "Contents",
   "toc_cell": false,
   "toc_position": {},
   "toc_section_display": false,
   "toc_window_display": true
  },
  "varInspector": {
   "cols": {
    "lenName": 16,
    "lenType": 16,
    "lenVar": 40
   },
   "kernels_config": {
    "python": {
     "delete_cmd_postfix": "",
     "delete_cmd_prefix": "del ",
     "library": "var_list.py",
     "varRefreshCmd": "print(var_dic_list())"
    },
    "r": {
     "delete_cmd_postfix": ") ",
     "delete_cmd_prefix": "rm(",
     "library": "var_list.r",
     "varRefreshCmd": "cat(var_dic_list()) "
    }
   },
   "types_to_exclude": [
    "module",
    "function",
    "builtin_function_or_method",
    "instance",
    "_Feature"
   ],
   "window_display": false
  }
 },
 "nbformat": 4,
 "nbformat_minor": 2
}
