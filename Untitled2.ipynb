{
 "cells": [
  {
   "cell_type": "code",
   "execution_count": 2,
   "metadata": {},
   "outputs": [
    {
     "data": {
      "text/plain": [
       "True"
      ]
     },
     "execution_count": 2,
     "metadata": {},
     "output_type": "execute_result"
    }
   ],
   "source": [
    "eval('2+2+2')==6"
   ]
  },
  {
   "cell_type": "code",
   "execution_count": 1,
   "metadata": {},
   "outputs": [
    {
     "name": "stdout",
     "output_type": "stream",
     "text": [
      "2+2+2\n",
      "2+2*2\n",
      "2*2+2\n",
      "3*3-3\n",
      "5+5/5\n",
      "5/5+5\n",
      "6+6-6\n",
      "6+6%6\n",
      "6-6+6\n",
      "6-6%6\n",
      "6*6/6\n",
      "6/6*6\n",
      "6%6+6\n",
      "7-7/7\n"
     ]
    }
   ],
   "source": [
    "for n in [2,3,4,5,6,7,8,9]:\n",
    "    for op1 in ['+','-','*','/','%']:\n",
    "        for op2 in ['+','-','*','/','%']:\n",
    "            exp= f'{n}{op1}{n}{op2}{n}'\n",
    "            y= eval(exp)==6\n",
    "            if y is True:\n",
    "                print(exp)\n",
    "            "
   ]
  },
  {
   "cell_type": "code",
   "execution_count": 33,
   "metadata": {},
   "outputs": [
    {
     "name": "stdout",
     "output_type": "stream",
     "text": [
      "2+2+2\n",
      "2+2*2\n",
      "2*2+2\n",
      "3*3-3\n",
      "5+5/5\n",
      "5/5+5\n",
      "6+6-6\n",
      "6+6%6\n",
      "6-6+6\n",
      "6-6%6\n",
      "6*6/6\n",
      "6/6*6\n",
      "6%6+6\n",
      "7-7/7\n"
     ]
    }
   ],
   "source": [
    "import numpy as np\n",
    "\n",
    "nums= [2,3,4,5,6,7,8,9]\n",
    "ops=  ['+','-','*','/','%']\n",
    "\n",
    "for n in nums:\n",
    "    for op1 in ops:\n",
    "        for op2 in ops:\n",
    "            exp= f'{n}{op1}{n}{op2}{n}'\n",
    "            y= eval(exp)==6 \n",
    "            if y is True:\n",
    "                print(exp)"
   ]
  },
  {
   "cell_type": "code",
   "execution_count": 43,
   "metadata": {},
   "outputs": [
    {
     "name": "stdout",
     "output_type": "stream",
     "text": [
      "2+2+2\n",
      "2+2*2\n",
      "2*2+2\n",
      "3*3-3\n",
      "5+5/5\n",
      "5/5+5\n",
      "6+6-6\n",
      "6+6%6\n",
      "6-6+6\n",
      "6-6%6\n",
      "6*6/6\n",
      "6/6*6\n",
      "6%6+6\n",
      "7-7/7\n"
     ]
    }
   ],
   "source": [
    "from math import sqrt\n",
    "nums= [2,3,4,5,6,7,8,9]\n",
    "ops=  ['+','-','*','/','%']\n",
    "\n",
    "for n in nums:\n",
    "    for op1 in ops:\n",
    "        for op2 in ops:\n",
    "            exp= f'{n}{op1}{n}{op2}{n}'\n",
    "            y= eval(exp)==6 \n",
    "            if y is True:\n",
    "                print(exp)\n"
   ]
  },
  {
   "cell_type": "code",
   "execution_count": 42,
   "metadata": {},
   "outputs": [
    {
     "name": "stdout",
     "output_type": "stream",
     "text": [
      "(2+2)+2\n",
      "2+(2+2)\n",
      "2+(2*2)\n",
      "(2*2)+2\n",
      "(3*3)-3\n",
      "5+(5/5)\n",
      "(5/5)+5\n",
      "(6+6)-6\n",
      "6+(6-6)\n",
      "6+(6%6)\n",
      "(6-6)+6\n",
      "6-(6-6)\n",
      "6-(6%6)\n",
      "(6*6)/6\n",
      "6*(6/6)\n",
      "(6/6)*6\n",
      "6/(6/6)\n",
      "(6%6)+6\n",
      "6%(6+6)\n",
      "6%(6*6)\n",
      "7-(7/7)\n"
     ]
    }
   ],
   "source": [
    "nums= [2,3,4,5,6,7,8,9]\n",
    "ops=  ['+','-','*','/','%']\n",
    "\n",
    "for n in nums:\n",
    "    for op1 in ops:\n",
    "        for op2 in ops:\n",
    "            exp= f'({n}{op1}{n}){op2}{n}'\n",
    "            try:\n",
    "                y= eval(exp)\n",
    "                y= (y==6)\n",
    "                if y is True:\n",
    "                    print(exp)\n",
    "            except:\n",
    "                pass\n",
    "            exp= f'{n}{op1}({n}{op2}{n})'\n",
    "            try:\n",
    "                y= eval(exp)\n",
    "                y= (y==6)\n",
    "                if y is True:\n",
    "                    print(exp)\n",
    "            except:\n",
    "                pass"
   ]
  },
  {
   "cell_type": "code",
   "execution_count": 63,
   "metadata": {},
   "outputs": [
    {
     "name": "stdout",
     "output_type": "stream",
     "text": [
      "(2) + (2) + (2)\n",
      "(2) + (2) * (2)\n",
      "(2) * (2) + (2)\n",
      "(3) + 平方根(3) * 平方根(3)\n",
      "平方根(3) * 平方根(3) + (3)\n",
      "(3) * (3) - (3)\n",
      "平方根(4) + 平方根(4) + 平方根(4)\n",
      "(4) + (4) - 平方根(4)\n",
      "平方根(4) + 平方根(4) * 平方根(4)\n",
      "(4) + (4) / 平方根(4)\n",
      "(4) + 平方根(4) % (4)\n",
      "(4) - 平方根(4) + (4)\n",
      "平方根(4) * 平方根(4) + 平方根(4)\n",
      "(4) * 平方根(4) - 平方根(4)\n",
      "平方根(4) * (4) - 平方根(4)\n",
      "(4) / 平方根(4) + (4)\n",
      "平方根(4) % (4) + (4)\n",
      "(5) + (5) / (5)\n",
      "(5) + 平方根(5) / 平方根(5)\n",
      "(5) + 立方根(5) / 立方根(5)\n",
      "(5) / (5) + (5)\n",
      "平方根(5) / 平方根(5) + (5)\n",
      "立方根(5) / 立方根(5) + (5)\n",
      "(6) + (6) - (6)\n",
      "(6) + 立方根(6) - 立方根(6)\n",
      "立方根(6) + (6) - 立方根(6)\n",
      "(6) + (6) % (6)\n",
      "(6) + 平方根(6) % 平方根(6)\n",
      "(6) + 立方根(6) % 立方根(6)\n",
      "(6) - (6) + (6)\n",
      "(6) - 平方根(6) + 平方根(6)\n",
      "(6) - 立方根(6) + 立方根(6)\n",
      "平方根(6) - 平方根(6) + (6)\n",
      "立方根(6) - 立方根(6) + (6)\n",
      "(6) - (6) % (6)\n",
      "(6) - 平方根(6) % 平方根(6)\n",
      "(6) - 立方根(6) % 立方根(6)\n",
      "立方根(6) * 立方根(6) * 立方根(6)\n",
      "(6) * (6) / (6)\n",
      "(6) * 平方根(6) / 平方根(6)\n",
      "(6) * 立方根(6) / 立方根(6)\n",
      "平方根(6) * (6) / 平方根(6)\n",
      "立方根(6) * (6) / 立方根(6)\n",
      "(6) / (6) * (6)\n",
      "(6) / 平方根(6) * 平方根(6)\n",
      "(6) / 立方根(6) * 立方根(6)\n",
      "平方根(6) / 平方根(6) * (6)\n",
      "立方根(6) / 立方根(6) * (6)\n",
      "(6) % (6) + (6)\n",
      "平方根(6) % 平方根(6) + (6)\n",
      "立方根(6) % 立方根(6) + (6)\n",
      "(7) - (7) / (7)\n",
      "(7) - 平方根(7) / 平方根(7)\n",
      "(7) - 立方根(7) / 立方根(7)\n",
      "立方根(8) + 立方根(8) + 立方根(8)\n",
      "立方根(8) + 立方根(8) * 立方根(8)\n",
      "立方根(8) + (8) / 立方根(8)\n",
      "(8) - 立方根(8) % (8)\n",
      "(8) - 立方根(8) % 平方根(8)\n",
      "立方根(8) * 立方根(8) + 立方根(8)\n",
      "(8) / 立方根(8) + 立方根(8)\n",
      "平方根(9) + (9) / 平方根(9)\n",
      "平方根(9) + 平方根(9) % (9)\n",
      "(9) - (9) / 平方根(9)\n",
      "(9) - 平方根(9) % (9)\n",
      "平方根(9) * 平方根(9) - 平方根(9)\n",
      "(9) / 平方根(9) + 平方根(9)\n",
      "平方根(9) % (9) + 平方根(9)\n"
     ]
    }
   ],
   "source": [
    "nums= [2,3,4,5,6,7,8,9]\n",
    "ops1=  ['+','-','*','/','%']\n",
    "\n",
    "def 平方根(x):\n",
    "    y= x**(1/2)\n",
    "    return y\n",
    "\n",
    "def 立方根(x):\n",
    "    y= x**(1/3)\n",
    "    return y\n",
    "\n",
    "ops2= ['','平方根','立方根'] \n",
    "\n",
    "for n in nums:\n",
    "  for op1 in ops1:\n",
    "    for op2 in ops1:\n",
    "      for op3 in ops2:\n",
    "        for op4 in ops2:\n",
    "          for op5 in ops2:\n",
    "            exp= f'{op3}({n}) {op1} {op4}({n}) {op2} {op5}({n})'\n",
    "            y= eval(exp)\n",
    "            z= (y==6.0)\n",
    "            if z is True:\n",
    "                print(exp)\n"
   ]
  },
  {
   "cell_type": "code",
   "execution_count": null,
   "metadata": {},
   "outputs": [],
   "source": []
  },
  {
   "cell_type": "code",
   "execution_count": null,
   "metadata": {},
   "outputs": [],
   "source": []
  }
 ],
 "metadata": {
  "kernelspec": {
   "display_name": "Python 3",
   "language": "python",
   "name": "python3"
  },
  "language_info": {
   "codemirror_mode": {
    "name": "ipython",
    "version": 3
   },
   "file_extension": ".py",
   "mimetype": "text/x-python",
   "name": "python",
   "nbconvert_exporter": "python",
   "pygments_lexer": "ipython3",
   "version": "3.7.4"
  },
  "latex_envs": {
   "LaTeX_envs_menu_present": true,
   "autoclose": false,
   "autocomplete": true,
   "bibliofile": "biblio.bib",
   "cite_by": "apalike",
   "current_citInitial": 1,
   "eqLabelWithNumbers": true,
   "eqNumInitial": 1,
   "hotkeys": {
    "equation": "Ctrl-E",
    "itemize": "Ctrl-I"
   },
   "labels_anchors": false,
   "latex_user_defs": false,
   "report_style_numbering": false,
   "user_envs_cfg": false
  },
  "nbTranslate": {
   "displayLangs": [
    "zh-TW",
    "en"
   ],
   "hotkey": "alt-t",
   "langInMainMenu": true,
   "sourceLang": "en",
   "targetLang": "zh-TW",
   "useGoogleTranslate": true
  },
  "toc": {
   "base_numbering": 1,
   "nav_menu": {},
   "number_sections": true,
   "sideBar": true,
   "skip_h1_title": false,
   "title_cell": "Table of Contents",
   "title_sidebar": "Contents",
   "toc_cell": false,
   "toc_position": {},
   "toc_section_display": true,
   "toc_window_display": false
  },
  "varInspector": {
   "cols": {
    "lenName": 16,
    "lenType": 16,
    "lenVar": 40
   },
   "kernels_config": {
    "python": {
     "delete_cmd_postfix": "",
     "delete_cmd_prefix": "del ",
     "library": "var_list.py",
     "varRefreshCmd": "print(var_dic_list())"
    },
    "r": {
     "delete_cmd_postfix": ") ",
     "delete_cmd_prefix": "rm(",
     "library": "var_list.r",
     "varRefreshCmd": "cat(var_dic_list()) "
    }
   },
   "types_to_exclude": [
    "module",
    "function",
    "builtin_function_or_method",
    "instance",
    "_Feature"
   ],
   "window_display": false
  }
 },
 "nbformat": 4,
 "nbformat_minor": 2
}
